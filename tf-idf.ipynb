{
 "cells": [
  {
   "cell_type": "code",
   "execution_count": 49,
   "metadata": {},
   "outputs": [
    {
     "name": "stdout",
     "output_type": "stream",
     "text": [
      "Overwriting mapper.py\n"
     ]
    }
   ],
   "source": [
    "%%writefile mapper.py\n",
    "import sys\n",
    "import re\n",
    "from collections import Counter\n",
    "\n",
    "reload(sys)\n",
    "sys.setdefaultencoding('utf-8') # required to convert to unicode\n",
    "\n",
    "with open('stop_words_en.txt') as f:\n",
    "    stop_words = set(f.read().split())\n",
    "\n",
    "for line in sys.stdin:\n",
    "    try:\n",
    "        article_id, text = unicode(line.strip()).split('\\t', 1)\n",
    "    except ValueError as e:\n",
    "        continue\n",
    "        \n",
    "    words = re.split(\"\\W*\\s+\\W*\", text, flags=re.UNICODE)\n",
    "    words = [x.lower() for x in words if x.lower() not in stop_words]\n",
    "    words_set = set(words)\n",
    "    \n",
    "    num_words = len(words)\n",
    "    counter = Counter(words)\n",
    "    article_id = int(article_id)\n",
    "    for word in words:\n",
    "        frequency = counter[word]\n",
    "        tf = frequency / float(num_words)\n",
    "        print \"%s\\t%d\\t%f\" % (word, article_id, tf)\n"
   ]
  },
  {
   "cell_type": "code",
   "execution_count": 50,
   "metadata": {},
   "outputs": [
    {
     "name": "stdout",
     "output_type": "stream",
     "text": [
      "Overwriting reducer.py\n"
     ]
    }
   ],
   "source": [
    "%%writefile reducer.py\n",
    "from __future__ import division\n",
    "import sys\n",
    "from math import log\n",
    "\n",
    "current_word = None\n",
    "article_dict = {}\n",
    "\n",
    "for line in sys.stdin:\n",
    "    try:\n",
    "        word, article_id, tf = line.strip().split('\\t')\n",
    "        article_id = int(article_id)\n",
    "        tf = float(tf)\n",
    "    except ValueError as e:\n",
    "        continue\n",
    "    \n",
    "    if current_word != word:\n",
    "        if current_word:\n",
    "            idf = 1 / log(1 + len(article_dict))\n",
    "            for key_article_id, tf in article_dict.iteritems():\n",
    "                tfidf = tf * idf\n",
    "                print \"%s\\t%d\\t%f\" % (current_word, key_article_id, tfidf)\n",
    "        article_dict = {}\n",
    "        current_word = word\n",
    "    article_dict[article_id] = tf\n",
    "\n",
    "if current_word:\n",
    "    print \"%s\\t%d\\t%f\" % (current_word, article_id, tfidf)"
   ]
  },
  {
   "cell_type": "code",
   "execution_count": 52,
   "metadata": {},
   "outputs": [
    {
     "name": "stdout",
     "output_type": "stream",
     "text": [
      "0.000351\n"
     ]
    },
    {
     "name": "stderr",
     "output_type": "stream",
     "text": [
      "rm: `tfidf_result_1529467845522776': No such file or directory\n",
      "18/06/20 04:10:47 INFO client.RMProxy: Connecting to ResourceManager at /0.0.0.0:8032\n",
      "18/06/20 04:10:48 INFO client.RMProxy: Connecting to ResourceManager at /0.0.0.0:8032\n",
      "18/06/20 04:10:48 INFO mapred.FileInputFormat: Total input files to process : 1\n",
      "18/06/20 04:10:49 INFO mapreduce.JobSubmitter: number of splits:2\n",
      "18/06/20 04:10:49 INFO mapreduce.JobSubmitter: Submitting tokens for job: job_1529463856073_0010\n",
      "18/06/20 04:10:49 INFO impl.YarnClientImpl: Submitted application application_1529463856073_0010\n",
      "18/06/20 04:10:49 INFO mapreduce.Job: The url to track the job: http://d958f05bfa46:8088/proxy/application_1529463856073_0010/\n",
      "18/06/20 04:10:49 INFO mapreduce.Job: Running job: job_1529463856073_0010\n",
      "18/06/20 04:10:54 INFO mapreduce.Job: Job job_1529463856073_0010 running in uber mode : false\n",
      "18/06/20 04:10:54 INFO mapreduce.Job:  map 0% reduce 0%\n",
      "18/06/20 04:11:09 INFO mapreduce.Job:  map 76% reduce 0%\n",
      "18/06/20 04:11:10 INFO mapreduce.Job:  map 100% reduce 0%\n",
      "18/06/20 04:11:16 INFO mapreduce.Job:  map 100% reduce 13%\n",
      "18/06/20 04:11:18 INFO mapreduce.Job:  map 100% reduce 25%\n",
      "18/06/20 04:11:20 INFO mapreduce.Job:  map 100% reduce 38%\n",
      "18/06/20 04:11:21 INFO mapreduce.Job:  map 100% reduce 50%\n",
      "18/06/20 04:11:22 INFO mapreduce.Job:  map 100% reduce 63%\n",
      "18/06/20 04:11:23 INFO mapreduce.Job:  map 100% reduce 100%\n",
      "18/06/20 04:11:25 INFO mapreduce.Job: Job job_1529463856073_0010 completed successfully\n",
      "18/06/20 04:11:25 INFO mapreduce.Job: Counters: 50\n",
      "\tFile System Counters\n",
      "\t\tFILE: Number of bytes read=330565507\n",
      "\t\tFILE: Number of bytes written=497157406\n",
      "\t\tFILE: Number of read operations=0\n",
      "\t\tFILE: Number of large read operations=0\n",
      "\t\tFILE: Number of write operations=0\n",
      "\t\tHDFS: Number of bytes read=76874501\n",
      "\t\tHDFS: Number of bytes written=76761713\n",
      "\t\tHDFS: Number of read operations=30\n",
      "\t\tHDFS: Number of large read operations=0\n",
      "\t\tHDFS: Number of write operations=16\n",
      "\tJob Counters \n",
      "\t\tKilled reduce tasks=1\n",
      "\t\tLaunched map tasks=2\n",
      "\t\tLaunched reduce tasks=8\n",
      "\t\tData-local map tasks=2\n",
      "\t\tTotal time spent by all maps in occupied slots (ms)=28750\n",
      "\t\tTotal time spent by all reduces in occupied slots (ms)=39739\n",
      "\t\tTotal time spent by all map tasks (ms)=28750\n",
      "\t\tTotal time spent by all reduce tasks (ms)=39739\n",
      "\t\tTotal vcore-milliseconds taken by all map tasks=28750\n",
      "\t\tTotal vcore-milliseconds taken by all reduce tasks=39739\n",
      "\t\tTotal megabyte-milliseconds taken by all map tasks=29440000\n",
      "\t\tTotal megabyte-milliseconds taken by all reduce tasks=40692736\n",
      "\tMap-Reduce Framework\n",
      "\t\tMap input records=4100\n",
      "\t\tMap output records=6971114\n",
      "\t\tMap output bytes=151310280\n",
      "\t\tMap output materialized bytes=165252614\n",
      "\t\tInput split bytes=228\n",
      "\t\tCombine input records=0\n",
      "\t\tCombine output records=0\n",
      "\t\tReduce input groups=426865\n",
      "\t\tReduce shuffle bytes=165252614\n",
      "\t\tReduce input records=6971114\n",
      "\t\tReduce output records=3472685\n",
      "\t\tSpilled Records=20913342\n",
      "\t\tShuffled Maps =16\n",
      "\t\tFailed Shuffles=0\n",
      "\t\tMerged Map outputs=16\n",
      "\t\tGC time elapsed (ms)=693\n",
      "\t\tCPU time spent (ms)=30470\n",
      "\t\tPhysical memory (bytes) snapshot=1962520576\n",
      "\t\tVirtual memory (bytes) snapshot=19749105664\n",
      "\t\tTotal committed heap usage (bytes)=1525678080\n",
      "\tShuffle Errors\n",
      "\t\tBAD_ID=0\n",
      "\t\tCONNECTION=0\n",
      "\t\tIO_ERROR=0\n",
      "\t\tWRONG_LENGTH=0\n",
      "\t\tWRONG_MAP=0\n",
      "\t\tWRONG_REDUCE=0\n",
      "\tFile Input Format Counters \n",
      "\t\tBytes Read=76874273\n",
      "\tFile Output Format Counters \n",
      "\t\tBytes Written=76761713\n",
      "18/06/20 04:11:25 INFO streaming.StreamJob: Output directory: tfidf_result_1529467845522776\n"
     ]
    }
   ],
   "source": [
    "%%bash\n",
    "\n",
    "OUT_DIR=\"tfidf_result_\"$(date +\"%s%6N\")\n",
    "NUM_REDUCERS=8\n",
    "\n",
    "hdfs dfs -rm -r -skipTrash ${OUT_DIR} > /dev/null\n",
    "\n",
    "yarn jar /opt/cloudera/parcels/CDH/lib/hadoop-mapreduce/hadoop-streaming.jar \\\n",
    "    -D mapred.jab.name=\"Streaming tfidf\" \\\n",
    "    -D mapreduce.job.reduces=${NUM_REDUCERS} \\\n",
    "    -files mapper.py,reducer.py,/datasets/stop_words_en.txt \\\n",
    "    -mapper \"python mapper.py\" \\\n",
    "    -reducer \"python reducer.py\" \\\n",
    "    -input /data/wiki/en_articles_part \\\n",
    "    -output ${OUT_DIR} > /dev/null\n",
    "\n",
    "hdfs dfs -cat  ${OUT_DIR}/* | grep -P 'labor\\t12\\t' | cut -f3\n"
   ]
  }
 ],
 "metadata": {
  "kernelspec": {
   "display_name": "Python 2",
   "language": "python",
   "name": "python2"
  },
  "language_info": {
   "codemirror_mode": {
    "name": "ipython",
    "version": 2
   },
   "file_extension": ".py",
   "mimetype": "text/x-python",
   "name": "python",
   "nbconvert_exporter": "python",
   "pygments_lexer": "ipython2",
   "version": "2.7.12"
  }
 },
 "nbformat": 4,
 "nbformat_minor": 2
}
