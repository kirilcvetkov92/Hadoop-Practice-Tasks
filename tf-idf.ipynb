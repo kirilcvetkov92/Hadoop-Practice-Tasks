{
 "cells": [
  {
   "cell_type": "markdown",
   "metadata": {},
   "source": [
    "In this task Hadoop Streaming is used to process Wikipedia articles dump.\n",
    "\n",
    "Dataset location: /data/wiki/en_articles_part\n",
    "\n",
    "Stop words list is in ‘/datasets/stop_words_en.txt’ file.\n",
    "\n",
    "Format: article_id <tab> article_text\n",
    "\n",
    "To parse the articles don’t forget about Unicode (even though this is an English Wikipedia dump, there are many characters from other languages), remove punctuation marks and transform words to lowercase to get the correct quantities. To cope with Unicode we recommend to use the following tokenizer:\n",
    "\n",
    "\n",
    "\u0001\u0001\n",
    "Calculate tf*idf for each pair (word, article) from the Wikipedia dump. Apply the stop words filter to speed up calculations. Term frequency (tf) is a function depending on a term (word) and a document (article):\n",
    "\n",
    "tf(term, doc_id) = Nt/N,\n",
    "\n",
    "where Nt - quantity of particular term in the document, N - the total number of terms in the document (without stop words)\n",
    "\n",
    "Inverse document frequency (idf) is a function depends on a term:\n",
    "\n",
    "idf(term) = 1/log(1 + Dt),\n",
    "\n",
    "where Dt - number of documents in the dataset with the particular term.\n",
    "\n",
    "You can find more information here: https://en.wikipedia.xn--org/wiki/Tfidf-q82h but use just the formulas mentioned above.\n",
    "\n",
    "Output: tf*idf for term=’labor’ and article_id=12\n",
    "\n",
    "Hint: all Wikipedia article_ids are greater than 0. So you can use a dummy article_id=0 to calculate the number of documents with each term.\n",
    "\n",
    "Passed 100%"
   ]
  },
  {
   "cell_type": "code",
   "execution_count": 35,
   "metadata": {},
   "outputs": [
    {
     "name": "stdout",
     "output_type": "stream",
     "text": [
      "Overwriting mapper.py\n"
     ]
    }
   ],
   "source": [
    "%%writefile mapper.py\n",
    "import sys\n",
    "import re\n",
    "from collections import Counter\n",
    "\n",
    "reload(sys)\n",
    "sys.setdefaultencoding('utf-8') # required to convert to unicode\n",
    "\n",
    "with open('stop_words_en.txt') as f:\n",
    "    stop_words = set(f.read().split())\n",
    "\n",
    "for line in sys.stdin:\n",
    "    try:\n",
    "        article_id, text = unicode(line.strip()).split('\\t', 1)\n",
    "    except ValueError as e:\n",
    "        continue\n",
    "        \n",
    "    words = re.split(\"\\W*\\s+\\W*\", text, flags=re.UNICODE)\n",
    "    words = [x.lower() for x in words if x.lower() not in stop_words]\n",
    "    words_set = set(words)\n",
    "    \n",
    "    num_words = len(words)\n",
    "    counter = Counter(words)\n",
    "    article_id = int(article_id)\n",
    "    for word in words:\n",
    "        frequency = counter[word]\n",
    "        tf = frequency / float(num_words)\n",
    "        print \"%s\\t%d\\t%f\" % (word, article_id, tf)\n"
   ]
  },
  {
   "cell_type": "code",
   "execution_count": 11,
   "metadata": {},
   "outputs": [
    {
     "name": "stdout",
     "output_type": "stream",
     "text": [
      "Overwriting reducer.py\n"
     ]
    }
   ],
   "source": [
    "%%writefile reducer.py\n",
    "from __future__ import division\n",
    "import sys\n",
    "from math import log\n",
    "\n",
    "current_word = None\n",
    "article_dict = {}\n",
    "\n",
    "for line in sys.stdin:\n",
    "    try:\n",
    "        word, article_id, tf = line.strip().split('\\t')\n",
    "        article_id = int(article_id)\n",
    "        tf = float(tf)\n",
    "    except ValueError as e:\n",
    "        continue\n",
    "    \n",
    "    if current_word != word:\n",
    "        if current_word:\n",
    "            idf = 1 / log(1 + len(article_dict))\n",
    "            for key_article_id, tf in article_dict.iteritems():\n",
    "                tfidf = tf * idf\n",
    "                print \"%s\\t%d\\t%f\" % (current_word, key_article_id, tfidf)\n",
    "        article_dict = {}\n",
    "        current_word = word\n",
    "    article_dict[article_id] = tf\n",
    "\n",
    "if current_word:\n",
    "    print \"%s\\t%d\\t%f\" % (current_word, article_id, tfidf)"
   ]
  },
  {
   "cell_type": "markdown",
   "metadata": {},
   "source": [
    "# Debugging"
   ]
  },
  {
   "cell_type": "code",
   "execution_count": null,
   "metadata": {},
   "outputs": [],
   "source": [
    "# !hdfs dfs -cat /data/wiki/en_articles_part/articles-part | head -2 > test_file.txt\n",
    "# !cp /datasets/stop_words_en.txt stop_words_en.txt\n",
    "# !cat test_file.txt | python2 mapper.py | sort -k1,1 | python2 reducer.py"
   ]
  },
  {
   "cell_type": "code",
   "execution_count": 1,
   "metadata": {},
   "outputs": [],
   "source": [
    "# ! hdfs dfs -ls /data/wiki"
   ]
  },
  {
   "cell_type": "code",
   "execution_count": 40,
   "metadata": {},
   "outputs": [
    {
     "name": "stdout",
     "output_type": "stream",
     "text": [
      "0.000351\n"
     ]
    },
    {
     "name": "stderr",
     "output_type": "stream",
     "text": [
      "rm: `tfidf_result_1529466951938651': No such file or directory\n",
      "18/06/20 03:55:54 INFO client.RMProxy: Connecting to ResourceManager at /0.0.0.0:8032\n",
      "18/06/20 03:55:54 INFO client.RMProxy: Connecting to ResourceManager at /0.0.0.0:8032\n",
      "18/06/20 03:55:55 INFO mapred.FileInputFormat: Total input files to process : 1\n",
      "18/06/20 03:55:56 INFO mapreduce.JobSubmitter: number of splits:2\n",
      "18/06/20 03:55:56 INFO mapreduce.JobSubmitter: Submitting tokens for job: job_1529463856073_0007\n",
      "18/06/20 03:55:56 INFO impl.YarnClientImpl: Submitted application application_1529463856073_0007\n",
      "18/06/20 03:55:56 INFO mapreduce.Job: The url to track the job: http://d958f05bfa46:8088/proxy/application_1529463856073_0007/\n",
      "18/06/20 03:55:56 INFO mapreduce.Job: Running job: job_1529463856073_0007\n",
      "18/06/20 03:56:00 INFO mapreduce.Job: Job job_1529463856073_0007 running in uber mode : false\n",
      "18/06/20 03:56:00 INFO mapreduce.Job:  map 0% reduce 0%\n",
      "18/06/20 03:56:16 INFO mapreduce.Job:  map 73% reduce 0%\n",
      "18/06/20 03:56:17 INFO mapreduce.Job:  map 100% reduce 0%\n",
      "18/06/20 03:56:24 INFO mapreduce.Job:  map 100% reduce 13%\n",
      "18/06/20 03:56:25 INFO mapreduce.Job:  map 100% reduce 25%\n",
      "18/06/20 03:56:27 INFO mapreduce.Job:  map 100% reduce 38%\n",
      "18/06/20 03:56:29 INFO mapreduce.Job:  map 100% reduce 63%\n",
      "18/06/20 03:56:31 INFO mapreduce.Job:  map 100% reduce 100%\n",
      "18/06/20 03:56:33 INFO mapreduce.Job: Job job_1529463856073_0007 completed successfully\n",
      "18/06/20 03:56:33 INFO mapreduce.Job: Counters: 50\n",
      "\tFile System Counters\n",
      "\t\tFILE: Number of bytes read=330565507\n",
      "\t\tFILE: Number of bytes written=497157396\n",
      "\t\tFILE: Number of read operations=0\n",
      "\t\tFILE: Number of large read operations=0\n",
      "\t\tFILE: Number of write operations=0\n",
      "\t\tHDFS: Number of bytes read=76874501\n",
      "\t\tHDFS: Number of bytes written=76761713\n",
      "\t\tHDFS: Number of read operations=30\n",
      "\t\tHDFS: Number of large read operations=0\n",
      "\t\tHDFS: Number of write operations=16\n",
      "\tJob Counters \n",
      "\t\tKilled reduce tasks=1\n",
      "\t\tLaunched map tasks=2\n",
      "\t\tLaunched reduce tasks=8\n",
      "\t\tData-local map tasks=2\n",
      "\t\tTotal time spent by all maps in occupied slots (ms)=29023\n",
      "\t\tTotal time spent by all reduces in occupied slots (ms)=44604\n",
      "\t\tTotal time spent by all map tasks (ms)=29023\n",
      "\t\tTotal time spent by all reduce tasks (ms)=44604\n",
      "\t\tTotal vcore-milliseconds taken by all map tasks=29023\n",
      "\t\tTotal vcore-milliseconds taken by all reduce tasks=44604\n",
      "\t\tTotal megabyte-milliseconds taken by all map tasks=29719552\n",
      "\t\tTotal megabyte-milliseconds taken by all reduce tasks=45674496\n",
      "\tMap-Reduce Framework\n",
      "\t\tMap input records=4100\n",
      "\t\tMap output records=6971114\n",
      "\t\tMap output bytes=151310280\n",
      "\t\tMap output materialized bytes=165252614\n",
      "\t\tInput split bytes=228\n",
      "\t\tCombine input records=0\n",
      "\t\tCombine output records=0\n",
      "\t\tReduce input groups=426865\n",
      "\t\tReduce shuffle bytes=165252614\n",
      "\t\tReduce input records=6971114\n",
      "\t\tReduce output records=3472685\n",
      "\t\tSpilled Records=20913342\n",
      "\t\tShuffled Maps =16\n",
      "\t\tFailed Shuffles=0\n",
      "\t\tMerged Map outputs=16\n",
      "\t\tGC time elapsed (ms)=657\n",
      "\t\tCPU time spent (ms)=31420\n",
      "\t\tPhysical memory (bytes) snapshot=1962934272\n",
      "\t\tVirtual memory (bytes) snapshot=19753050112\n",
      "\t\tTotal committed heap usage (bytes)=1530396672\n",
      "\tShuffle Errors\n",
      "\t\tBAD_ID=0\n",
      "\t\tCONNECTION=0\n",
      "\t\tIO_ERROR=0\n",
      "\t\tWRONG_LENGTH=0\n",
      "\t\tWRONG_MAP=0\n",
      "\t\tWRONG_REDUCE=0\n",
      "\tFile Input Format Counters \n",
      "\t\tBytes Read=76874273\n",
      "\tFile Output Format Counters \n",
      "\t\tBytes Written=76761713\n",
      "18/06/20 03:56:33 INFO streaming.StreamJob: Output directory: tfidf_result_1529466951938651\n"
     ]
    }
   ],
   "source": [
    "%%bash\n",
    "\n",
    "OUT_DIR=\"tfidf_result_\"$(date +\"%s%6N\")\n",
    "NUM_REDUCERS=8\n",
    "\n",
    "hdfs dfs -rm -r -skipTrash ${OUT_DIR} > /dev/null\n",
    "\n",
    "yarn jar /opt/cloudera/parcels/CDH/lib/hadoop-mapreduce/hadoop-streaming.jar \\\n",
    "    -D mapred.jab.name=\"Streaming tfidf\" \\\n",
    "    -D mapreduce.job.reduces=${NUM_REDUCERS} \\\n",
    "    -files mapper.py,reducer.py,/datasets/stop_words_en.txt \\\n",
    "    -mapper \"python mapper.py\" \\\n",
    "    -reducer \"python reducer.py\" \\\n",
    "    -input /data/wiki/en_articles_part \\\n",
    "    -output ${OUT_DIR} > /dev/null\n",
    "\n",
    "hdfs dfs -cat  ${OUT_DIR}/* | grep -P 'labor\\t12\\t' | cut -f3\n"
   ]
  }
 ],
 "metadata": {
  "kernelspec": {
   "display_name": "Python 2",
   "language": "python",
   "name": "python2"
  },
  "language_info": {
   "codemirror_mode": {
    "name": "ipython",
    "version": 2
   },
   "file_extension": ".py",
   "mimetype": "text/x-python",
   "name": "python",
   "nbconvert_exporter": "python",
   "pygments_lexer": "ipython2",
   "version": "2.7.12"
  }
 },
 "nbformat": 4,
 "nbformat_minor": 2
}
