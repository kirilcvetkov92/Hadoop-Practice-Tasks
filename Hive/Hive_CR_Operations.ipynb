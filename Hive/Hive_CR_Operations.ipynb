{
 "cells": [
  {
   "cell_type": "markdown",
   "metadata": {
    "colab_type": "text",
    "id": "ZfiL39OTJ5sR"
   },
   "source": [
    "# Hive assignment 1"
   ]
  },
  {
   "cell_type": "markdown",
   "metadata": {
    "colab_type": "text",
    "id": "VD19-0y3J5sR"
   },
   "source": [
    "The purpose of this task is to create an external table on the posts data of the `stackoverflow.com` website."
   ]
  },
  {
   "cell_type": "markdown",
   "metadata": {
    "colab_type": "text",
    "id": "nKx3tQ4_J5sS"
   },
   "source": [
    "## Step 1. Intro. Creation of the DB"
   ]
  },
  {
   "cell_type": "markdown",
   "metadata": {
    "colab_type": "text",
    "id": "10mBFHfPJ5sS"
   },
   "source": [
    "Let's create the sandbox database where you will complete your assignment.\n",
    "\n",
    "<b>Note!</b> This code shouldn't be in your submission. Please, remove this code from the notebook before submission."
   ]
  },
  {
   "cell_type": "code",
   "execution_count": 22,
   "metadata": {
    "colab": {
     "autoexec": {
      "startup": false,
      "wait_interval": 0
     }
    },
    "colab_type": "code",
    "id": "v1kw1lFXJ5sU",
    "outputId": "7fa089c4-ee8f-40ec-b220-5101298f1b18"
   },
   "outputs": [
    {
     "name": "stdout",
     "output_type": "stream",
     "text": [
      "Overwriting creation_db.hql\n"
     ]
    }
   ],
   "source": [
    "%%writefile creation_db.hql\n",
    "DROP DATABASE IF EXISTS own_database CASCADE;\n",
    "CREATE DATABASE own_database LOCATION '/user/jovyan/database_metastore';"
   ]
  },
  {
   "cell_type": "code",
   "execution_count": 320,
   "metadata": {},
   "outputs": [
    {
     "name": "stdout",
     "output_type": "stream",
     "text": [
      "Hive 1.1.0\r\n",
      "Subversion git://localhost.localdomain/Users/noland/workspaces/hive-apache/hive -r 3b87e226d9f2ff5d69385ed20704302cffefab21\r\n",
      "Compiled by noland on Wed Feb 18 16:06:08 PST 2015\r\n",
      "From source with checksum bca57a923a7578b7e5e9350ffb165cca\r\n"
     ]
    }
   ],
   "source": [
    "! hive --version"
   ]
  },
  {
   "cell_type": "markdown",
   "metadata": {
    "colab_type": "text",
    "id": "NvsrnOe6J5se"
   },
   "source": [
    "**Don't forget to remove this code before submission!**\n"
   ]
  },
  {
   "cell_type": "markdown",
   "metadata": {
    "colab_type": "text",
    "id": "dPEiXPuAJ5sf"
   },
   "source": [
    "## Step 2. Exploration of the dataset"
   ]
  },
  {
   "cell_type": "markdown",
   "metadata": {
    "colab_type": "text",
    "id": "tdzmqWgQJ5sg"
   },
   "source": [
    "Okay, we have created the database. Let's create your own table for users and posts."
   ]
  },
  {
   "cell_type": "markdown",
   "metadata": {
    "colab_type": "text",
    "id": "Li8EZVxtJ5sg"
   },
   "source": [
    "First of all, let's watch at the datasets for `users` which are located at `/data/stackexchange1000/posts` and for `posts` which is located at `/data/stackexchange1000/users`. Print the first three rows of those datasets.\n"
   ]
  },
  {
   "cell_type": "code",
   "execution_count": 29,
   "metadata": {
    "colab": {
     "autoexec": {
      "startup": false,
      "wait_interval": 0
     }
    },
    "colab_type": "code",
    "id": "HBbrpNdIeM6e"
   },
   "outputs": [
    {
     "name": "stdout",
     "output_type": "stream",
     "text": [
      "reporter:status:Reading \t\r\n",
      "<row Id=\"1394\" PostTypeId=\"2\" ParentId=\"1390\" CreationDate=\"2008-08-04T16:38:03.667\" Score=\"16\" Body=\"&lt;p&gt;Not sure how credible &lt;a href=&quot;http://www.builderau.com.au/program/windows/soa/Getting-started-with-Windows-Server-2008-Core-edition/0,339024644,339288700,00.htm&quot; rel=&quot;nofollow noreferrer&quot;&gt;this source is&lt;/a&gt;, but:&lt;/p&gt;&#xA;&#xA;&lt;blockquote&gt;&#xA;  &lt;p&gt;The Windows Server 2008 Core edition can:&lt;/p&gt;&#xA;  &#xA;  &lt;ul&gt;&#xA;  &lt;li&gt;&lt;p&gt;Run the file server role.&lt;/p&gt;&lt;/li&gt;&#xA;  &lt;li&gt;&lt;p&gt;Run the Hyper-V virtualization server role.&lt;/p&gt;&lt;/li&gt;&#xA;  &lt;li&gt;&lt;p&gt;Run the Directory Services role.&lt;/p&gt;&lt;/li&gt;&#xA;  &lt;li&gt;&lt;p&gt;Run the DHCP server role.&lt;/p&gt;&lt;/li&gt;&#xA;  &lt;li&gt;&lt;p&gt;Run the IIS Web server role.&lt;/p&gt;&lt;/li&gt;&#xA;  &lt;li&gt;&lt;p&gt;Run the DNS server role.&lt;/p&gt;&lt;/li&gt;&#xA;  &lt;li&gt;&lt;p&gt;Run Active Directory Lightweight Directory Services.&lt;/p&gt;&lt;/li&gt;&#xA;  &lt;li&gt;&lt;p&gt;Run the print server role.&lt;/p&gt;&lt;/li&gt;&#xA;  &lt;/ul&gt;&#xA;  &#xA;  &lt;p&gt;The Windows Server 2008 Core edition cannot:&lt;/p&gt;&#xA;  &#xA;  &lt;ul&gt;&#xA;  &lt;li&gt;&lt;p&gt;Run a SQL Server.&lt;/p&gt;&lt;/li&gt;&#xA;  &lt;li&gt;&lt;p&gt;Run an Exchange Server.&lt;/p&gt;&lt;/li&gt;&#xA;  &lt;li&gt;&lt;p&gt;Run Internet Explorer.&lt;/p&gt;&lt;/li&gt;&#xA;  &lt;li&gt;&lt;p&gt;Run Windows Explorer.&lt;/p&gt;&lt;/li&gt;&#xA;  &lt;li&gt;&lt;p&gt;Host a remote desktop session.&lt;/p&gt;&lt;/li&gt;&#xA;  &lt;li&gt;&lt;p&gt;Run MMC snap-in consoles locally.&lt;/p&gt;&lt;/li&gt;&#xA;  &lt;/ul&gt;&#xA;&lt;/blockquote&gt;&#xA;\" OwnerUserId=\"91\" LastEditorUserId=\"1\" LastEditorDisplayName=\"Jeff Atwood\" LastEditDate=\"2008-08-27T13:02:50.273\" LastActivityDate=\"2008-08-27T13:02:50.273\" CommentCount=\"1\" />\t\r\n",
      "<row Id=\"3543\" PostTypeId=\"2\" ParentId=\"3530\" CreationDate=\"2008-08-06T15:24:00.787\" Score=\"37\" Body=\"&lt;p&gt;from &lt;a href=&quot;http://www.timocracy.com/articles/2008/02/21/calling-invoking-rails-rake-tasks-from-within-ruby-for-testing-try-2&quot; rel=&quot;nofollow noreferrer&quot;&gt;timocracy.com&lt;/a&gt;:&lt;/p&gt;&#xA;&#xA;&lt;pre&gt;&lt;code&gt;require 'rake'&#xA;require 'rake/rdoctask'&#xA;require 'rake/testtask'&#xA;require 'tasks/rails'&#xA;&#xA;def capture_stdout&#xA;  s = StringIO.new&#xA;  oldstdout = $stdout&#xA;  $stdout = s&#xA;  yield&#xA;  s.string&#xA;ensure&#xA;  $stdout = oldstdout&#xA;end&#xA;&#xA;Rake.application.rake_require '../../lib/tasks/metric_fetcher'&#xA;results = capture_stdout {Rake.application['metric_fetcher'].invoke}&#xA;&lt;/code&gt;&lt;/pre&gt;&#xA;\" OwnerUserId=\"399\" LastActivityDate=\"2008-08-06T15:24:00.787\" CommentCount=\"3\" />\t\r\n",
      "<row Id=\"4521\" PostTypeId=\"2\" ParentId=\"66\" CreationDate=\"2008-08-07T08:22:27.440\" Score=\"25\" Body=\"&lt;p&gt;A few months back I wrote a blog post about  Fluent Interfaces and LINQ which used an Extension Method on &lt;code&gt;IQueryable&amp;lt;T&amp;gt;&lt;/code&gt; and another class to provide the following natural way of paginating a LINQ collection.&lt;/p&gt;&#xA;&#xA;&lt;pre&gt;&lt;code&gt;var query = from i in ideas&#xA;            select i;&#xA;var pagedCollection = query.InPagesOf(10);&#xA;var pageOfIdeas = pagedCollection.Page(2);&#xA;&lt;/code&gt;&lt;/pre&gt;&#xA;&#xA;&lt;p&gt;You can get the code from the MSDN Code Gallery Page: &lt;a href=&quot;http://code.msdn.microsoft.com/productschallenge&quot; rel=&quot;nofollow noreferrer&quot;&gt;Pipelines, Filters, Fluent API and LINQ to SQL&lt;/a&gt;.&lt;/p&gt;&#xA;\" OwnerUserId=\"358\" LastEditorUserId=\"1105514\" LastEditorDisplayName=\"Mitch Wheat\" LastEditDate=\"2012-08-09T14:59:49.197\" LastActivityDate=\"2012-08-09T14:59:49.197\" CommentCount=\"0\" />\t\r\n",
      "<row Id=\"8689\" PostTypeId=\"2\" ParentId=\"8685\" CreationDate=\"2008-08-12T11:23:28.733\" Score=\"1\" Body=\"&lt;p&gt;Kevin, you work off a solid absolute base (i.e. a date / time), not a relative time period. You then convert to the relative time periods. So, for example, by default, if you were showing a calendar, you'd work from todays date. &lt;/p&gt;&#xA;&#xA;&lt;pre&gt;&lt;code&gt;int strtotime  ( string $time  [, int $now  ] )&#xA;&lt;/code&gt;&lt;/pre&gt;&#xA;&#xA;&lt;p&gt;You can see in the function definition here of strtotime, the second argument is now, i.e. you can change the date from which it's relative.&lt;/p&gt;&#xA;&#xA;&lt;p&gt;This might be easier to display through a quick loop&lt;/p&gt;&#xA;&#xA;&lt;p&gt;This will loop through the last 10 days using &quot;yesterday&quot; as the first argument. We then use date to print it out.&lt;/p&gt;&#xA;&#xA;&lt;pre&gt;&lt;code&gt;$time = time();&#xA;&#xA;for ($i = 0; $i &amp;lt; 10; $i++) {&#xA;    $time = strtotime(&quot;yesterday&quot;, $time);&#xA;    print date(&quot;r&quot;, $time) . &quot;\\n&quot;;&#xA;}&#xA;&lt;/code&gt;&lt;/pre&gt;&#xA;&#xA;&lt;p&gt;So pass the time/date in via the URI so you can save the relative date. &lt;/p&gt;&#xA;\" OwnerUserId=\"1087\" OwnerDisplayName=\"Phil\" LastActivityDate=\"2008-08-12T11:23:28.733\" CommentCount=\"0\" />\t\r\n",
      "<row Id=\"9062\" PostTypeId=\"2\" ParentId=\"6613\" CreationDate=\"2008-08-12T17:20:41.993\" Score=\"1\" Body=\"&lt;p&gt;I've &lt;a href=&quot;http://dlinsin.blogspot.com/2006/11/jboss-rules-example.html&quot; rel=&quot;nofollow noreferrer&quot;&gt;checked out&lt;/a&gt; JBoss Rules aka Drools and it looks pretty good. I'd love to hear from people using it in production, because I'm probably gonna need a rule engine in my current project as well.&lt;/p&gt;&#xA;\" OwnerUserId=\"198\" OwnerDisplayName=\"david\" LastActivityDate=\"2008-08-12T17:20:41.993\" CommentCount=\"0\" />\t\r\n",
      "<row Id=\"14671\" PostTypeId=\"2\" ParentId=\"14577\" CreationDate=\"2008-08-18T14:18:22.310\" Score=\"1\" Body=\"&lt;p&gt;Unless you are willing to duplicate the code in the xref proc, there is no way to avoid using a cursor.&lt;/p&gt;&#xA;\" OwnerUserId=\"414\" OwnerDisplayName=\"Stu\" LastActivityDate=\"2008-08-18T14:18:22.310\" CommentCount=\"0\" />\t\r\n",
      "<row Id=\"16307\" PostTypeId=\"2\" ParentId=\"16298\" CreationDate=\"2008-08-19T14:45:07.997\" Score=\"2\" Body=\"&lt;p&gt;It sounds like the web server on hosttwo.com doesn't allow undefined domains to be passed through.  You also said you wanted to do a redirect, this isn't actually a method for redirecting.  If you bought this domain through GoDaddy you may just want to use their redirection service.&lt;/p&gt;&#xA;\" OwnerUserId=\"17\" OwnerDisplayName=\"Nick Berardi\" LastActivityDate=\"2008-08-19T14:45:07.997\" CommentCount=\"0\" />\t\r\n",
      "<row Id=\"18780\" PostTypeId=\"2\" ParentId=\"18772\" CreationDate=\"2008-08-20T20:44:27.947\" Score=\"0\" Body=\"&lt;p&gt;Have you tried connecting when logged on as domain/server-local Administrator?&lt;/p&gt;&#xA;\" OwnerUserId=\"414\" OwnerDisplayName=\"Stu\" LastActivityDate=\"2008-08-20T20:44:27.947\" CommentCount=\"0\" />\t\r\n",
      "<row Id=\"18929\" PostTypeId=\"2\" ParentId=\"18912\" CreationDate=\"2008-08-20T21:49:23.203\" Score=\"13\" Body=\"&lt;p&gt;This is the best you can do, as far as I know...&lt;/p&gt;&#xA;&#xA;&lt;pre&gt;&lt;code&gt;var keys = [];&#xA;for (var k in h)keys.push(k);&#xA;&lt;/code&gt;&lt;/pre&gt;&#xA;\" OwnerUserId=\"2031\" OwnerDisplayName=\"danb\" LastActivityDate=\"2008-08-20T21:49:23.203\" CommentCount=\"2\" />\t\r\n",
      "cat: write error: Broken pipe\r\n"
     ]
    }
   ],
   "source": [
    "# Your code here. Print the first three rows of posts\n",
    "\n",
    "!cat /data/stackexchange1000/posts/part-00000 | head"
   ]
  },
  {
   "cell_type": "code",
   "execution_count": 189,
   "metadata": {},
   "outputs": [
    {
     "name": "stdout",
     "output_type": "stream",
     "text": [
      "<_sre.SRE_Match object; span=(0, 38), match='CreationDate=\"2008-08-07T08:22:27.440\"'>\n",
      "matchObj.group() :  \n",
      "matchObj.group(1) :  4521\n",
      "matchObj.group(2) :  2008\n",
      "matchObj.group(2) :  08\n"
     ]
    }
   ],
   "source": [
    "import re\n",
    "\n",
    "line = \"Cats are smarter than dogs\"\n",
    "\n",
    "matchObj = re.match( r'(.*) are (.*?) .*', line)\n",
    "\n",
    "a=\"CreationDate=\\\"2008-08-07T08:22:27.440\\\"\"\n",
    "matchObj = re.match(r'.*CreationDate=\\\"(.*)\\\"',a)\n",
    "print(matchObj)\n",
    "\n",
    "line = \"<row Id=\\\"4521\\\" PostTypeId=\\\"2\\\" ParentId=\\\"66\\\" CreationDate=\\\"2008-08-07T08:22:27.440\\\" Score=\\\"25\\\"\"\n",
    "\n",
    "matchObj = re.match( r'(?=.*\\brow Id=\\\"(\\d+)\\\")(?=.*\\bCreationDate=\\\"(\\d{4})-(\\d{2}))', line)\n",
    "\n",
    "#matchObj = re.match( r'.*(.*Id=\\\"(\\\\d+)\\\").*', line)\n",
    "\n",
    "if matchObj:\n",
    "   print (\"matchObj.group() : \", matchObj.group())\n",
    "   print (\"matchObj.group(1) : \", matchObj.group(1))\n",
    "   print (\"matchObj.group(2) : \", matchObj.group(2))\n",
    "   print (\"matchObj.group(2) : \", matchObj.group(3))\n",
    "\n",
    "else:\n",
    "   print (\"No match!!\")"
   ]
  },
  {
   "cell_type": "code",
   "execution_count": 30,
   "metadata": {
    "colab": {
     "autoexec": {
      "startup": false,
      "wait_interval": 0
     }
    },
    "colab_type": "code",
    "id": "bRiLxzoReZ7o"
   },
   "outputs": [
    {
     "name": "stdout",
     "output_type": "stream",
     "text": [
      "reporter:status:Reading \t\r\n",
      "<row Id=\"756\" Reputation=\"2358\" CreationDate=\"2008-08-08T15:31:50.013\" DisplayName=\"Simon Gillbee\" LastAccessDate=\"2016-12-09T15:38:03.453\" WebsiteUrl=\"http://simon.gillbee.com\" Location=\"Pearland, TX\" AboutMe=\"&lt;p&gt;Personally, I am a husband, step-father, grandfather, Christ-worshiper, singer, worship leader, computer programmer, reader, game player, kite flyer, generally all around fun guy (or that fungi?).&lt;/p&gt;&#xA;&#xA;&lt;p&gt;Professionally, I've been developing both commercial and proprietary systems for the last 20 years. These days I'm primarily writing enterprise-scale client and server software using .NET and loving it!&lt;/p&gt;&#xA;&#xA;&lt;h1&gt;SOreadytohelp&lt;/h1&gt;&#xA;\" Views=\"478\" UpVotes=\"352\" DownVotes=\"25\" Age=\"45\" AccountId=\"587\" />\t\r\n",
      "<row Id=\"2050\" Reputation=\"4177\" CreationDate=\"2008-08-20T00:32:49.217\" DisplayName=\"Eric Platon\" LastAccessDate=\"2016-12-10T22:24:27.217\" WebsiteUrl=\"\" Location=\"Tokyo, Japan\" AboutMe=\"\" Views=\"387\" UpVotes=\"1045\" DownVotes=\"6\" Age=\"46\" AccountId=\"1533\" />\t\r\n",
      "<row Id=\"2702\" Reputation=\"445\" CreationDate=\"2008-08-24T15:52:48.143\" DisplayName=\"BillSaysThis\" LastAccessDate=\"2016-11-28T19:25:20.763\" WebsiteUrl=\"http://billsaysthis.com\" AboutMe=\"\" Views=\"153\" UpVotes=\"28\" DownVotes=\"0\" AccountId=\"1964\" />\t\r\n",
      "<row Id=\"5795\" Reputation=\"469\" CreationDate=\"2008-09-11T11:59:42.220\" DisplayName=\"henningst\" LastAccessDate=\"2016-12-09T14:06:55.317\" Location=\"Oslo, Norway\" AboutMe=\"\" Views=\"98\" UpVotes=\"22\" DownVotes=\"2\" AccountId=\"3947\" />\t\r\n",
      "<row Id=\"6174\" Reputation=\"2584\" CreationDate=\"2008-09-12T19:10:15.157\" DisplayName=\"Mark Elder\" LastAccessDate=\"2016-12-07T17:57:52.823\" WebsiteUrl=\"http://www.uaar.net\" Location=\"Rapid City, SD\" AboutMe=\"&lt;p&gt;I work for a small ISV in South Dakota providing desktop software to rural real estate appraisers.&lt;/p&gt;&#xA;&#xA;&lt;h1&gt;SOreadytohelp&lt;/h1&gt;&#xA;\" Views=\"235\" UpVotes=\"586\" DownVotes=\"4\" ProfileImageUrl=\"https://i.stack.imgur.com/MoEoZ.jpg?s=128&amp;g=1\" Age=\"40\" AccountId=\"4166\" />\t\r\n",
      "<row Id=\"12332\" Reputation=\"2718\" CreationDate=\"2008-09-16T13:59:57.553\" DisplayName=\"JBB\" LastAccessDate=\"2011-08-24T18:03:18.493\" WebsiteUrl=\"http://xfinitytv.comcast.net\" Location=\"Philadelphia, PA\" AboutMe=\"&lt;p&gt;Proof you &lt;em&gt;can&lt;/em&gt; learn unix having only been told how to log in, log out, and run 'man ' to see docs for that command. (Hint: Start with 'man man')&lt;/p&gt;&#xA;&#xA;&lt;p&gt;&lt;a href=&quot;http://www.linkedin.com/in/batzel&quot; rel=&quot;nofollow&quot;&gt;http://www.linkedin.com/in/batzel&lt;/a&gt;&lt;/p&gt;&#xA;\" Views=\"263\" UpVotes=\"112\" DownVotes=\"8\" Age=\"44\" AccountId=\"7170\" />\t\r\n",
      "<row Id=\"14357\" Reputation=\"72371\" CreationDate=\"2008-09-16T23:23:24.623\" DisplayName=\"spender\" LastAccessDate=\"2016-12-10T14:25:39.257\" WebsiteUrl=\"http://radiotuna.com\" Location=\"United Kingdom\" AboutMe=\"&lt;p&gt;Tea afficionado, A.I. graduate, &lt;a href=&quot;https://bugzilla.mozilla.org/show_bug.cgi?id=869725&quot; rel=&quot;nofollow&quot;&gt;Mozillian&lt;/a&gt;, company director and CTO at &lt;a href=&quot;http://radiotuna.com&quot; rel=&quot;nofollow&quot;&gt;radiotuna.com&lt;/a&gt;. Come and listen!&lt;/p&gt;&#xA;&#xA;&lt;p&gt;I give my time here because I get so much more in return.&lt;/p&gt;&#xA;\" Views=\"5810\" UpVotes=\"2026\" DownVotes=\"1056\" ProfileImageUrl=\"https://i.stack.imgur.com/BGshb.png\" Age=\"43\" AccountId=\"8089\" />\t\r\n",
      "<row Id=\"17516\" Reputation=\"145889\" CreationDate=\"2008-09-18T10:29:51.940\" DisplayName=\"AnthonyWJones\" LastAccessDate=\"2016-11-22T13:49:03.680\" WebsiteUrl=\"http://geekswithblogs.net/codingbloke\" Location=\"Birmingham, United Kingdom\" AboutMe=\"&lt;p&gt;&lt;p&gt;General interests: C#, Javascript, Agile, Interaction Design&lt;/p&gt;&#xA;&#xA;&lt;p&gt;&lt;p&gt;Current interests:  Silverlight+Toolkit, Windows Phone 7.&lt;/p&gt;&#xA;&#xA;&lt;p&gt;&lt;p&gt;Would like to know more about: WCF, EF, WPF, XNA, SQL 2008, ... the list is endless.&lt;/p&gt;&#xA;&#xA;&lt;p&gt;&lt;p&gt;First to gain the Silverlight badges, now at Gold.&lt;/p&gt;&#xA;\" Views=\"12801\" UpVotes=\"5757\" DownVotes=\"233\" Age=\"50\" AccountId=\"9467\" />\t\r\n",
      "<row Id=\"17693\" Reputation=\"16635\" CreationDate=\"2008-09-18T13:46:50.907\" DisplayName=\"Matt\" LastAccessDate=\"2016-12-08T17:16:17.217\" WebsiteUrl=\"http://www.squaregear.net/\" Location=\"United States\" AboutMe=\"&lt;p&gt;I'm just some guy who does some programming stuff.&lt;/p&gt;&#xA;\" Views=\"832\" UpVotes=\"109\" DownVotes=\"0\" ProfileImageUrl=\"https://i.stack.imgur.com/JgeMc.png\" Age=\"44\" AccountId=\"9547\" />\t\r\n",
      "cat: write error: Broken pipe\r\n"
     ]
    }
   ],
   "source": [
    "# Your code here. Print the first three rows of users\n",
    "!cat /data/stackexchange1000/users/part-00000 | head"
   ]
  },
  {
   "cell_type": "markdown",
   "metadata": {
    "colab_type": "text",
    "id": "cGrOQYgqJ5sn"
   },
   "source": [
    "As you can see, those rows contain some information about posts and users in XML format."
   ]
  },
  {
   "cell_type": "markdown",
   "metadata": {
    "colab_type": "text",
    "id": "AoNccKriJ5sp"
   },
   "source": [
    "<b>Question.</b> Which fields for users and posts do you think are the most important for the analysis? And for joining tables? "
   ]
  },
  {
   "cell_type": "markdown",
   "metadata": {
    "colab_type": "text",
    "id": "1mWC_LHQJ5sr"
   },
   "source": [
    "<h3><b>Please, check your answer with this information!</b></h3>"
   ]
  },
  {
   "cell_type": "markdown",
   "metadata": {
    "colab_type": "text",
    "id": "3hcl3lLyJ5sq"
   },
   "source": [
    "So, the lines not started with the \"row\" tags should be ignored. The valid row contains the following fields and their order is not defined:\n",
    "\n",
    "* Id (integer) - id of the post\n",
    "* PostTypeId (integer: 1 or 2) - 1 for questions, 2 for answers\n",
    "* CreationDate (date) - post creation date in the format \"YYYY-MM-DDTHH:MM:SS.ms\"\n",
    "* Tags (string, optional) - list of post tags, each tag is wrapped with html entities `&lt;` and `&gt;`\n",
    "* OwnerUserId (integer, optional) - user id of the post's author\n",
    "* ParentId (integer, optional) - for answers - id of the question\n",
    "* Score (integer) - score (votes) of a question or an answer, can be negative (!)\n",
    "* FavoriteCount (integer, optional) - how many times the question was added in the favorites"
   ]
  },
  {
   "cell_type": "markdown",
   "metadata": {
    "colab_type": "text",
    "id": "pmQ2vtOVJ5sr"
   },
   "source": [
    "The second part of the dataset contains StackOverflow users.\n",
    "\n",
    "The fields are the following and their order is also not defined:\n",
    "\n",
    "* Id (integer) - user id\n",
    "* Reputation (integer) - user's reputation\n",
    "* CreationDate (string) - creation date in the format \"YYYY-MM-DDTHH:MM:SS.ms\"\n",
    "* DisplayName (string) - user's name\n",
    "* Location (string, options) - user's country\n",
    "* Age (integer, optional) - user's age"
   ]
  },
  {
   "cell_type": "markdown",
   "metadata": {
    "colab_type": "text",
    "id": "Na2THNHnJ5ss"
   },
   "source": [
    "## Step 3. Train your regexp skills"
   ]
  },
  {
   "cell_type": "markdown",
   "metadata": {
    "colab_type": "text",
    "id": "pxFZQpxIJ5st"
   },
   "source": [
    "In this step you will find out how to parse information for complex rows! You will try to create some examples for parsing! There are some general rules for parsing:"
   ]
  },
  {
   "cell_type": "markdown",
   "metadata": {
    "colab_type": "text",
    "id": "YRaJBzTeJ5su"
   },
   "source": [
    "1. To create a regular expression, which describes strings containing two patterns, where the order of the patterns is not defined use the following so-called ‘positive lookahead assertion’ with `?=` group modifier. For example, both strings “Washington Irving” and “Irving Washington” match the pattern:\n",
    "```\n",
    "(?=.*Washington)(?=.*Irving)\n",
    "```.\n",
    "2. To capture groups use round brackets. So, the pattern: `(?=.*(Washington))(?=.*(Irving))` captures `Washington` and `Irving` from both strings: \"William Arthur Irving Washington was an English first-class Cricketer\" and: “Washington Irving was an American writer”.\n",
    "3. Use `\\b` to specify boundaries of words and increase accuracy of your pattern. For example: pattern `(?=.*\\bID=(\\d+))(?=.*\\bUserID=(\\d+))` captures `1` and `2` from the string `ID=1 UserID=2`, whereas pattern without `\\b`: `(?=.*ID=(\\d+))(?=.*UserID=(\\d+))` returns the wrong groups: `2` and `2`.\n",
    "4. In Hive pattern for the external table in SERDEPROPERTIES `input.regex` should describe the whole input string, add `.*` at the end of the pattern.\n",
    "5. Don't forget that for the beginning of string should also be covered. That's why use the pattern `.*?` for lazy initialization of future patterns."
   ]
  },
  {
   "cell_type": "markdown",
   "metadata": {
    "colab_type": "text",
    "id": "cRobnWBYJ5sv"
   },
   "source": [
    "To sum up, you can create your first regex for parsing Id from posts!"
   ]
  },
  {
   "cell_type": "markdown",
   "metadata": {
    "colab_type": "text",
    "id": "fA7LBThaJ5sv"
   },
   "source": [
    "<b>Question!</b> What will be your first regex for parsing Id from the posts? Don't forget to add steps 4 and 5!"
   ]
  },
  {
   "cell_type": "markdown",
   "metadata": {
    "colab_type": "text",
    "id": "jAwyKE9EJ5sw"
   },
   "source": [
    "<div class=\"panel-group\">\n",
    "  <div class=\"panel panel-default\">\n",
    "    <div class=\"panel-heading\">\n",
    "      <h4 class=\"panel-title\">\n",
    "        <a data-toggle=\"collapse\" href=\"#collapse-answer\">Check your answer!</a>\n",
    "      </h4>\n",
    "    </div>\n",
    "    <div id=\"collapse-answer\" class=\"panel-collapse collapse\">\n",
    "      <div class=\"panel-body\">The correct answer is `\".*?(?=.*\\\\bId=\\\"(\\\\d+)\\\").*\"` </div>\n",
    "    </div>\n",
    "  </div>\n",
    "</div>"
   ]
  },
  {
   "cell_type": "markdown",
   "metadata": {
    "colab_type": "text",
    "id": "pirvGNs1J5sx"
   },
   "source": [
    "Let's create the first external table with one row which contains only `Id` field. Let's name it `posts_external_only_id`.\n",
    "You can watch the lecture for the SerDe format: <a href=\"https://www.coursera.org/learn/big-data-analysis/lecture/wAGe6/hive-analytics-regexserde-views\">Serde Format</a> and <a href=\"/notebooks/demos/course02_week02-Demo_submission.ipynb#2.-Creation-the-external-table\">creation of external table</a> tutorial."
   ]
  },
  {
   "cell_type": "code",
   "execution_count": 279,
   "metadata": {
    "colab": {
     "autoexec": {
      "startup": false,
      "wait_interval": 0
     }
    },
    "colab_type": "code",
    "id": "bMdai9W-J5sx"
   },
   "outputs": [
    {
     "name": "stdout",
     "output_type": "stream",
     "text": [
      "Overwriting demo_example.hql\n"
     ]
    }
   ],
   "source": [
    "%%writefile demo_example.hql\n",
    "\n",
    "-- adding necessary JARs and including database\n",
    "ADD JAR /opt/cloudera/parcels/CDH/lib/hive/lib/hive-contrib.jar;\n",
    "ADD JAR /opt/cloudera/parcels/CDH/lib/hive/lib/hive-serde.jar;\n",
    "\n",
    "USE own_database;\n",
    "DROP TABLE IF EXISTS posts_external_only_id;\n",
    "\n",
    "CREATE EXTERNAL TABLE posts_external_only_id (\n",
    "    post_id STRING\n",
    "\n",
    ")\n",
    "ROW FORMAT SERDE 'org.apache.hadoop.hive.contrib.serde2.RegexSerDe'\n",
    "WITH SERDEPROPERTIES (\n",
    " \"input.regex\" = '.*?(?=.*\\\\brow Id=\\\\\"(\\\\d+)\\\\\").*'\n",
    ")\n",
    "STORED AS TEXTFILE\n",
    "LOCATION '/data/stackexchange1000/posts'\n",
    "TBLPROPERTIES (\"skip.header.line.count\"=\"1\");\n",
    "\n"
   ]
  },
  {
   "cell_type": "markdown",
   "metadata": {
    "colab_type": "text",
    "id": "2lNqp7uWJ5s9"
   },
   "source": [
    "Hooray! You have created your first table. Let us watch for this table!"
   ]
  },
  {
   "cell_type": "code",
   "execution_count": 281,
   "metadata": {
    "colab": {
     "autoexec": {
      "startup": false,
      "wait_interval": 0
     }
    },
    "colab_type": "code",
    "id": "Z4m1NcvkJ5s9",
    "outputId": "fb1d255e-e8e6-495d-bdb9-aef62dce66d7"
   },
   "outputs": [
    {
     "name": "stdout",
     "output_type": "stream",
     "text": [
      "Overwriting describe.hql\n"
     ]
    }
   ],
   "source": [
    "%%writefile describe.hql\n",
    "\n",
    "ADD JAR /opt/cloudera/parcels/CDH/lib/hive/lib/hive-contrib.jar;\n",
    "\n",
    "USE own_database;\n",
    "DESCRIBE posts_sample_external_only_id;"
   ]
  },
  {
   "cell_type": "markdown",
   "metadata": {
    "colab_type": "text",
    "id": "kuvkMUIqJ5tE"
   },
   "source": [
    "Let's see that the data is  correctly parsed. For this case, take a select query that chooses for us first 10 rows"
   ]
  },
  {
   "cell_type": "code",
   "execution_count": 287,
   "metadata": {
    "colab": {
     "autoexec": {
      "startup": false,
      "wait_interval": 0
     }
    },
    "colab_type": "code",
    "id": "ZkONpnbTJ5tF"
   },
   "outputs": [
    {
     "name": "stdout",
     "output_type": "stream",
     "text": [
      "Overwriting my_first_select.hql\n"
     ]
    }
   ],
   "source": [
    "%%writefile my_first_select.hql\n",
    "USE own_database;\n",
    "SELECT * FROM posts_external_only_id LIMIT 10;"
   ]
  },
  {
   "cell_type": "markdown",
   "metadata": {
    "colab_type": "text",
    "id": "xFL5R6oTJ5tO"
   },
   "source": [
    "How many posts are there in the dataset? Don't forget to clear the `NULL` values!"
   ]
  },
  {
   "cell_type": "code",
   "execution_count": 264,
   "metadata": {
    "colab": {
     "autoexec": {
      "startup": false,
      "wait_interval": 0
     }
    },
    "colab_type": "code",
    "id": "d0gg-zzyJ5tO"
   },
   "outputs": [
    {
     "name": "stdout",
     "output_type": "stream",
     "text": [
      "Overwriting how_many_posts.hql\n"
     ]
    }
   ],
   "source": [
    "%%writefile how_many_posts.hql\n",
    "USE own_database;\n",
    "ADD JAR /opt/cloudera/parcels/CDH/lib/hive/lib/hive-contrib.jar;\n",
    "ADD JAR /opt/cloudera/parcels/CDH/lib/hive/lib/hive-serde.jar;\n",
    "SELECT COUNT(post_id is not null) as count from posts_external_only_id\n"
   ]
  },
  {
   "cell_type": "code",
   "execution_count": 265,
   "metadata": {
    "colab": {
     "autoexec": {
      "startup": false,
      "wait_interval": 0
     }
    },
    "colab_type": "code",
    "id": "68Zo73CjJ5tT",
    "outputId": "df326357-6789-481e-89b4-bdc8ae8c47b2"
   },
   "outputs": [
    {
     "name": "stdout",
     "output_type": "stream",
     "text": [
      "\n",
      "Logging initialized using configuration in jar:file:/usr/local/apache-hive-1.1.0-bin/lib/hive-common-1.1.0.jar!/hive-log4j.properties\n",
      "OK\n",
      "Time taken: 0.318 seconds\n",
      "Added [/opt/cloudera/parcels/CDH/lib/hive/lib/hive-contrib.jar] to class path\n",
      "Added resources: [/opt/cloudera/parcels/CDH/lib/hive/lib/hive-contrib.jar]\n",
      "Added [/opt/cloudera/parcels/CDH/lib/hive/lib/hive-serde.jar] to class path\n",
      "Added resources: [/opt/cloudera/parcels/CDH/lib/hive/lib/hive-serde.jar]\n",
      "Query ID = jovyan_20180809085656_8de3b23b-c468-46dc-bb4f-f4f9eb0dfc50\n",
      "Total jobs = 1\n",
      "Launching Job 1 out of 1\n",
      "Number of reduce tasks determined at compile time: 1\n",
      "In order to change the average load for a reducer (in bytes):\n",
      "  set hive.exec.reducers.bytes.per.reducer=<number>\n",
      "In order to limit the maximum number of reducers:\n",
      "  set hive.exec.reducers.max=<number>\n",
      "In order to set a constant number of reducers:\n",
      "  set mapreduce.job.reduces=<number>\n",
      "Starting Job = job_1533796806275_0009, Tracking URL = http://a5869741cbc6:8088/proxy/application_1533796806275_0009/\n",
      "Kill Command = /opt/hadoop/bin/hadoop job  -kill job_1533796806275_0009\n",
      "Hadoop job information for Stage-1: number of mappers: 1; number of reducers: 1\n",
      "2018-08-09 08:56:50,250 Stage-1 map = 0%,  reduce = 0%\n",
      "2018-08-09 08:57:05,574 Stage-1 map = 1%,  reduce = 0%, Cumulative CPU 12.61 sec\n",
      "2018-08-09 08:57:23,914 Stage-1 map = 2%,  reduce = 0%, Cumulative CPU 30.64 sec\n",
      "2018-08-09 08:57:36,117 Stage-1 map = 3%,  reduce = 0%, Cumulative CPU 42.66 sec\n",
      "2018-08-09 08:57:54,403 Stage-1 map = 4%,  reduce = 0%, Cumulative CPU 60.75 sec\n",
      "2018-08-09 08:58:11,652 Stage-1 map = 5%,  reduce = 0%, Cumulative CPU 78.77 sec\n",
      "2018-08-09 08:58:29,934 Stage-1 map = 6%,  reduce = 0%, Cumulative CPU 96.77 sec\n",
      "2018-08-09 08:58:48,205 Stage-1 map = 7%,  reduce = 0%, Cumulative CPU 114.82 sec\n",
      "2018-08-09 08:59:06,464 Stage-1 map = 8%,  reduce = 0%, Cumulative CPU 132.82 sec\n",
      "2018-08-09 08:59:23,724 Stage-1 map = 9%,  reduce = 0%, Cumulative CPU 150.83 sec\n",
      "2018-08-09 08:59:48,097 Stage-1 map = 10%,  reduce = 0%, Cumulative CPU 174.87 sec\n",
      "2018-08-09 09:00:12,440 Stage-1 map = 11%,  reduce = 0%, Cumulative CPU 198.88 sec\n",
      "2018-08-09 09:00:24,599 Stage-1 map = 12%,  reduce = 0%, Cumulative CPU 210.84 sec\n",
      "2018-08-09 09:00:41,840 Stage-1 map = 13%,  reduce = 0%, Cumulative CPU 228.82 sec\n",
      "2018-08-09 09:01:00,096 Stage-1 map = 14%,  reduce = 0%, Cumulative CPU 246.84 sec\n",
      "2018-08-09 09:01:24,468 Stage-1 map = 15%,  reduce = 0%, Cumulative CPU 270.84 sec\n",
      "2018-08-09 09:01:47,838 Stage-1 map = 16%,  reduce = 0%, Cumulative CPU 294.85 sec\n",
      "2018-08-09 09:02:18,198 Stage-1 map = 17%,  reduce = 0%, Cumulative CPU 324.86 sec\n",
      "2018-08-09 09:02:30,361 Stage-1 map = 18%,  reduce = 0%, Cumulative CPU 336.89 sec\n",
      "2018-08-09 09:03:05,827 Stage-1 map = 19%,  reduce = 0%, Cumulative CPU 372.95 sec\n",
      "2018-08-09 09:03:30,105 Stage-1 map = 20%,  reduce = 0%, Cumulative CPU 396.96 sec\n",
      "2018-08-09 09:03:54,396 Stage-1 map = 21%,  reduce = 0%, Cumulative CPU 420.85 sec\n",
      "2018-08-09 09:04:12,635 Stage-1 map = 22%,  reduce = 0%, Cumulative CPU 438.76 sec\n",
      "2018-08-09 09:04:48,054 Stage-1 map = 23%,  reduce = 0%, Cumulative CPU 474.72 sec\n",
      "2018-08-09 09:05:06,284 Stage-1 map = 24%,  reduce = 0%, Cumulative CPU 492.71 sec\n",
      "2018-08-09 09:05:36,673 Stage-1 map = 25%,  reduce = 0%, Cumulative CPU 522.73 sec\n",
      "2018-08-09 09:06:06,063 Stage-1 map = 26%,  reduce = 0%, Cumulative CPU 552.73 sec\n",
      "2018-08-09 09:06:30,337 Stage-1 map = 27%,  reduce = 0%, Cumulative CPU 576.69 sec\n",
      "2018-08-09 09:07:06,739 Stage-1 map = 28%,  reduce = 0%, Cumulative CPU 612.7 sec\n",
      "2018-08-09 09:07:36,069 Stage-1 map = 29%,  reduce = 0%, Cumulative CPU 642.7 sec\n",
      "2018-08-09 09:08:00,332 Stage-1 map = 30%,  reduce = 0%, Cumulative CPU 666.69 sec\n",
      "2018-08-09 09:08:24,592 Stage-1 map = 31%,  reduce = 0%, Cumulative CPU 690.75 sec\n",
      "2018-08-09 09:08:42,810 Stage-1 map = 32%,  reduce = 0%, Cumulative CPU 708.81 sec\n",
      "2018-08-09 09:09:18,197 Stage-1 map = 33%,  reduce = 0%, Cumulative CPU 744.78 sec\n",
      "2018-08-09 09:09:42,450 Stage-1 map = 34%,  reduce = 0%, Cumulative CPU 768.79 sec\n",
      "2018-08-09 09:10:12,763 Stage-1 map = 35%,  reduce = 0%, Cumulative CPU 798.79 sec\n",
      "2018-08-09 09:10:37,028 Stage-1 map = 36%,  reduce = 0%, Cumulative CPU 822.79 sec\n",
      "2018-08-09 09:11:12,427 Stage-1 map = 37%,  reduce = 0%, Cumulative CPU 858.8 sec\n",
      "2018-08-09 09:11:36,698 Stage-1 map = 38%,  reduce = 0%, Cumulative CPU 882.81 sec\n",
      "2018-08-09 09:12:07,016 Stage-1 map = 39%,  reduce = 0%, Cumulative CPU 912.75 sec\n",
      "2018-08-09 09:12:30,269 Stage-1 map = 40%,  reduce = 0%, Cumulative CPU 936.75 sec\n",
      "2018-08-09 09:12:48,464 Stage-1 map = 41%,  reduce = 0%, Cumulative CPU 954.73 sec\n",
      "2018-08-09 09:13:18,784 Stage-1 map = 42%,  reduce = 0%, Cumulative CPU 984.71 sec\n",
      "2018-08-09 09:13:43,034 Stage-1 map = 43%,  reduce = 0%, Cumulative CPU 1008.67 sec\n",
      "2018-08-09 09:14:24,480 Stage-1 map = 44%,  reduce = 0%, Cumulative CPU 1050.64 sec\n",
      "2018-08-09 09:14:48,766 Stage-1 map = 45%,  reduce = 0%, Cumulative CPU 1074.64 sec\n",
      "2018-08-09 09:15:25,162 Stage-1 map = 46%,  reduce = 0%, Cumulative CPU 1110.63 sec\n",
      "2018-08-09 09:15:48,418 Stage-1 map = 47%,  reduce = 0%, Cumulative CPU 1134.64 sec\n",
      "2018-08-09 09:16:36,946 Stage-1 map = 48%,  reduce = 0%, Cumulative CPU 1182.62 sec\n",
      "2018-08-09 09:17:07,251 Stage-1 map = 49%,  reduce = 0%, Cumulative CPU 1212.62 sec\n",
      "2018-08-09 09:17:36,561 Stage-1 map = 50%,  reduce = 0%, Cumulative CPU 1242.63 sec\n",
      "2018-08-09 09:18:19,045 Stage-1 map = 51%,  reduce = 0%, Cumulative CPU 1284.61 sec\n",
      "2018-08-09 09:18:48,410 Stage-1 map = 52%,  reduce = 0%, Cumulative CPU 1314.61 sec\n",
      "2018-08-09 09:19:24,802 Stage-1 map = 53%,  reduce = 0%, Cumulative CPU 1350.59 sec\n",
      "2018-08-09 09:19:49,096 Stage-1 map = 54%,  reduce = 0%, Cumulative CPU 1374.6 sec\n",
      "2018-08-09 09:20:18,444 Stage-1 map = 55%,  reduce = 0%, Cumulative CPU 1404.58 sec\n",
      "2018-08-09 09:20:48,761 Stage-1 map = 56%,  reduce = 0%, Cumulative CPU 1434.58 sec\n",
      "2018-08-09 09:21:19,060 Stage-1 map = 57%,  reduce = 0%, Cumulative CPU 1464.59 sec\n",
      "2018-08-09 09:21:43,300 Stage-1 map = 58%,  reduce = 0%, Cumulative CPU 1488.6 sec\n",
      "2018-08-09 09:22:12,589 Stage-1 map = 59%,  reduce = 0%, Cumulative CPU 1518.5 sec\n",
      "2018-08-09 09:22:55,005 Stage-1 map = 60%,  reduce = 0%, Cumulative CPU 1560.72 sec\n",
      "2018-08-09 09:23:25,303 Stage-1 map = 61%,  reduce = 0%, Cumulative CPU 1590.67 sec\n",
      "2018-08-09 09:23:54,590 Stage-1 map = 62%,  reduce = 0%, Cumulative CPU 1620.58 sec\n",
      "2018-08-09 09:24:43,064 Stage-1 map = 63%,  reduce = 0%, Cumulative CPU 1668.54 sec\n",
      "2018-08-09 09:25:13,386 Stage-1 map = 64%,  reduce = 0%, Cumulative CPU 1698.5 sec\n",
      "2018-08-09 09:25:54,803 Stage-1 map = 65%,  reduce = 0%, Cumulative CPU 1740.49 sec\n",
      "2018-08-09 09:26:25,140 Stage-1 map = 66%,  reduce = 0%, Cumulative CPU 1770.44 sec\n",
      "2018-08-09 09:26:54,442 Stage-1 map = 100%,  reduce = 0%, Cumulative CPU 1799.42 sec\n",
      "2018-08-09 09:26:58,500 Stage-1 map = 100%,  reduce = 100%, Cumulative CPU 1800.43 sec\n",
      "MapReduce Total cumulative CPU time: 30 minutes 0 seconds 430 msec\n",
      "Ended Job = job_1533796806275_0009\n",
      "MapReduce Jobs Launched: \n",
      "Stage-Stage-1: Map: 1  Reduce: 1   Cumulative CPU: 1800.43 sec   HDFS Read: 60006516 HDFS Write: 6 SUCCESS\n",
      "Total MapReduce CPU Time Spent: 30 minutes 0 seconds 430 msec\n",
      "OK\n",
      "39047\n",
      "Time taken: 1816.699 seconds, Fetched: 1 row(s)\n"
     ]
    }
   ],
   "source": [
    "# !hive -f how_many_posts.hql"
   ]
  },
  {
   "cell_type": "markdown",
   "metadata": {
    "colab_type": "text",
    "id": "qjP7lEGZJ5tW"
   },
   "source": [
    "Try to parse different fields: for example, day and month of creation date. Don't forget that Hive will accept values for the capturing group in the lookahead. "
   ]
  },
  {
   "cell_type": "markdown",
   "metadata": {
    "colab_type": "text",
    "id": "9Ai72gzOJ5tX"
   },
   "source": [
    "Now you are ready to complete your task! Before this you can check your regular expression for parsing!"
   ]
  },
  {
   "cell_type": "code",
   "execution_count": 266,
   "metadata": {
    "colab": {
     "autoexec": {
      "startup": false,
      "wait_interval": 0
     }
    },
    "colab_type": "code",
    "id": "RK4ni3GdJ5tY"
   },
   "outputs": [],
   "source": [
    "import re"
   ]
  },
  {
   "cell_type": "code",
   "execution_count": 267,
   "metadata": {
    "colab": {
     "autoexec": {
      "startup": false,
      "wait_interval": 0
     }
    },
    "colab_type": "code",
    "id": "yT8UyDAKJ5tZ"
   },
   "outputs": [],
   "source": [
    "CHECK_ROW = '<row Id=\"1394\" PostTypeId=\"2\" ParentId=\"1390\" CreationDate=\"2008-08-04T16:38:03.667\" Score=\"16\" Body=\"&lt;p&gt;Not sure how credible &lt;a href=&quot;http://www.builderau.com.au/program/windows/soa/Getting-started-with-Windows-Server-2008-Core-edition/0,339024644,339288700,00.htm&quot; rel=&quot;nofollow noreferrer&quot;&gt;this source is&lt;/a&gt;, but:&lt;/p&gt;&#xA;&#xA;&lt;blockquote&gt;&#xA;  &lt;p&gt;The Windows Server 2008 Core edition can:&lt;/p&gt;&#xA;  &#xA;  &lt;ul&gt;&#xA;  &lt;li&gt;&lt;p&gt;Run the file server role.&lt;/p&gt;&lt;/li&gt;&#xA;  &lt;li&gt;&lt;p&gt;Run the Hyper-V virtualization server role.&lt;/p&gt;&lt;/li&gt;&#xA;  &lt;li&gt;&lt;p&gt;Run the Directory Services role.&lt;/p&gt;&lt;/li&gt;&#xA;  &lt;li&gt;&lt;p&gt;Run the DHCP server role.&lt;/p&gt;&lt;/li&gt;&#xA;  &lt;li&gt;&lt;p&gt;Run the IIS Web server role.&lt;/p&gt;&lt;/li&gt;&#xA;  &lt;li&gt;&lt;p&gt;Run the DNS server role.&lt;/p&gt;&lt;/li&gt;&#xA;  &lt;li&gt;&lt;p&gt;Run Active Directory Lightweight Directory Services.&lt;/p&gt;&lt;/li&gt;&#xA;  &lt;li&gt;&lt;p&gt;Run the print server role.&lt;/p&gt;&lt;/li&gt;&#xA;  &lt;/ul&gt;&#xA;  &#xA;  &lt;p&gt;The Windows Server 2008 Core edition cannot:&lt;/p&gt;&#xA;  &#xA;  &lt;ul&gt;&#xA;  &lt;li&gt;&lt;p&gt;Run a SQL Server.&lt;/p&gt;&lt;/li&gt;&#xA;  &lt;li&gt;&lt;p&gt;Run an Exchange Server.&lt;/p&gt;&lt;/li&gt;&#xA;  &lt;li&gt;&lt;p&gt;Run Internet Explorer.&lt;/p&gt;&lt;/li&gt;&#xA;  &lt;li&gt;&lt;p&gt;Run Windows Explorer.&lt;/p&gt;&lt;/li&gt;&#xA;  &lt;li&gt;&lt;p&gt;Host a remote desktop session.&lt;/p&gt;&lt;/li&gt;&#xA;  &lt;li&gt;&lt;p&gt;Run MMC snap-in consoles locally.&lt;/p&gt;&lt;/li&gt;&#xA;  &lt;/ul&gt;&#xA;&lt;/blockquote&gt;&#xA;\" OwnerUserId=\"91\" LastEditorUserId=\"1\" LastEditorDisplayName=\"Jeff Atwood\" LastEditDate=\"2008-08-27T13:02:50.273\" LastActivityDate=\"2008-08-27T13:02:50.273\" CommentCount=\"1\" />'"
   ]
  },
  {
   "cell_type": "code",
   "execution_count": 268,
   "metadata": {
    "colab": {
     "autoexec": {
      "startup": false,
      "wait_interval": 0
     }
    },
    "colab_type": "code",
    "id": "CGLH3FM_J5tb"
   },
   "outputs": [],
   "source": [
    "CHECK_REGEX = '.*?(?=.*\\\\brow Id=\\\\\"(\\\\d+)\\\\\").*(?=.*\\\\bCreationDate=\\\\\"(\\\\d{4})-(\\\\d{2})).*'"
   ]
  },
  {
   "cell_type": "code",
   "execution_count": 269,
   "metadata": {
    "colab": {
     "autoexec": {
      "startup": false,
      "wait_interval": 0
     }
    },
    "colab_type": "code",
    "id": "P8ZiiwbqJ5tf"
   },
   "outputs": [],
   "source": [
    "result = re.match(CHECK_REGEX, CHECK_ROW)"
   ]
  },
  {
   "cell_type": "code",
   "execution_count": 270,
   "metadata": {
    "colab": {
     "autoexec": {
      "startup": false,
      "wait_interval": 0
     }
    },
    "colab_type": "code",
    "id": "lKWMRzJNJ5ti"
   },
   "outputs": [],
   "source": [
    "# Sanity check\n",
    "assert result.group(0) == CHECK_ROW"
   ]
  },
  {
   "cell_type": "code",
   "execution_count": 276,
   "metadata": {
    "colab": {
     "autoexec": {
      "startup": false,
      "wait_interval": 0
     }
    },
    "colab_type": "code",
    "id": "JeTfyTUwJ5tk"
   },
   "outputs": [
    {
     "name": "stdout",
     "output_type": "stream",
     "text": [
      "('1394', '2008', '08')\n"
     ]
    }
   ],
   "source": [
    "# Check that your groups are correct\n",
    "print(result.groups())"
   ]
  },
  {
   "cell_type": "markdown",
   "metadata": {
    "colab_type": "text",
    "id": "agtKfzx2J5tm"
   },
   "source": [
    "## Step 4. Complete the assignment"
   ]
  },
  {
   "cell_type": "code",
   "execution_count": 293,
   "metadata": {
    "colab": {
     "autoexec": {
      "startup": false,
      "wait_interval": 0
     }
    },
    "colab_type": "code",
    "id": "jRdQeLwkJ5tn"
   },
   "outputs": [
    {
     "name": "stdout",
     "output_type": "stream",
     "text": [
      "Overwriting task1_create_external_table.hql\n"
     ]
    }
   ],
   "source": [
    "%%writefile task1_create_external_table.hql\n",
    "\n",
    "-- adding necessary JARs and including database\n",
    "ADD JAR /opt/cloudera/parcels/CDH/lib/hive/lib/hive-contrib.jar;\n",
    "ADD JAR /opt/cloudera/parcels/CDH/lib/hive/lib/hive-serde.jar;\n",
    "\n",
    "USE own_database;\n",
    "DROP TABLE IF EXISTS posts_sample_external;\n",
    "\n",
    "CREATE EXTERNAL TABLE posts_sample_external (\n",
    "    post_id STRING,\n",
    "    year STRING,\n",
    "    month STRING\n",
    ")\n",
    "ROW FORMAT SERDE 'org.apache.hadoop.hive.contrib.serde2.RegexSerDe'\n",
    "WITH SERDEPROPERTIES (\n",
    " \"input.regex\" = '.*?(?=.*\\\\brow Id=\\\\\"(\\\\d+)\\\\\").*(?=.*\\\\bCreationDate=\\\\\"(\\\\d{4})-(\\\\d{2})).*'\n",
    ")\n",
    "STORED AS TEXTFILE\n",
    "LOCATION '/data/stackexchange1000/posts'\n",
    "TBLPROPERTIES (\"skip.header.line.count\"=\"1\");\n"
   ]
  },
  {
   "cell_type": "markdown",
   "metadata": {
    "colab_type": "text",
    "id": "XaImIBNKJ5ts"
   },
   "source": [
    "Make sure that you have created your table correctly. Select the first 10 posts from the dataset."
   ]
  },
  {
   "cell_type": "code",
   "execution_count": 295,
   "metadata": {
    "colab": {
     "autoexec": {
      "startup": false,
      "wait_interval": 0
     }
    },
    "colab_type": "code",
    "id": "2LdLWs-cJ5tt"
   },
   "outputs": [
    {
     "name": "stdout",
     "output_type": "stream",
     "text": [
      "Overwriting task1_check_select.hql\n"
     ]
    }
   ],
   "source": [
    "%%writefile task1_check_select.hql\n",
    "\n",
    "USE own_database;\n",
    "SELECT * FROM posts_sample_external LIMIT 10;"
   ]
  },
  {
   "cell_type": "markdown",
   "metadata": {
    "colab_type": "text",
    "id": "dqfA8StqJ5tx"
   },
   "source": [
    "Create managed table `posts_sample`. Create the partition by the month and by the year. "
   ]
  },
  {
   "cell_type": "code",
   "execution_count": 305,
   "metadata": {
    "colab": {
     "autoexec": {
      "startup": false,
      "wait_interval": 0
     }
    },
    "colab_type": "code",
    "id": "0N7DS8HaJ5tx"
   },
   "outputs": [
    {
     "name": "stdout",
     "output_type": "stream",
     "text": [
      "Overwriting task1_create_managed_table.hql\n"
     ]
    }
   ],
   "source": [
    "%%writefile task1_create_managed_table.hql\n",
    "\n",
    "ADD JAR /opt/cloudera/parcels/CDH/lib/hive/lib/hive-contrib.jar;\n",
    "\n",
    "SET hive.exec.dynamic.partition.mode=nonstrict;\n",
    "\n",
    "USE own_database;\n",
    "DROP TABLE if exists posts_sample; \n",
    "\n",
    "CREATE TABLE posts_sample(\n",
    "    post_count INT\n",
    ") \n",
    "PARTITIONED BY (year INT, month INT);"
   ]
  },
  {
   "cell_type": "markdown",
   "metadata": {
    "colab_type": "text",
    "id": "YUNkq4SXJ5t0"
   },
   "source": [
    "Populate data from the table `posts_sample_external` to the table `posts_sample`. Don't forget about the partitioning rules!"
   ]
  },
  {
   "cell_type": "code",
   "execution_count": 309,
   "metadata": {
    "colab": {
     "autoexec": {
      "startup": false,
      "wait_interval": 0
     }
    },
    "colab_type": "code",
    "id": "HdCM4rS7J5t0"
   },
   "outputs": [
    {
     "name": "stdout",
     "output_type": "stream",
     "text": [
      "Overwriting task1_insert_table.hql\n"
     ]
    }
   ],
   "source": [
    "%%writefile task1_insert_table.hql\n",
    "\n",
    "ADD JAR /opt/cloudera/parcels/CDH/lib/hive/lib/hive-contrib.jar;\n",
    "SET hive.exec.dynamic.partition.mode=nonstrict;\n",
    "USE own_database;\n",
    "\n",
    "FROM posts_sample_external\n",
    "INSERT OVERWRITE TABLE posts_sample\n",
    "PARTITION (year, month)\n",
    "SELECT COUNT(post_id) as post_count, year, month\n",
    "WHERE year IS NOT NULL and month is not NULL \n",
    "GROUP BY year, month;"
   ]
  },
  {
   "cell_type": "markdown",
   "metadata": {
    "colab_type": "text",
    "id": "_QZWORJwJ5t4"
   },
   "source": [
    "Make sure that your table contains appropriate data about posts"
   ]
  },
  {
   "cell_type": "code",
   "execution_count": 318,
   "metadata": {
    "colab": {
     "autoexec": {
      "startup": false,
      "wait_interval": 0
     }
    },
    "colab_type": "code",
    "id": "1ySBr38iJ5t7"
   },
   "outputs": [
    {
     "name": "stdout",
     "output_type": "stream",
     "text": [
      "Overwriting task1_watch_new_table.hql\n"
     ]
    }
   ],
   "source": [
    "%%writefile task1_watch_new_table.hql\n",
    "USE own_database;\n",
    "SELECT * FROM posts_sample LIMIT 100;"
   ]
  },
  {
   "cell_type": "markdown",
   "metadata": {
    "colab_type": "text",
    "id": "6qpvRyrvJ5t_"
   },
   "source": [
    "Take the third row of the dataset in the ascending order for the posts (firstly by year, after that by month)"
   ]
  },
  {
   "cell_type": "code",
   "execution_count": 346,
   "metadata": {
    "colab": {
     "autoexec": {
      "startup": false,
      "wait_interval": 0
     }
    },
    "colab_type": "code",
    "id": "IptrKDK8J5t_"
   },
   "outputs": [
    {
     "name": "stdout",
     "output_type": "stream",
     "text": [
      "Overwriting task1_result.hql\n"
     ]
    }
   ],
   "source": [
    "%%writefile task1_result.hql\n",
    "\n",
    "USE own_database;\n",
    "ADD JAR /opt/cloudera/parcels/CDH/lib/hive/lib/hive-contrib.jar;\n",
    "\n",
    "SELECT\n",
    "    result.year as year, \n",
    "    concat_ws(\"-\", string(result.year), string(result.month)) as month, \n",
    "    result.post_count as count\n",
    "FROM (\n",
    "    SELECT \n",
    "        year,\n",
    "        month, \n",
    "        post_count,\n",
    "        ROW_NUMBER() OVER (ORDER BY year, month) as rownum\n",
    "    FROM posts_sample\n",
    ") result\n",
    "WHERE result.rownum = 3"
   ]
  },
  {
   "cell_type": "markdown",
   "metadata": {
    "colab_type": "text",
    "id": "FJTsCVTkJ5uC"
   },
   "source": [
    "## Step 5. Submission part. Do not touch!! And simple run all cells below!"
   ]
  },
  {
   "cell_type": "markdown",
   "metadata": {
    "colab_type": "text",
    "id": "k90P-CwSJ5uC"
   },
   "source": [
    "Copy your notebook from the steps <a href=\"#Step-4.-Complete-the-assignment\">Step 4</a> and <a href=\"#Step-5.-Submission-part.-Do-not-touch!!-And-simple-run-all-cells-below!\">Step 5</a> to the new notebook. Run all the cells! And submit the copied notebook!"
   ]
  },
  {
   "cell_type": "code",
   "execution_count": 348,
   "metadata": {
    "colab": {
     "autoexec": {
      "startup": false,
      "wait_interval": 0
     }
    },
    "colab_type": "code",
    "id": "76fguZmgJ5uD"
   },
   "outputs": [],
   "source": [
    "!cat task1_create_external_table.hql > task1.hql\n",
    "!cat task1_create_managed_table.hql >> task1.hql\n",
    "!cat task1_insert_table.hql >> task1.hql\n",
    "!cat task1_result.hql >> task1.hql"
   ]
  },
  {
   "cell_type": "markdown",
   "metadata": {
    "colab_type": "text",
    "id": "KK3zjw7EJ5uF"
   },
   "source": [
    "Take a look at your submission query!"
   ]
  },
  {
   "cell_type": "code",
   "execution_count": 349,
   "metadata": {
    "colab": {
     "autoexec": {
      "startup": false,
      "wait_interval": 0
     }
    },
    "colab_type": "code",
    "id": "CLawbwF4J5uG"
   },
   "outputs": [
    {
     "name": "stdout",
     "output_type": "stream",
     "text": [
      "\r\n",
      "-- adding necessary JARs and including database\r\n",
      "ADD JAR /opt/cloudera/parcels/CDH/lib/hive/lib/hive-contrib.jar;\r\n",
      "ADD JAR /opt/cloudera/parcels/CDH/lib/hive/lib/hive-serde.jar;\r\n",
      "\r\n",
      "USE own_database;\r\n",
      "DROP TABLE IF EXISTS posts_sample_external;\r\n",
      "\r\n",
      "CREATE EXTERNAL TABLE posts_sample_external (\r\n",
      "    post_id STRING,\r\n",
      "    year STRING,\r\n",
      "    month STRING\r\n",
      ")\r\n",
      "ROW FORMAT SERDE 'org.apache.hadoop.hive.contrib.serde2.RegexSerDe'\r\n",
      "WITH SERDEPROPERTIES (\r\n",
      " \"input.regex\" = '.*?(?=.*\\\\brow Id=\\\\\"(\\\\d+)\\\\\").*(?=.*\\\\bCreationDate=\\\\\"(\\\\d{4})-(\\\\d{2})).*'\r\n",
      ")\r\n",
      "STORED AS TEXTFILE\r\n",
      "LOCATION '/data/stackexchange1000/posts'\r\n",
      "TBLPROPERTIES (\"skip.header.line.count\"=\"1\");\r\n",
      "ADD JAR /opt/cloudera/parcels/CDH/lib/hive/lib/hive-contrib.jar;\r\n",
      "\r\n",
      "SET hive.exec.dynamic.partition.mode=nonstrict;\r\n",
      "\r\n",
      "USE own_database;\r\n",
      "DROP TABLE if exists posts_sample; \r\n",
      "\r\n",
      "CREATE TABLE posts_sample(\r\n",
      "    post_count INT\r\n",
      ") \r\n",
      "PARTITIONED BY (year INT, month INT);\r\n",
      "ADD JAR /opt/cloudera/parcels/CDH/lib/hive/lib/hive-contrib.jar;\r\n",
      "SET hive.exec.dynamic.partition.mode=nonstrict;\r\n",
      "USE own_database;\r\n",
      "\r\n",
      "FROM posts_sample_external\r\n",
      "INSERT OVERWRITE TABLE posts_sample\r\n",
      "PARTITION (year, month)\r\n",
      "SELECT COUNT(post_id) as post_count, year, month\r\n",
      "WHERE year IS NOT NULL and month is not NULL \r\n",
      "GROUP BY year, month;\r\n",
      "USE own_database;\r\n",
      "ADD JAR /opt/cloudera/parcels/CDH/lib/hive/lib/hive-contrib.jar;\r\n",
      "\r\n",
      "SELECT\r\n",
      "    result.year as year, \r\n",
      "    concat_ws(\"-\", string(result.year), string(result.month)) as month, \r\n",
      "    result.post_count as count\r\n",
      "FROM (\r\n",
      "    SELECT \r\n",
      "        year,\r\n",
      "        month, \r\n",
      "        post_count,\r\n",
      "        ROW_NUMBER() OVER (ORDER BY year, month) as rownum\r\n",
      "    FROM posts_sample\r\n",
      ") result\r\n",
      "WHERE result.rownum = 3"
     ]
    }
   ],
   "source": [
    "!cat task1.hql"
   ]
  },
  {
   "cell_type": "code",
   "execution_count": 350,
   "metadata": {
    "colab": {
     "autoexec": {
      "startup": false,
      "wait_interval": 0
     }
    },
    "colab_type": "code",
    "id": "GGO0BjtzJ5uI"
   },
   "outputs": [
    {
     "data": {
      "application/javascript": [
       "\n",
       "$(document).ready(function() {\n",
       "    console.log('Ready');\n",
       "    \n",
       "    \n",
       "    function is_hive_command(list_tokens) {\n",
       "        return list_tokens.indexOf('hive') > -1 && \n",
       "             list_tokens.indexOf('f') > -1 &&\n",
       "             list_tokens.indexOf('-') > -1 && \n",
       "             list_tokens.indexOf('!') > -1 &&\n",
       "             list_tokens.indexOf('hql') > -1 && \n",
       "             list_tokens.indexOf('writefile') == -1;\n",
       "    } \n",
       "    \n",
       "    function collectText(input_tag) {\n",
       "\n",
       "        var result_string = [];\n",
       "        $.each($(input_tag).children(), function(index, child) {\n",
       "            result_string.push($(child).text());\n",
       "        });\n",
       "        return [result_string, is_hive_command(result_string)];\n",
       "    };\n",
       "    \n",
       "    var filtered_results = $(\".cell.code_cell.rendered\").filter(function(index, element) {\n",
       "        var out = collectText($(element).find('.CodeMirror-line').find('span'));\n",
       "        console.log(out);\n",
       "        return collectText($(element).find('.CodeMirror-line').find('span'))[1];\n",
       "    });\n",
       "    $(filtered_results).remove();\n",
       "});"
      ],
      "text/plain": [
       "<IPython.core.display.Javascript object>"
      ]
     },
     "metadata": {},
     "output_type": "display_data"
    }
   ],
   "source": [
    "%%javascript\n",
    "\n",
    "$(document).ready(function() {\n",
    "    console.log('Ready');\n",
    "    \n",
    "    \n",
    "    function is_hive_command(list_tokens) {\n",
    "        return list_tokens.indexOf('hive') > -1 && \n",
    "             list_tokens.indexOf('f') > -1 &&\n",
    "             list_tokens.indexOf('-') > -1 && \n",
    "             list_tokens.indexOf('!') > -1 &&\n",
    "             list_tokens.indexOf('hql') > -1 && \n",
    "             list_tokens.indexOf('writefile') == -1;\n",
    "    } \n",
    "    \n",
    "    function collectText(input_tag) {\n",
    "\n",
    "        var result_string = [];\n",
    "        $.each($(input_tag).children(), function(index, child) {\n",
    "            result_string.push($(child).text());\n",
    "        });\n",
    "        return [result_string, is_hive_command(result_string)];\n",
    "    };\n",
    "    \n",
    "    var filtered_results = $(\".cell.code_cell.rendered\").filter(function(index, element) {\n",
    "        var out = collectText($(element).find('.CodeMirror-line').find('span'));\n",
    "        console.log(out);\n",
    "        return collectText($(element).find('.CodeMirror-line').find('span'))[1];\n",
    "    });\n",
    "    $(filtered_results).remove();\n",
    "});"
   ]
  },
  {
   "cell_type": "code",
   "execution_count": null,
   "metadata": {
    "colab": {
     "autoexec": {
      "startup": false,
      "wait_interval": 0
     }
    },
    "colab_type": "code",
    "id": "unTiTnY_J5uK"
   },
   "outputs": [],
   "source": [
    "%%bash\n",
    "hive -f task1.hql"
   ]
  },
  {
   "cell_type": "markdown",
   "metadata": {
    "colab_type": "text",
    "id": "OwS_Hbx3J5uL"
   },
   "source": [
    "Congratulations! You have completed the assignment! Now you can submit it to the system and get your results!\n",
    "\n",
    "Copy your notebook from the steps <a href=\"#Step-4.-Complete-the-assignment\">Step 4</a> and <a href=\"#Step-5.-Submission-part.-Do-not-touch!!-And-simple-run-all-cells-below!\">Step 5</a> to the new notebook. Run all the cells! And submit the copied notebook!"
   ]
  }
 ],
 "metadata": {
  "colab": {
   "collapsed_sections": [],
   "default_view": {},
   "name": "901_to_students.ipynb",
   "provenance": [],
   "toc_visible": true,
   "version": "0.3.2",
   "views": {}
  },
  "kernelspec": {
   "display_name": "Python 3",
   "language": "python",
   "name": "python3"
  },
  "language_info": {
   "codemirror_mode": {
    "name": "ipython",
    "version": 3
   },
   "file_extension": ".py",
   "mimetype": "text/x-python",
   "name": "python",
   "nbconvert_exporter": "python",
   "pygments_lexer": "ipython3",
   "version": "3.6.2"
  }
 },
 "nbformat": 4,
 "nbformat_minor": 1
}
