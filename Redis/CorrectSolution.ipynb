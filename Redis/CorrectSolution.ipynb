{
 "cells": [
  {
   "cell_type": "code",
   "execution_count": 2,
   "metadata": {
    "colab": {},
    "colab_type": "code",
    "id": "gM3cZKgpHPgv"
   },
   "outputs": [],
   "source": [
    "import redis\n",
    "import time\n",
    "\n",
    "\n",
    "class LimitExceededException(Exception):\n",
    "    pass\n",
    "\n",
    "max_rps = 15  # requests per second\n",
    "\n",
    "# Basic database settings. Don't change this line!\n",
    "r = redis.StrictRedis(host='localhost', port=6381, db=4) "
   ]
  },
  {
   "cell_type": "code",
   "execution_count": 3,
   "metadata": {
    "colab": {},
    "colab_type": "code",
    "id": "V3DfAtm-HPgz"
   },
   "outputs": [],
   "source": [
    "def save_sync(r: redis.StrictRedis, uid: str, partner_id: int, partner_uid: str):\n",
    "    \"\"\"\n",
    "        Set the values for the pairs <partner_id, uid> and <partner_id, partner_uid>\n",
    "        Don't forget to set the ttls which you defined in the function set_ttls\n",
    "\n",
    "    \"\"\"\n",
    "    ttl = r.hget('ttls', partner_id)\n",
    "    if ttl is None:\n",
    "        ttl = 0\n",
    "    pipe = r.pipeline()\n",
    "    pipe.set('uid-partner:{}:{}'.format(partner_id, uid), partner_uid)\n",
    "    pipe.expire('uid-partner:{}:{}'.format(partner_id, uid), ttl)\n",
    "    pipe.set('partner-uid:{}:{}'.format(partner_id, partner_uid), uid)\n",
    "    pipe.expire('partner-uid:{}:{}'.format(partner_id, partner_uid), ttl)\n",
    "    \n",
    "    pipe.execute()\n",
    "\n",
    "        \n",
    "def get_partner_uid(r: redis.StrictRedis, uid: str, partner_id: int):\n",
    "    \"\"\"Get the partner id by the pair (uid, partner id)\n",
    "    \n",
    "    Args:\n",
    "        r (redis.StrictRedis): redis instance\n",
    "        uid (str): our uid\n",
    "        partner_id (str): id of the partner\n",
    "        \n",
    "    Examples:\n",
    "        >>> get_partner_uid(r, 'e5a370cc-6bdc-43ae-baaa-8fd4531847f7', 12)\n",
    "    \"\"\"\n",
    "    restrict_function(r, 'get_partner_uid')\n",
    "    return r.get('uid-partner:{}:{}'.format(partner_id, uid))\n",
    "\n",
    "\n",
    "def get_uid(r: redis.StrictRedis, partner_id: int, partner_uid: str):\n",
    "    \"\"\"Get the uid by the pair (partner id, partner uid)\n",
    "    \n",
    "    Args:\n",
    "        r (redis.StrictRedis): redis instance\n",
    "        partner_id (int): id of partner\n",
    "        partner_uid (str): uid of partner\n",
    "        \n",
    "    Examples:\n",
    "        >>> get_uid(r, 12, '25b6e9a6-fca8-427c-94df-2577e62b2bf0')\n",
    "\n",
    "    \"\"\"\n",
    "    restrict_function(r, 'get_uid')\n",
    "    return r.get('partner-uid:{}:{}'.format(partner_id, partner_uid))\n",
    "\n",
    "\n",
    "def set_ttls(r: redis.StrictRedis, ttls):\n",
    "    \"\"\"Set the ttl by partner id\n",
    "       \n",
    "    Args:\n",
    "        r (redis.StrictRedis): redis instance\n",
    "        ttls (dict): dictionary of pairs <partner_id, ttl>\n",
    "        \n",
    "    Examples:\n",
    "        >>> set_ttls(r, {12: 5, 3: 0.25})\n",
    "\n",
    "    \"\"\"\n",
    "    for partner_id, ttl in ttls.items():\n",
    "        r.hset('ttls', partner_id, ttl)\n",
    "\n",
    "def restrict_function(r, func_name):\n",
    "    pipe = r.pipeline()\n",
    "    if not r.get(func_name):\n",
    "        pipe.set(func_name, 0)   \n",
    "        pipe.expire(func_name, 1)\n",
    "    \n",
    "    pipe.incrby(func_name, 1)\n",
    "    pipe.execute()\n",
    "    c = r.get(func_name)\n",
    "    if(c and int(c)>max_rps):\n",
    "        raise LimitExceededException"
   ]
  },
  {
   "cell_type": "code",
   "execution_count": 4,
   "metadata": {},
   "outputs": [],
   "source": [
    "\n",
    "import time\n",
    "from random import sample\n",
    "\n",
    "from uuid import uuid4\n",
    "\n",
    "\n",
    "def make_sample_data(uid_count, partner_id_count):\n",
    "\n",
    "    uids = {}\n",
    "    for i in range(uid_count):\n",
    "        uid = str(uuid4())\n",
    "        partners = range(partner_id_count)\n",
    "        uids[uid] = {p: str(uuid4()) for p in partners}\n",
    "\n",
    "    return uids\n",
    "\n",
    "\n",
    "def test1(id: str):\n",
    "\n",
    "    try:\n",
    "        partner_id_count = 5\n",
    "\n",
    "        r.flushdb()\n",
    "        sample_data = make_sample_data(\n",
    "            uid_count=5,\n",
    "            partner_id_count=5\n",
    "        )\n",
    "\n",
    "        ttls = {p_id: 10 for p_id in range(partner_id_count)}\n",
    "\n",
    "        set_ttls(r, ttls)\n",
    "        for uid, partners in sample_data.items():\n",
    "            for partner_id, partner_uid in partners.items():\n",
    "                save_sync(r, uid, partner_id, partner_uid)\n",
    "        for uid, partners in sample_data.items():\n",
    "            for partner_id, partner_uid in partners.items():\n",
    "                assert partner_uid == get_partner_uid(r, uid, partner_id).decode('utf-8'), 'partner_uid missing'\n",
    "                assert uid == get_uid(r, partner_id, partner_uid).decode('utf-8'), 'uid missing'\n",
    "        print(f'Test 1: ok, id={id}')\n",
    "    except Exception:\n",
    "        print('Test 1: incorrect answer')\n",
    "\n"
   ]
  },
  {
   "cell_type": "code",
   "execution_count": 5,
   "metadata": {},
   "outputs": [],
   "source": [
    "\n",
    "def test2(id: str):\n",
    "\n",
    "    try:\n",
    "        r.flushdb()\n",
    "        sample_data = make_sample_data(\n",
    "            uid_count=3,\n",
    "            partner_id_count=3\n",
    "        )\n",
    "\n",
    "        ttls = {0: 0, 1: 1, 2: 3}\n",
    "\n",
    "        set_ttls(r, ttls)\n",
    "\n",
    "        for uid, partners in sample_data.items():\n",
    "            for partner_id, partner_uid in partners.items():\n",
    "                save_sync(r, uid, partner_id, partner_uid)\n",
    "\n",
    "        for uid, partners in sample_data.items():\n",
    "            for partner_id in [0]:\n",
    "                partner_uid = partners[partner_id]\n",
    "                assert get_partner_uid(r, uid, partner_id) is None\n",
    "                assert get_uid(r, partner_id, partner_uid) is None\n",
    "\n",
    "            for partner_id in [1, 2]:\n",
    "                partner_uid = partners[partner_id]\n",
    "                assert partner_uid == get_partner_uid(r, uid, partner_id).decode('utf-8')\n",
    "                assert uid == get_uid(r, partner_id, partner_uid).decode('utf-8')\n",
    "\n",
    "        time.sleep(1)\n",
    "        for uid, partners in sample_data.items():\n",
    "            for partner_id in [0, 1]:\n",
    "                partner_uid = partners[partner_id]\n",
    "                assert get_partner_uid(r, uid, partner_id) is None\n",
    "                assert get_uid(r, partner_id, partner_uid) is None\n",
    "\n",
    "            for partner_id in [2]:\n",
    "                partner_uid = partners[partner_id]\n",
    "                assert partner_uid == get_partner_uid(r, uid, partner_id).decode('utf-8')\n",
    "                assert uid == get_uid(r, partner_id, partner_uid).decode('utf-8')\n",
    "\n",
    "        for uid, partners in sample_data.items():\n",
    "            for partner_id in [1, 2]:\n",
    "                partner_uid = partners[partner_id]\n",
    "                save_sync(r, uid, partner_id, partner_uid)\n",
    "\n",
    "        for uid, partners in sample_data.items():\n",
    "            for partner_id in [0]:\n",
    "                partner_uid = partners[partner_id]\n",
    "                assert get_partner_uid(r, uid, partner_id) is None\n",
    "                assert get_uid(r, partner_id, partner_uid) is None\n",
    "\n",
    "            for partner_id in [1, 2]:\n",
    "                partner_uid = partners[partner_id]\n",
    "                assert partner_uid == get_partner_uid(r, uid, partner_id).decode('utf-8')\n",
    "                assert uid == get_uid(r, partner_id, partner_uid).decode('utf-8')\n",
    "\n",
    "        time.sleep(2)\n",
    "\n",
    "        for uid, partners in sample_data.items():\n",
    "            for partner_id in [0, 1]:\n",
    "                partner_uid = partners[partner_id]\n",
    "                assert get_partner_uid(r, uid, partner_id) is None\n",
    "                assert get_uid(r, partner_id, partner_uid) is None\n",
    "\n",
    "            for partner_id in [2]:\n",
    "                partner_uid = partners[partner_id]\n",
    "                assert partner_uid == get_partner_uid(r, uid, partner_id).decode('utf-8')\n",
    "                assert uid == get_uid(r, partner_id, partner_uid).decode('utf-8')\n",
    "        print(f'Test 2: ok, id={id}')\n",
    "    except Exception:\n",
    "        print('Test 2: incorrect answer')\n",
    "\n"
   ]
  },
  {
   "cell_type": "code",
   "execution_count": 6,
   "metadata": {},
   "outputs": [],
   "source": [
    "\n",
    "def test3(id: str):\n",
    "\n",
    "    r.flushdb()\n",
    "    try:\n",
    "        sample_data = make_sample_data(\n",
    "            uid_count=2,\n",
    "            partner_id_count=2\n",
    "        )\n",
    "\n",
    "        first_uid, second_uid = list(sample_data)\n",
    "\n",
    "        ttls = {0: 1, 1: 1}\n",
    "        set_ttls(r, ttls)\n",
    "\n",
    "        for partner_id, partner_uid in sample_data[first_uid].items():\n",
    "            save_sync(r, first_uid, partner_id, partner_uid)\n",
    "\n",
    "        ttls_upd = {0: 3}\n",
    "        set_ttls(r, ttls_upd)\n",
    "        for partner_id, partner_uid in sample_data[second_uid].items():\n",
    "            save_sync(r, second_uid, partner_id, partner_uid)\n",
    "\n",
    "        for uid, partners in sample_data.items():\n",
    "            for partner_id in [0, 1]:\n",
    "                partner_uid = partners[partner_id]\n",
    "                assert partner_uid == get_partner_uid(r, uid, partner_id).decode('utf-8')\n",
    "                assert uid == get_uid(r, partner_id, partner_uid).decode('utf-8')\n",
    "\n",
    "        time.sleep(2)\n",
    "\n",
    "        partners = sample_data[second_uid]\n",
    "        partner_id = 0\n",
    "        partner_uid = partners[partner_id]\n",
    "        assert partner_uid == get_partner_uid(r, second_uid, partner_id).decode('utf-8')\n",
    "        assert second_uid == get_uid(r, partner_id, partner_uid).decode('utf-8')\n",
    "\n",
    "        for uid, partners in sample_data.items():\n",
    "            for partner_id, partner_uid in partners.items():\n",
    "                if uid == second_uid and partner_id == 0:\n",
    "                    continue\n",
    "                assert get_partner_uid(r, uid, partner_id) is None\n",
    "                assert get_uid(r, partner_id, partner_uid) is None\n",
    "\n",
    "        print(f'Test 3: ok, id={id}')\n",
    "    except Exception:\n",
    "        print('Test 3: incorrect answer')\n",
    "\n"
   ]
  },
  {
   "cell_type": "code",
   "execution_count": 7,
   "metadata": {},
   "outputs": [],
   "source": [
    "\n",
    "def test4(id: str):\n",
    "\n",
    "    r.flushdb()\n",
    "    try:\n",
    "        sample_data = make_sample_data(\n",
    "            uid_count=2,\n",
    "            partner_id_count=2\n",
    "        )\n",
    "        ttls = {1: 2}\n",
    "\n",
    "        set_ttls(r, ttls)\n",
    "\n",
    "        for uid, partners in sample_data.items():\n",
    "            for partner_id, partner_uid in partners.items():\n",
    "                save_sync(r, uid, partner_id, partner_uid)\n",
    "\n",
    "        time.sleep(1)\n",
    "\n",
    "        for uid, partners in sample_data.items():\n",
    "            for partner_id, partner_uid in partners.items():\n",
    "                if partner_id == 0:\n",
    "                    assert get_partner_uid(r, uid, partner_id) is None\n",
    "                    assert get_uid(r, partner_id, partner_uid) is None\n",
    "                else:\n",
    "                    assert partner_uid == get_partner_uid(r, uid, partner_id).decode('utf-8')\n",
    "                    assert uid == get_uid(r, partner_id, partner_uid).decode('utf-8')\n",
    "\n",
    "        print(f'Test 4: ok, id={id}')\n",
    "    except Exception:\n",
    "        print('Test 4: incorrect answer')\n",
    "\n"
   ]
  },
  {
   "cell_type": "code",
   "execution_count": 8,
   "metadata": {},
   "outputs": [],
   "source": [
    "\n",
    "def test5(id: str):\n",
    "    try:\n",
    "        start = time.time()\n",
    "        r.flushdb()\n",
    "\n",
    "        partner_id_count = 500\n",
    "\n",
    "        uids = {}\n",
    "        for i in range(1000):\n",
    "            uid = str(uuid4())\n",
    "            partners = sample(range(partner_id_count), 5)\n",
    "            uids[uid] = {p: str(uuid4()) for p in partners}\n",
    "\n",
    "        ttls = {i: 5 for i in range(500)}\n",
    "\n",
    "        for i in range(501, 1000):\n",
    "            ttls[i] = 100\n",
    "\n",
    "        set_ttls(r, ttls)\n",
    "\n",
    "        for uid, partners in uids.items():\n",
    "            for partner_id, partner_uid in partners.items():\n",
    "                save_sync(r, uid, partner_id, partner_uid)\n",
    "\n",
    "        time.sleep(5)\n",
    "        bad_count = 0\n",
    "        for uid, partners in uids.items():\n",
    "            for partner_id, partner_uid in partners.items():\n",
    "                if get_partner_uid(r, uid, partner_id) is None:\n",
    "                    bad_count += 1\n",
    "\n",
    "        assert abs(bad_count - 5000) / 5000 < 0.01\n",
    "        end = time.time()\n",
    "        assert end - start < 120\n",
    "        print(f'Test 5: ok, id={id}')\n",
    "    except Exception:\n",
    "        print('Test 5: incorrect answer')\n",
    "\n"
   ]
  },
  {
   "cell_type": "code",
   "execution_count": 9,
   "metadata": {},
   "outputs": [],
   "source": [
    "def test6(id: str):\n",
    "\n",
    "    try:\n",
    "\n",
    "        r.flushdb()\n",
    "        times = 1\n",
    "        for i in range(150):\n",
    "                    try:\n",
    "                        get_partner_uid(r, '0cae0c53-dcbb-40e6-9552-0f385a7746fb', 1)\n",
    "                    except LimitExceededException:\n",
    "                        times+=1\n",
    "                        time.sleep(1)\n",
    "        assert times==10, 'problem in function limitation'\n",
    "\n",
    "        print(f'Test 6: ok, id={id}')\n",
    "    except Exception as e:\n",
    "        print(e)\n",
    "        print(\"exception\")\n",
    "        print('Test 6: incorrect answer')"
   ]
  },
  {
   "cell_type": "code",
   "execution_count": 10,
   "metadata": {},
   "outputs": [
    {
     "name": "stdout",
     "output_type": "stream",
     "text": [
      "Test 1: incorrect answer\n"
     ]
    }
   ],
   "source": [
    "test1('852ccfc9-97e7-4e38-bd9d-cb3c485af374')"
   ]
  },
  {
   "cell_type": "code",
   "execution_count": 11,
   "metadata": {},
   "outputs": [
    {
     "name": "stdout",
     "output_type": "stream",
     "text": [
      "Test 2: incorrect answer\n"
     ]
    }
   ],
   "source": [
    "test2('852ccfc9-97e7-4e38-bd9d-cb3c485af374')"
   ]
  },
  {
   "cell_type": "code",
   "execution_count": 12,
   "metadata": {},
   "outputs": [
    {
     "name": "stdout",
     "output_type": "stream",
     "text": [
      "Test 3: ok, id=852ccfc9-97e7-4e38-bd9d-cb3c485af374\n"
     ]
    }
   ],
   "source": [
    "test3('852ccfc9-97e7-4e38-bd9d-cb3c485af374')"
   ]
  },
  {
   "cell_type": "code",
   "execution_count": 13,
   "metadata": {},
   "outputs": [
    {
     "name": "stdout",
     "output_type": "stream",
     "text": [
      "Test 4: ok, id=852ccfc9-97e7-4e38-bd9d-cb3c485af374\n"
     ]
    }
   ],
   "source": [
    "test4('852ccfc9-97e7-4e38-bd9d-cb3c485af374')"
   ]
  },
  {
   "cell_type": "code",
   "execution_count": 14,
   "metadata": {},
   "outputs": [
    {
     "name": "stdout",
     "output_type": "stream",
     "text": [
      "Test 5: ok, id=852ccfc9-97e7-4e38-bd9d-cb3c485af374\n"
     ]
    }
   ],
   "source": [
    "max_rps=100000\n",
    "test5('852ccfc9-97e7-4e38-bd9d-cb3c485af374')"
   ]
  },
  {
   "cell_type": "code",
   "execution_count": 16,
   "metadata": {},
   "outputs": [
    {
     "name": "stdout",
     "output_type": "stream",
     "text": [
      "Test 6: ok, id=852ccfc9-97e7-4e38-bd9d-cb3c485af374\n"
     ]
    }
   ],
   "source": [
    "max_rps=15\n",
    "test6('852ccfc9-97e7-4e38-bd9d-cb3c485af374')"
   ]
  }
 ],
 "metadata": {
  "colab": {
   "collapsed_sections": [],
   "name": "RedisTests.ipynb",
   "provenance": [],
   "version": "0.3.2"
  },
  "kernelspec": {
   "display_name": "Python 3",
   "language": "python",
   "name": "python3"
  },
  "language_info": {
   "codemirror_mode": {
    "name": "ipython",
    "version": 3
   },
   "file_extension": ".py",
   "mimetype": "text/x-python",
   "name": "python",
   "nbconvert_exporter": "python",
   "pygments_lexer": "ipython3",
   "version": "3.6.2"
  }
 },
 "nbformat": 4,
 "nbformat_minor": 1
}
