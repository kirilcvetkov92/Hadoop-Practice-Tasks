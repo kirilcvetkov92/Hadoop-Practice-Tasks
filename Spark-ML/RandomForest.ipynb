{
 "cells": [
  {
   "cell_type": "markdown",
   "metadata": {},
   "source": [
    "# Salary prediction by vacancy description"
   ]
  },
  {
   "cell_type": "markdown",
   "metadata": {},
   "source": [
    "## Dataset description"
   ]
  },
  {
   "cell_type": "markdown",
   "metadata": {},
   "source": [
    "The dataset represents the data about vacancies which were published in the world net for different countries. The vacancy info has a full description of this vacancy, title, location, company, working category, salary etc.\n",
    "In this assignment you have to predict the possibility of raising the salary threshold, using the vacancy description. The data is presented in the dataframe. The columns of interest are:\n",
    "* FullDescription - description of vacancy\n",
    "* SalaryNormalized - predicted salary threshold."
   ]
  },
  {
   "cell_type": "markdown",
   "metadata": {},
   "source": [
    "Dataset description\n",
    "\n",
    "There are steps which are required to successfully complete the assignment:\n",
    "1. Read dataset\n",
    "2. Perform text transformation by removing punctuation terms and stop words.\n",
    "3. Generate n-grams.\t\n",
    "4. Count TF * IDF features\n",
    "5. Fit model for generated features.\n"
   ]
  },
  {
   "cell_type": "markdown",
   "metadata": {},
   "source": [
    "## Reading dataset"
   ]
  },
  {
   "cell_type": "markdown",
   "metadata": {},
   "source": [
    "Init pyspark session"
   ]
  },
  {
   "cell_type": "code",
   "execution_count": 5,
   "metadata": {},
   "outputs": [],
   "source": [
    "from __future__ import division, print_function, unicode_literals # For the compatibility with Python 2"
   ]
  },
  {
   "cell_type": "code",
   "execution_count": 6,
   "metadata": {},
   "outputs": [],
   "source": [
    "from pyspark.sql import SparkSession\n",
    "spark_session = SparkSession.builder\\\n",
    "                            .enableHiveSupport()\\\n",
    "                            .appName(\"spark sql\")\\\n",
    "                            .master(\"local[4]\")\\\n",
    "                            .getOrCreate()"
   ]
  },
  {
   "cell_type": "code",
   "execution_count": 7,
   "metadata": {},
   "outputs": [],
   "source": [
    "sc=spark_session.sparkContext"
   ]
  },
  {
   "cell_type": "code",
   "execution_count": 8,
   "metadata": {},
   "outputs": [],
   "source": [
    "#!ls /data/vacancie\n"
   ]
  },
  {
   "cell_type": "code",
   "execution_count": 9,
   "metadata": {},
   "outputs": [],
   "source": [
    "#!ls /data/covertype2"
   ]
  },
  {
   "cell_type": "code",
   "execution_count": 10,
   "metadata": {},
   "outputs": [],
   "source": [
    "train_data = spark_session.read.csv(\"/data/covertype2/train.csv\",inferSchema=True,header=True)\n",
    "\n",
    "#train_data.printSchema()\n"
   ]
  },
  {
   "cell_type": "code",
   "execution_count": 11,
   "metadata": {},
   "outputs": [],
   "source": [
    "#dataset = train_data.select('FullDescription','SalaryNormalized')\n",
    "#train_data.select('Hillshade_3pm').show()\n"
   ]
  },
  {
   "cell_type": "markdown",
   "metadata": {},
   "source": [
    "## Transforming dataset"
   ]
  },
  {
   "cell_type": "code",
   "execution_count": 12,
   "metadata": {},
   "outputs": [],
   "source": [
    "from pyspark.ml.feature import OneHotEncoder, StringIndexer\n",
    "\n",
    "\n",
    "stringIndexer = StringIndexer(inputCol=\"Wild_Type\", outputCol=\"Wild_Type_Indexed\")\n",
    "model = stringIndexer.fit(train_data)\n",
    "indexed = model.transform(train_data)\n",
    "\n",
    "\n",
    "stringIndexer = StringIndexer(inputCol=\"Soil_Type\", outputCol=\"Soil_Type_Indexed\")\n",
    "model = stringIndexer.fit(indexed)\n",
    "raw_data = model.transform(indexed)\n",
    "\n",
    "\n",
    "cols = list(set(raw_data.columns) - {'Wild_Type', 'Soil_Type', 'Target' })\n",
    "#encoded = encoded.select(cols)\n"
   ]
  },
  {
   "cell_type": "code",
   "execution_count": 13,
   "metadata": {},
   "outputs": [],
   "source": [
    "from pyspark.ml.feature import StandardScaler\n",
    "\n",
    "from  pyspark.ml.feature  import VectorAssembler\n",
    "\n",
    "# Define assembler \n",
    "assembler = VectorAssembler(\n",
    "    inputCols=cols,\n",
    "    outputCol='features')\n",
    "\n",
    "# transform\n",
    "vector_indexed_data = assembler.transform(raw_data)\n",
    "#vector_indexed_data.printSchema()\n",
    "\n",
    "dataset = vector_indexed_data.select('features', 'Target')\n",
    "\n",
    "scaler = StandardScaler(inputCol=\"features\", outputCol=\"scaledFeatures\",\n",
    "                        withStd=True, withMean=False)\n",
    "\n",
    "# Compute summary statistics by fitting the StandardScaler\n",
    "scaler_model = scaler.fit(dataset)\n",
    "scaledData = scaler_model.transform(dataset)\n",
    "dataset = scaledData"
   ]
  },
  {
   "cell_type": "code",
   "execution_count": 14,
   "metadata": {},
   "outputs": [],
   "source": [
    "#dataset.show(5, False)\n"
   ]
  },
  {
   "cell_type": "markdown",
   "metadata": {},
   "source": [
    "# Fitting model"
   ]
  },
  {
   "cell_type": "markdown",
   "metadata": {},
   "source": [
    "Split the dataset to train and validation part (it is better to use 90% for the train part and 10% for the validation part)"
   ]
  },
  {
   "cell_type": "code",
   "execution_count": 15,
   "metadata": {},
   "outputs": [],
   "source": [
    "train_data, test_data = dataset.randomSplit([0.9, 0.1])"
   ]
  },
  {
   "cell_type": "markdown",
   "metadata": {},
   "source": [
    "Fit the Logistic Regression to the model on the splitted train part. Use about 15 iterations for the training process.\n",
    "\n",
    "<b>Hint.</b> Use regularization parameter in order to prevent overfitting."
   ]
  },
  {
   "cell_type": "code",
   "execution_count": 16,
   "metadata": {},
   "outputs": [],
   "source": [
    "from pyspark.ml.classification import LogisticRegression, RandomForestClassifier"
   ]
  },
  {
   "cell_type": "code",
   "execution_count": 17,
   "metadata": {},
   "outputs": [],
   "source": [
    "#lr = LogisticRegression(featuresCol='features',labelCol='labels')\n",
    "\n",
    "lr = rf = RandomForestClassifier(labelCol=\"Target\", featuresCol=\"features\", numTrees=100, maxBins=40, maxDepth=7)\n",
    "\n",
    "model = lr.fit(dataset)\n"
   ]
  },
  {
   "cell_type": "code",
   "execution_count": 18,
   "metadata": {},
   "outputs": [],
   "source": [
    "#model.featureImportances"
   ]
  },
  {
   "cell_type": "markdown",
   "metadata": {},
   "source": [
    "Print the loss function for each iteration. What can you notice from the behaviour of loss function?\n",
    "\n",
    "<b>Hint.</b> Use summary.objectiveHistory for this case."
   ]
  },
  {
   "cell_type": "code",
   "execution_count": 19,
   "metadata": {},
   "outputs": [],
   "source": [
    "# trainingSummary = model.summary\n",
    "\n",
    "# trainingSummary.predictions.show(5)"
   ]
  },
  {
   "cell_type": "markdown",
   "metadata": {},
   "source": [
    "Apply the model to the validation set"
   ]
  },
  {
   "cell_type": "code",
   "execution_count": 20,
   "metadata": {},
   "outputs": [],
   "source": [
    "# test_results = model.evaluate(test_data)\n",
    "\n",
    "# test_results.predictions.show(5)\n",
    "\n",
    "#test_data.show()"
   ]
  },
  {
   "cell_type": "code",
   "execution_count": 21,
   "metadata": {},
   "outputs": [],
   "source": [
    "#model.summary.objectiveHistory"
   ]
  },
  {
   "cell_type": "code",
   "execution_count": 22,
   "metadata": {},
   "outputs": [],
   "source": [
    "predictions = model.transform(test_data)\n",
    "\n",
    "#predictions.show(3)"
   ]
  },
  {
   "cell_type": "markdown",
   "metadata": {},
   "source": [
    "Calculate AUC-ROC for the predicted data. For this purpose, you can use BinaryClassificationEvaluator from ml.evaluation model."
   ]
  },
  {
   "cell_type": "code",
   "execution_count": 23,
   "metadata": {},
   "outputs": [],
   "source": [
    "from pyspark.ml.evaluation import MulticlassClassificationEvaluator\n",
    "\n",
    "\n",
    "evaluator = MulticlassClassificationEvaluator(labelCol='Target') #default=label not labels\n",
    "# evaluator.evaluate(predictions, {evaluator.metricName: \"accuracy\"})"
   ]
  },
  {
   "cell_type": "markdown",
   "metadata": {},
   "source": [
    "<b>Self-check question:</b>\n",
    "\n",
    "1. Try to fit and predict model using pure words. Has the result changed?\n",
    "\n"
   ]
  },
  {
   "cell_type": "markdown",
   "metadata": {
    "collapsed": true
   },
   "source": [
    "# Performing test submission"
   ]
  },
  {
   "cell_type": "markdown",
   "metadata": {},
   "source": [
    "Apply the learned models to the test dataset.\n",
    "\n",
    "<b>Note!</b> The test dataset will be changed during the test phase. Your last cell output must be the output of the AUC-ROC score."
   ]
  },
  {
   "cell_type": "code",
   "execution_count": 24,
   "metadata": {},
   "outputs": [],
   "source": [
    "test_data_ = spark_session.read.csv(\"/data/covertype2/test.csv\",inferSchema=True,header=True)\n",
    "\n",
    "\n",
    "stringIndexer = StringIndexer(inputCol=\"Wild_Type\", outputCol=\"Wild_Type_Indexed\")\n",
    "modeler = stringIndexer.fit(test_data_)\n",
    "test_indexed = modeler.transform(test_data_)\n",
    "\n",
    "\n",
    "stringIndexer = StringIndexer(inputCol=\"Soil_Type\", outputCol=\"Soil_Type_Indexed\")\n",
    "modeler = stringIndexer.fit(test_indexed)\n",
    "test_raw_data = modeler.transform(test_indexed)\n",
    "\n",
    "test_cols = list(set(test_raw_data.columns) - {'Wild_Type', 'Soil_Type', 'Target'})\n",
    "\n",
    "# Define assembler \n",
    "assembler = VectorAssembler(\n",
    "    inputCols=test_cols,\n",
    "    outputCol='features')\n",
    "\n",
    "vector_indexed_data = assembler.transform(test_raw_data)\n",
    "#vector_indexed_data.printSchema()\n",
    "test_dataset = vector_indexed_data.select('features', 'Target')\n"
   ]
  },
  {
   "cell_type": "code",
   "execution_count": 25,
   "metadata": {},
   "outputs": [],
   "source": [
    "# Transform dataset and calculate auc-roc\n",
    "predictions_2 = model.transform(test_dataset)"
   ]
  },
  {
   "cell_type": "code",
   "execution_count": 26,
   "metadata": {},
   "outputs": [
    {
     "data": {
      "text/plain": [
       "0.7215819755688788"
      ]
     },
     "execution_count": 26,
     "metadata": {},
     "output_type": "execute_result"
    }
   ],
   "source": [
    "evaluator.evaluate(predictions_2, {evaluator.metricName: \"accuracy\"})"
   ]
  }
 ],
 "metadata": {
  "anaconda-cloud": {},
  "kernelspec": {
   "display_name": "Python 3",
   "language": "python",
   "name": "python3"
  },
  "language_info": {
   "codemirror_mode": {
    "name": "ipython",
    "version": 3
   },
   "file_extension": ".py",
   "mimetype": "text/x-python",
   "name": "python",
   "nbconvert_exporter": "python",
   "pygments_lexer": "ipython3",
   "version": "3.6.2"
  }
 },
 "nbformat": 4,
 "nbformat_minor": 2
}
