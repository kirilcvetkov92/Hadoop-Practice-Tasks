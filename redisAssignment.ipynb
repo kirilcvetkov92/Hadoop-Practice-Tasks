{
 "cells": [
  {
   "cell_type": "markdown",
   "metadata": {},
   "source": [
    "# Redis Assignment"
   ]
  },
  {
   "cell_type": "markdown",
   "metadata": {},
   "source": [
    "The purpose of this task is to create the cookie syncronization service between two companies with the help of Redis."
   ]
  },
  {
   "cell_type": "code",
   "execution_count": 1,
   "metadata": {},
   "outputs": [],
   "source": [
    "import redis\n",
    "import time\n",
    "from datetime import timedelta\n",
    "\n",
    "class LimitExceededException(Exception):\n",
    "    pass\n",
    "\n",
    "max_rps = 15  # requests per second\n",
    "\n",
    "# Basic database settings. Don't change this line!\n",
    "r = redis.StrictRedis(host='localhost', port=6381, db=0) "
   ]
  },
  {
   "cell_type": "code",
   "execution_count": 2,
   "metadata": {},
   "outputs": [],
   "source": [
    "def save_sync(r, uid, partner_id, partner_uid):\n",
    "    \"\"\"\n",
    "        Set the values for the pairs <partner_id, uid> and <partner_id, partner_uid>\n",
    "        Don't forget to set the ttls which you defined in the function set_ttls\n",
    "    \"\"\"\n",
    "    pipe = r.pipeline()\n",
    "    pipe.hmset(str(partner_id), {'user:'+uid:partner_uid})\n",
    "    pipe.hmset(str(partner_id), {'partner:'+partner_uid:uid})\n",
    "    \n",
    "    set_ttls(pipe, {partner_id : 3600})\n",
    "    pipe.execute()\n",
    "    \n",
    "def get_partner_uid(r, uid, partner_id):\n",
    "    \"\"\"Get the partner id by the pair (uid, partner id)\n",
    "    \n",
    "    Args:\n",
    "        r (redis.StrictRedis): redis instance\n",
    "        uid (str): our uid\n",
    "        partner_id (str): id of the partner\n",
    "        \n",
    "    Examples:\n",
    "        >>> get_partner_uid(r, 'e5a370cc-6bdc-43ae-baaa-8fd4531847f7', 12)\n",
    "    \"\"\"\n",
    "    restrict_function('get_partner_uid')\n",
    "    return r.hget(str(partner_id), str('user:'+uid))\n",
    "\n",
    "\n",
    "\n",
    "def get_uid(r, partner_id, partner_uid):\n",
    "    \"\"\"Get the uid by the pair (partner id, partner uid)\n",
    "    \n",
    "    Args:\n",
    "        r (redis.StrictRedis): redis instance\n",
    "        partner_id (int): id of partner\n",
    "        partner_uid (str): uid of partner\n",
    "        \n",
    "    Examples:\n",
    "        >>> get_uid(r, 12, '25b6e9a6-fca8-427c-94df-2577e62b2bf0')\n",
    "    \"\"\"\n",
    "    restrict_function('get_uid')\n",
    "    return r.hget(str(partner_id), str('partner:'+partner_uid))\n",
    "\n",
    "\n",
    "def set_ttls(r, ttls):\n",
    "    \"\"\"Set the ttl by partner id\n",
    "       \n",
    "    Args:\n",
    "        r (redis.StrictRedis): redis instance\n",
    "        ttls (dict): dictionary of pairs <partner_id, ttl>\n",
    "        \n",
    "    Examples:\n",
    "        >>> set_ttls(r, {12: 5, 3: 0.25})\n",
    "    \"\"\"\n",
    "    for key, seconds in ttls.items():\n",
    "        miliseconds = int(seconds*1000)\n",
    "        r.pexpire(str(key), miliseconds)\n",
    "\n",
    "def restrict_function(func_name):\n",
    "    pipe = r.pipeline()\n",
    "    if not r.get(func_name):\n",
    "        pipe.set(func_name, 0)   \n",
    "        set_ttls(pipe, {func_name : 1})\n",
    "    \n",
    "    pipe.incrby(func_name, 1)\n",
    "    pipe.execute()\n",
    "    if(int(r.get(func_name))>max_rps):\n",
    "        raise LimitExceededException"
   ]
  },
  {
   "cell_type": "markdown",
   "metadata": {},
   "source": [
    "There are some basic checks for your function"
   ]
  },
  {
   "cell_type": "code",
   "execution_count": 3,
   "metadata": {},
   "outputs": [],
   "source": [
    "# Usage examples\n",
    "\n",
    "\n",
    "save_sync(r, 'e5a370cc-6bdc-43ae-baaa-8fd4531847f7', 12, '25b6e9a6-fca8-427c-94df-2577e62b2bf0')\n",
    "set_ttls(r, {12: 20, 3: 20})\n",
    "\n",
    "# Some basic checks\n",
    "\n",
    "assert 'e5a370cc-6bdc-43ae-baaa-8fd4531847f7' == get_uid(r, 12, '25b6e9a6-fca8-427c-94df-2577e62b2bf0').decode('utf-8')\n",
    "\n",
    "assert '25b6e9a6-fca8-427c-94df-2577e62b2bf0' == get_partner_uid(r, 'e5a370cc-6bdc-43ae-baaa-8fd4531847f7', 12).decode('utf-8')\n"
   ]
  },
  {
   "cell_type": "code",
   "execution_count": 4,
   "metadata": {},
   "outputs": [],
   "source": [
    "# for i in range(100):\n",
    "#     try:\n",
    "#         print('da')\n",
    "#         print(get_uid(r, 12, '25b6e9a6-fca8-427c-94df-2577e62b2bf0').decode('utf-8'))\n",
    "#     except : \n",
    "#         pass"
   ]
  },
  {
   "cell_type": "markdown",
   "metadata": {},
   "source": [
    "Congratulations! You have completed the assignment! Now you can submit it to the system and get your results!"
   ]
  }
 ],
 "metadata": {
  "kernelspec": {
   "display_name": "Python 3",
   "language": "python",
   "name": "python3"
  },
  "language_info": {
   "codemirror_mode": {
    "name": "ipython",
    "version": 3
   },
   "file_extension": ".py",
   "mimetype": "text/x-python",
   "name": "python",
   "nbconvert_exporter": "python",
   "pygments_lexer": "ipython3",
   "version": "3.6.2"
  }
 },
 "nbformat": 4,
 "nbformat_minor": 2
}
