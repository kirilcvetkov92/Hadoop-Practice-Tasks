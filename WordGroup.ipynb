{
 "cells": [
  {
   "cell_type": "markdown",
   "metadata": {},
   "source": [
    "# Task\n",
    "\n",
    "\n",
    "Calculate statistics for groups of words which are equal up to permutations of letters. For example, ‘emit’, ‘item’ and ‘time’ are the same words up to a permutation of letters. Determine such groups of words and sum all their counts. Apply stop words filter. Filter out groups that consist of only one word.\n",
    "\n",
    "Output: count of occurrences for the group of words, number of unique words in the group, comma-separated list of the words in the group in lexicographical order:\n",
    "\n",
    "sum <tab> group size <tab> word1,word2,...\n",
    "\n",
    "Example: assume ‘emit’ occurred 3 times, 'item' -- 2 times, 'time' -- 5 times; 3 + 2 + 5 = 10, group contains 3 words, so for this group result is:\n",
    "\n",
    "10 3 emit,item,time\n",
    "\n",
    "The result of the task is the output line with word ‘english’.\n",
    "\n",
    "NB: Do not forget about the lexicographical order of words in the group: 'emit,item,time' is OK, 'emit,time,item' is not.\n",
    "\n",
    "\n",
    "\n",
    "Note from Kiril Cvetkov 10.May.2018 : We cannot use combiner here, since we cannot use consistent relation mappings between mapper->combiner->reducer\n"
   ]
  },
  {
   "cell_type": "code",
   "execution_count": 437,
   "metadata": {},
   "outputs": [
    {
     "name": "stdout",
     "output_type": "stream",
     "text": [
      "Overwriting mapper.py\n"
     ]
    }
   ],
   "source": [
    "%%writefile mapper.py\n",
    "\n",
    "import sys\n",
    "import re\n",
    "\n",
    "reload(sys)\n",
    "sys.setdefaultencoding('utf-8') # required to convert to unicode\n",
    "\n",
    "with open('stop_words_en.txt') as f:\n",
    "    stop_words = set(f.read().split())\n",
    "    \n",
    "for line in sys.stdin:\n",
    "    try:\n",
    "        article_id, text = unicode(line.strip()).split('\\t', 1)\n",
    "        #text = line.strip()\n",
    "\n",
    "    except ValueError as e:\n",
    "        continue\n",
    "    words = re.split(\"\\W*\\s+\\W*\", text, flags=re.UNICODE)\n",
    "    #words = re.split(\"\\W*\\s+\\W*\", text)\n",
    "    for word in words:\n",
    "        word=word.lower()\n",
    "        if word in stop_words:\n",
    "            continue\n",
    "        key=''.join(sorted(word))\n",
    "        print \"%s\\t%s\\t%d\" % (key, word, 1)\n",
    "        #print(key+\"\\t\"+word.lower()+\"\\t\"+str(1))"
   ]
  },
  {
   "cell_type": "code",
   "execution_count": 438,
   "metadata": {},
   "outputs": [
    {
     "name": "stdout",
     "output_type": "stream",
     "text": [
      "Overwriting reducer.py\n"
     ]
    }
   ],
   "source": [
    "%%writefile reducer.py\n",
    "\n",
    "import sys\n",
    "\n",
    "current_key = None\n",
    "word_sum = 0\n",
    "words = set()\n",
    "\n",
    "for line in sys.stdin:\n",
    "    try:\n",
    "        key, word, count = line.strip().split('\\t', 2)\n",
    "        count = int(count)\n",
    "    except ValueError as e:\n",
    "        continue\n",
    "    if current_key != key:\n",
    "        if current_key and len(words)>1:\n",
    "            print \"%d\\t%d\\t%s\" % (word_sum, len(words), ','.join(sorted(words)))\n",
    "            #print(word_sum, len(words), ','.join(words))\n",
    "        word_sum = 0\n",
    "        current_key = key\n",
    "        words = set()\n",
    "    word_sum += count\n",
    "    words.add(word)\n",
    "\n",
    "if current_key and len(words)>1:\n",
    "    print \"%d\\t%d\\t%s\" % (word_sum, len(words), ','.join(sorted(words)))\n",
    "    #print(word_sum, len(words), ','.join(words))\n"
   ]
  },
  {
   "cell_type": "code",
   "execution_count": null,
   "metadata": {
    "scrolled": true
   },
   "outputs": [],
   "source": [
    "%%bash\n",
    "\n",
    "OUT_DIR=\"wordgroup_result_\"$(date +\"%s%6N\")\n",
    "NUM_REDUCERS=8\n",
    "\n",
    "hdfs dfs -rm -r -skipTrash ${OUT_DIR} > /dev/null\n",
    "\n",
    "yarn jar /opt/cloudera/parcels/CDH/lib/hadoop-mapreduce/hadoop-streaming.jar \\\n",
    "    -D mapred.jab.name=\"Streaming wordgroup\" \\\n",
    "    -D mapreduce.job.reduces=${NUM_REDUCERS} \\\n",
    "    -files mapper.py,reducer.py,/datasets/stop_words_en.txt \\\n",
    "    -mapper \"python mapper.py\" \\\n",
    "    -reducer \"python reducer.py\" \\\n",
    "    -input /data/wiki/en_articles_part \\\n",
    "    -output ${OUT_DIR} > /dev/null\n",
    "    \n",
    "hdfs dfs -cat ${OUT_DIR}/* | grep -P '(,|\\t)english($|,)'\n"
   ]
  },
  {
   "cell_type": "code",
   "execution_count": null,
   "metadata": {},
   "outputs": [],
   "source": [
    "\n"
   ]
  },
  {
   "cell_type": "code",
   "execution_count": null,
   "metadata": {},
   "outputs": [],
   "source": []
  },
  {
   "cell_type": "code",
   "execution_count": null,
   "metadata": {},
   "outputs": [],
   "source": []
  },
  {
   "cell_type": "code",
   "execution_count": null,
   "metadata": {},
   "outputs": [],
   "source": []
  }
 ],
 "metadata": {
  "kernelspec": {
   "display_name": "Python 3",
   "language": "python",
   "name": "python3"
  },
  "language_info": {
   "codemirror_mode": {
    "name": "ipython",
    "version": 3
   },
   "file_extension": ".py",
   "mimetype": "text/x-python",
   "name": "python",
   "nbconvert_exporter": "python",
   "pygments_lexer": "ipython3",
   "version": "3.6.4"
  }
 },
 "nbformat": 4,
 "nbformat_minor": 2
}
