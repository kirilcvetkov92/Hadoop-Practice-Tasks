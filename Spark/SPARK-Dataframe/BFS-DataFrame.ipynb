{
 "cells": [
  {
   "cell_type": "code",
   "execution_count": null,
   "metadata": {},
   "outputs": [],
   "source": [
    "from pyspark.sql.types import StructType, StructField, IntegerType\n",
    "from pyspark.sql.functions import *"
   ]
  },
  {
   "cell_type": "code",
   "execution_count": null,
   "metadata": {},
   "outputs": [],
   "source": [
    "from pyspark.sql import SparkSession\n",
    "spark = SparkSession.builder.enableHiveSupport().master(\"local[2]\").getOrCreate()"
   ]
  },
  {
   "cell_type": "code",
   "execution_count": null,
   "metadata": {},
   "outputs": [],
   "source": [
    "graph_schema = StructType([\n",
    "    StructField(\"to\", IntegerType(), False),\n",
    "    StructField(\"from\", IntegerType(), False)\n",
    "])"
   ]
  },
  {
   "cell_type": "code",
   "execution_count": null,
   "metadata": {},
   "outputs": [],
   "source": [
    "dist_schema = StructType([\n",
    "    StructField(\"vertex\", IntegerType(), False),\n",
    "    StructField(\"distance\", IntegerType(), False)\n",
    "])"
   ]
  },
  {
   "cell_type": "code",
   "execution_count": null,
   "metadata": {},
   "outputs": [],
   "source": [
    "from pyspark.sql.types import *\n",
    "from pyspark.sql import SQLContext\n",
    "sc = spark.sparkContext\n",
    "\n"
   ]
  },
  {
   "cell_type": "code",
   "execution_count": null,
   "metadata": {},
   "outputs": [],
   "source": [
    "def shortest_path(v_from, v_to, dataset_path=None):\n",
    "    \n",
    "    schema = StructType([StructField('parent',IntegerType(), False),StructField('u', IntegerType(), False)])\n",
    "    parent = spark.createDataFrame(sc.emptyRDD(), schema)\n",
    "\n",
    "    edges = spark.read.csv(dataset_path, sep=\"\\t\", schema=graph_schema)\n",
    "    E = edges.select(edges.to.alias(\"v\"), col(\"from\").alias(\"u\"))\n",
    "    path_length = None\n",
    "    \n",
    "    current = [v_from]\n",
    "    path_length=1\n",
    "    while True:\n",
    "        neighbours = E.filter(E.u.isin(current))\n",
    "        visited = parent.select(\"u\").distinct().rdd.map(lambda row : row[0])\n",
    "        \n",
    "        non_visited = neighbours.filter(~neighbours.v.isin(visited.collect()) & (neighbours.v!=v_from))\n",
    "        parent = parent.union(non_visited.select(\"u\",\"v\"))\n",
    "        if (parent.filter(parent.u==v_to)).count()>0:\n",
    "            break\n",
    "        current = non_visited.select(\"v\").distinct().rdd.map(lambda row : row[0]).collect()\n",
    "        path_length+=1\n",
    "    return path_length\n",
    "\n",
    "    \n"
   ]
  },
  {
   "cell_type": "code",
   "execution_count": null,
   "metadata": {},
   "outputs": [],
   "source": [
    "print shortest_path(12, 34, \"/data/twitter/twitter_sample2.txt\")"
   ]
  }
 ],
 "metadata": {
  "kernelspec": {
   "display_name": "Python 2",
   "language": "python",
   "name": "python2"
  },
  "language_info": {
   "codemirror_mode": {
    "name": "ipython",
    "version": 2
   },
   "file_extension": ".py",
   "mimetype": "text/x-python",
   "name": "python",
   "nbconvert_exporter": "python",
   "pygments_lexer": "ipython2",
   "version": "2.7.12"
  }
 },
 "nbformat": 4,
 "nbformat_minor": 2
}
