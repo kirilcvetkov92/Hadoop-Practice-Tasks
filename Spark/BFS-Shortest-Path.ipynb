{
 "cells": [
  {
   "cell_type": "markdown",
   "metadata": {},
   "source": [
    "# Reconstructing the path\n",
    "In this assignment you will use Spark to compute the shortest path between two vertices. Learn how to compute the distances between a source vertex and all other vertices in a graph. Now, your task is to reconstruct the shortest path, that is a sequence of vertices connected by the edges.\n",
    "\n",
    "Dataset location: /data/twitter/twitter_sample.txt\n",
    "\n",
    "Format: user_id \\t follower_id\n",
    "\n"
   ]
  },
  {
   "cell_type": "code",
   "execution_count": 1,
   "metadata": {},
   "outputs": [],
   "source": [
    "from pyspark import SparkConf, SparkContext\n",
    "sc = SparkContext(conf=SparkConf().setAppName(\"MyApp\").setMaster(\"local\"))"
   ]
  },
  {
   "cell_type": "markdown",
   "metadata": {},
   "source": [
    "# Increase Java heap memory space"
   ]
  },
  {
   "cell_type": "code",
   "execution_count": 2,
   "metadata": {},
   "outputs": [],
   "source": [
    "# conf = SparkConf().setAppName(\"App\")\n",
    "# conf = (conf.setMaster('local[*]')\n",
    "#         .set('spark.executor.memory', '4G')\n",
    "#         .set('spark.driver.memory', '45G')\n",
    "#         .set('spark.driver.maxResultSize', '10G'))\n",
    "# sc = SparkContext(conf=conf)"
   ]
  },
  {
   "cell_type": "code",
   "execution_count": 3,
   "metadata": {},
   "outputs": [],
   "source": [
    "#sc._conf.get('spark.driver.memory')\n"
   ]
  },
  {
   "cell_type": "markdown",
   "metadata": {},
   "source": [
    "# Path lists"
   ]
  },
  {
   "cell_type": "code",
   "execution_count": 17,
   "metadata": {},
   "outputs": [
    {
     "name": "stdout",
     "output_type": "stream",
     "text": [
      "file:/data/twitter/twitter_sample_small.txt\n",
      "file:/data/twitter/twitter_sample.txt\n"
     ]
    }
   ],
   "source": [
    "# hadoop = sc._jvm.org.apache.hadoop\n",
    "\n",
    "# fs = hadoop.fs.FileSystem\n",
    "# conf = hadoop.conf.Configuration() \n",
    "# path = hadoop.fs.Path('/data/twitter')\n",
    "\n",
    "# for f in fs.get(conf).listStatus(path):\n",
    "#     print f.getPath()"
   ]
  },
  {
   "cell_type": "code",
   "execution_count": 20,
   "metadata": {},
   "outputs": [
    {
     "name": "stdout",
     "output_type": "stream",
     "text": [
      "12,422,53,52,107,20,23,274,34\n"
     ]
    }
   ],
   "source": [
    "parent = dict()\n",
    "def parse_edge(s):\n",
    "  user, follower = s.split(\"\\t\")\n",
    "  return (int(user), int(follower))\n",
    " \n",
    "def step(item):\n",
    "  prev_v, prev_d, next_v = item[0], item[1][0], item[1][1]\n",
    "  return (next_v, prev_d + 1, prev_v)\n",
    " \n",
    "def complete(item):\n",
    "  v, old_d, new_d = item[0], item[1][0], item[1][1]\n",
    "  return (v, old_d if old_d is not None else new_d)\n",
    " \n",
    "n = 400 # number of partitions\n",
    "edges = sc.textFile(\"/data/twitter/twitter_sample_small.txt\").map(parse_edge).cache()\n",
    "forward_edges = edges.map(lambda e: (e[1], e[0])).partitionBy(n).persist()\n",
    " \n",
    "x = 12\n",
    "d = 0\n",
    "t = 34\n",
    "path = [t]\n",
    "parent[x]=-1\n",
    "distances = sc.parallelize([(x, d)]).partitionBy(n)\n",
    "found = False\n",
    "while True:\n",
    "  candidates = distances.join(forward_edges, n).map(step)\n",
    "  nodes = candidates.filter(lambda x : x[1]==d+1)\n",
    "  for node in nodes.toLocalIterator():\n",
    "    if not parent.has_key(node[0]):\n",
    "        parent[node[0]] = node[2]\n",
    "        if(node[0]==t):\n",
    "            found = True\n",
    "            break\n",
    " \n",
    "  if not found:\n",
    "    new_distances = distances.fullOuterJoin(candidates, n).map(complete, True).persist()  \n",
    "    d += 1\n",
    "    distances = new_distances.distinct()\n",
    "  else:\n",
    "    while(t!=-1):\n",
    "     t = parent.get(t)\n",
    "     if t!=-1 :\n",
    "        path.append(t)\n",
    "    break\n",
    "   \n",
    " \n",
    "print(\",\".join((str(e) for e in path[::-1])))"
   ]
  },
  {
   "cell_type": "code",
   "execution_count": null,
   "metadata": {},
   "outputs": [],
   "source": []
  },
  {
   "cell_type": "code",
   "execution_count": null,
   "metadata": {},
   "outputs": [],
   "source": []
  },
  {
   "cell_type": "code",
   "execution_count": null,
   "metadata": {},
   "outputs": [],
   "source": []
  }
 ],
 "metadata": {
  "kernelspec": {
   "display_name": "Python 2",
   "language": "python",
   "name": "python2"
  },
  "language_info": {
   "codemirror_mode": {
    "name": "ipython",
    "version": 2
   },
   "file_extension": ".py",
   "mimetype": "text/x-python",
   "name": "python",
   "nbconvert_exporter": "python",
   "pygments_lexer": "ipython2",
   "version": "2.7.12"
  }
 },
 "nbformat": 4,
 "nbformat_minor": 2
}
