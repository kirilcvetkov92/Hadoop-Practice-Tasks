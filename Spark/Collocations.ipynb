{
 "cells": [
  {
   "cell_type": "markdown",
   "metadata": {},
   "source": [
    "# Spark assignment 2: Collocations\n",
    "As for the second part of the assignment, your task is to extract collocations: that is word combinations that occur together. For example, “high school” or “roman empire”.\n",
    "\n",
    "To find collocations, you will use NPMI (normalized pointwise mutual information) metric.\n",
    "\n",
    "PMI of two words, a & b, is defined as “PMI(a, b) = ln (P(ab) / (P(a) * P(b))”, where P(ab) is the probability of two words coming one after the other, and P(a) and P(b) are probabilities of words a & b respectively.\n",
    "\n",
    "You will estimate probabilities with occurrence counts, that is “P(a) = # of occurrences of word a / total number of words”, and “P(ab) = # of occurrences of words ‘a b’ / total number of word pairs”.\n",
    "\n",
    "To build an intuition behind the definition, see Reading material.\n",
    "\n",
    "Therefore, rare combinations of coupled words have large PMI.\n",
    "\n",
    "NPMI is computed as “NPMI(a, b) = PMI(a, b) / -ln P(ab)”. This normalizes the quantity to be within the range [-1; 1].\n",
    "\n",
    "You task is a bit more complicated now:\n",
    "\n",
    "Extract all the words, as in the previous task.\n",
    "Filter out stopwords using the dictionary (/datasets/stop_words_en.txt ) (do not forget to convert words to the lowercase!)\n",
    "Compute all bigrams (that is, pairs of consequent words)\n",
    "Leave only bigrams with at least 500 occurrences\n",
    "Compute NPMI for every bigram (note: when computing probabilities, you need unpruned counts!)\n",
    "Sort word pairs by NPMI in the descending order\n",
    "Print top 39 word pairs, with words delimited by the underscore “_”\n",
    "For example,\n",
    "\n",
    "roman_empire\n",
    "\n",
    "south_africa"
   ]
  },
  {
   "cell_type": "code",
   "execution_count": 1,
   "metadata": {},
   "outputs": [],
   "source": [
    "#map za ako imame [A, B, C...] A->A', B->B', C->C' (1->1)\n",
    "#filter za ako imame [A, B, C...] A->, B->B, C->C (1->(0,1))\n",
    "#flatMap za ako imame [A, B, C...] A->, B->(B',B''), C->C' (1->(0,*)) edna lista\n",
    "\n",
    "from pyspark import SparkConf, SparkContext\n",
    "sc = SparkContext(conf=SparkConf().setAppName(\"MyApp\").setMaster(\"local\"))\n",
    "import re\n"
   ]
  },
  {
   "cell_type": "code",
   "execution_count": 35,
   "metadata": {},
   "outputs": [],
   "source": [
    "def parse_article(line):\n",
    "    try:\n",
    "        article_id, text = unicode(line.rstrip()).lower().split('\\t', 1)\n",
    "        text = re.sub(\"^\\W+|\\W+$\", \"\", text, flags=re.UNICODE)\n",
    "        words = re.split(\"\\W*\\s+\\W*\", text, flags=re.UNICODE)\n",
    "        return words\n",
    "    except ValueError as e:\n",
    "        return []\n",
    "    \n",
    "wiki = sc.textFile(\"/data/wiki/en_articles_part/articles-part\", 16).map(parse_article) #one to one map\n",
    "\n",
    "with open('/datasets/stop_words_en.txt', 'r') as f:\n",
    "    stop_words = set(f.read().split())\n",
    "\n"
   ]
  },
  {
   "cell_type": "code",
   "execution_count": 36,
   "metadata": {},
   "outputs": [],
   "source": [
    "#flatMap for filter to escape empty lists\n",
    "filtered_words = wiki.map(lambda words : [word for word in words if word not in stop_words])\n"
   ]
  },
  {
   "cell_type": "code",
   "execution_count": 37,
   "metadata": {},
   "outputs": [],
   "source": [
    "\n",
    "def bigrams(words):\n",
    "    word_list=[]\n",
    "    for inx, word in enumerate(words[:-1]):\n",
    "         word_list.append((word+\"_\"+words[inx+1], 1))        \n",
    "    return word_list\n",
    "\n",
    "bigram_words = filtered_words.flatMap(lambda words : bigrams(words))\n"
   ]
  },
  {
   "cell_type": "code",
   "execution_count": 38,
   "metadata": {},
   "outputs": [],
   "source": [
    "bigram_reduced = bigram_words.reduceByKey(lambda x, y : x+y).filter(lambda (key, value) : value>=500)"
   ]
  },
  {
   "cell_type": "code",
   "execution_count": 39,
   "metadata": {},
   "outputs": [],
   "source": [
    "reduced_words = filtered_words.flatMap(lambda words : [(word,1) for word in words]).reduceByKey(lambda x,y : x+y).filter(lambda (key,value):value>=500)\n",
    "reduced_word_collect = reduced_words.collect()\n",
    "dict_words = {}\n",
    "for key,value in reduced_word_collect:\n",
    "    dict_words[key] = value"
   ]
  },
  {
   "cell_type": "code",
   "execution_count": null,
   "metadata": {},
   "outputs": [],
   "source": [
    "total_words = len(dict_words)"
   ]
  },
  {
   "cell_type": "code",
   "execution_count": null,
   "metadata": {},
   "outputs": [],
   "source": [
    "total_num_pairs = bigram_reduced.count()"
   ]
  },
  {
   "cell_type": "code",
   "execution_count": null,
   "metadata": {},
   "outputs": [],
   "source": [
    "import math\n",
    "def calculatePMI(key,value,dict_words,total_num_pairs, total_words):\n",
    "    \"\"\"PMI of two words, a & b, is defined as “PMI(a, b) = ln (P(ab) / (P(a) * P(b))”, \n",
    "    where P(ab) is the probability of two words coming one after the other, \n",
    "   and P(a) and P(b) are probabilities of words a & b respectively.\"\"\"\n",
    "   #You will estimate probabilities with occurrence counts, that is “P(a) = # of occurrences of word a / total number of words”, and “P(ab) = # of occurrences of words ‘a b’ / total number of word pairs”.\n",
    "    word1, word2 = key.split(\"_\")\n",
    "    P_ab = value/float(total_num_pairs)\n",
    "    P_a = dict_words[word1]/float(total_words)\n",
    "    P_b = dict_words[word2]/float(total_words)\n",
    "    ans = math.log(P_ab/(P_a*P_b))\n",
    "    return (key, ans)"
   ]
  },
  {
   "cell_type": "code",
   "execution_count": null,
   "metadata": {},
   "outputs": [],
   "source": [
    "ans = bigram_reduced.map(lambda (key,value) : calculatePMI(key, value,dict_words,total_num_pairs, total_words))"
   ]
  },
  {
   "cell_type": "code",
   "execution_count": null,
   "metadata": {},
   "outputs": [],
   "source": [
    "answer = ans.map(lambda (key,value) : (value,key)).sortByKey(False).map(lambda (key,value) : (value, key)).take(39)"
   ]
  },
  {
   "cell_type": "code",
   "execution_count": null,
   "metadata": {},
   "outputs": [],
   "source": [
    "for key, value in answer:\n",
    "    print(key)"
   ]
  },
  {
   "cell_type": "code",
   "execution_count": null,
   "metadata": {},
   "outputs": [],
   "source": []
  }
 ],
 "metadata": {
  "kernelspec": {
   "display_name": "Python 3",
   "language": "python",
   "name": "python3"
  },
  "language_info": {
   "codemirror_mode": {
    "name": "ipython",
    "version": 3
   },
   "file_extension": ".py",
   "mimetype": "text/x-python",
   "name": "python",
   "nbconvert_exporter": "python",
   "pygments_lexer": "ipython3",
   "version": "3.5.4"
  }
 },
 "nbformat": 4,
 "nbformat_minor": 2
}
