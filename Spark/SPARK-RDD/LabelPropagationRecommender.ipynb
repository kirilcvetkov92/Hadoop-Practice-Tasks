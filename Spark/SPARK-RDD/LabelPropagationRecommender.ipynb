{
 "cells": [
  {
   "cell_type": "code",
   "execution_count": 1,
   "metadata": {},
   "outputs": [
    {
     "name": "stdout",
     "output_type": "stream",
     "text": [
      "Welcome to\n",
      "      ____              __\n",
      "     / __/__  ___ _____/ /__\n",
      "    _\\ \\/ _ \\/ _ `/ __/  '_/\n",
      "   /__ / .__/\\_,_/_/ /_/\\_\\   version 2.1.1\n",
      "      /_/\n",
      "\n",
      "Using Python version 2.7.12 (default, Nov 19 2016 06:48:10)\n",
      "SparkSession available as 'spark'.\n"
     ]
    }
   ],
   "source": [
    "import os\n",
    "execfile(os.path.join(os.environ[\"SPARK_HOME\"], 'python/pyspark/shell.py'))"
   ]
  },
  {
   "cell_type": "markdown",
   "metadata": {},
   "source": [
    "<img src=\"formula.png\">"
   ]
  },
  {
   "cell_type": "code",
   "execution_count": 2,
   "metadata": {},
   "outputs": [],
   "source": [
    "from pyspark.sql import SparkSession\n",
    "sparkSession = SparkSession.builder.enableHiveSupport().master(\"local [2]\").getOrCreate()"
   ]
  },
  {
   "cell_type": "code",
   "execution_count": 3,
   "metadata": {},
   "outputs": [],
   "source": [
    "data = sparkSession.read.parquet(\"/data/sample264\")\n",
    "meta = sparkSession.read.parquet(\"/data/meta\")"
   ]
  },
  {
   "cell_type": "markdown",
   "metadata": {},
   "source": [
    "## Normalization could be done by next function"
   ]
  },
  {
   "cell_type": "code",
   "execution_count": 5,
   "metadata": {},
   "outputs": [],
   "source": [
    "from pyspark.sql import Window\n",
    "from pyspark.sql.functions import row_number, sum\n",
    "\n",
    "def norm(df, key1, field, n): \n",
    "    window = Window.partitionBy(key1).orderBy(col(field).desc())\n",
    "        \n",
    "    topsDF = df.withColumn(\"row_number\", row_number().over(window)) \\\n",
    "        .filter(col(\"row_number\") <= n) \\\n",
    "        .drop(col(\"row_number\")) \n",
    "        \n",
    "    tmpDF = topsDF.groupBy(col(key1)).agg(col(key1), sum(col(field)).alias(\"sum_\" + field))\n",
    "   \n",
    "    normalizedDF = topsDF.join(tmpDF, key1, \"inner\") \\\n",
    "        .withColumn(\"norm_\" + field, col(field) / col(\"sum_\" + field)) \\\n",
    "        .cache()\n",
    "\n",
    "    return normalizedDF"
   ]
  },
  {
   "cell_type": "code",
   "execution_count": 6,
   "metadata": {},
   "outputs": [],
   "source": [
    "from pyspark.sql import Window\n",
    "from pyspark.sql.functions import col, rank\n",
    "\n",
    "\n",
    "\n",
    "data_fin = data.alias(\"data_prev\").join(data.alias(\"data_next\"), col(\"data_prev.userId\")== col(\"data_next.userId\"))\n",
    "\n",
    "#task-task graph construction with specific rules\n",
    "graph = data_fin.filter((col(\"data_prev.trackId\") != col(\"data_next.trackId\")) &\n",
    "                (col(\"data_next.timestamp\") - col(\"data_prev.timestamp\") > 0) &\n",
    "                (col(\"data_next.timestamp\") - col(\"data_prev.timestamp\") <= 60*7) &\n",
    "                (col(\"data_prev.userId\") == col(\"data_next.userId\"))).select(col(\"data_next.userId\").alias(\"userId\"),\n",
    "                                                                             col(\"data_prev.trackId\").alias(\"track_prev\"),\n",
    "                                                                             col(\"data_next.trackId\").alias(\"track_next\"))\n",
    "\n",
    "#graph.show(3)"
   ]
  },
  {
   "cell_type": "markdown",
   "metadata": {},
   "source": [
    "#  Colaborative Similarity Count (Task-Task)"
   ]
  },
  {
   "cell_type": "code",
   "execution_count": 7,
   "metadata": {},
   "outputs": [],
   "source": [
    "#NEIGHBOURHOOD = (tracks from same user, that are ranged with 420 secundes)\n",
    "# we make norm of start vertices track_prev, becauase E=(track_prev, track_next), before it was user_id because E=(userId, track_id)\n",
    "\n",
    "from pyspark.sql.functions import when \n",
    "\n",
    "#rule for weight norm construction: the source node should be less than end node\n",
    "graph=graph.withColumn(\"id\", when((col('track_next')>=col('track_prev')),col('track_prev')).otherwise(col('track_next'))) \n",
    "graph=graph.withColumn(\"id2\", when((col('track_prev')<=col('track_next')),col('track_next')).otherwise(col('track_prev'))) \n",
    "\n",
    "\n",
    "track_track = graph.groupBy(col(\"id\"), col(\"id2\")).count()\n",
    "\n",
    "\n",
    "\n",
    "#count colaborative similarity between two nodes id=track_prev, id=track_next\n",
    "trackTrackNorm = norm(track_track, \"id\", \"count\", 40) \\\n",
    "        .withColumn(\"id\", col(\"id\")) \\\n",
    "        .withColumn(\"id2\", col(\"id2\")) \\\n",
    "        .withColumn(\"norm_count\", col(\"norm_count\")*0.5) \\\n",
    "        .select(col(\"id\"), col(\"id2\"), col(\"norm_count\"))     \n",
    "\n",
    "\n",
    "#order edges by colaborative similarity count\n",
    "window = Window.orderBy(col(\"norm_count\").desc())\n",
    "    \n",
    "trackTrackList = trackTrackNorm.withColumn(\"position\", rank().over(window))\\\n",
    "    .filter(col(\"position\") < 50)\\\n",
    "    .orderBy(col(\"id\"), col(\"id2\"))\\\n",
    "    .select(col(\"id\"), col(\"id2\"))\\\n",
    "    .take(40)"
   ]
  },
  {
   "cell_type": "code",
   "execution_count": 8,
   "metadata": {},
   "outputs": [],
   "source": [
    "# for val in trackTrackList:\n",
    "#    print \"%s %s\" % val"
   ]
  },
  {
   "cell_type": "markdown",
   "metadata": {},
   "source": [
    "#  Colaborative Similarity Count (User-Track)"
   ]
  },
  {
   "cell_type": "code",
   "execution_count": 9,
   "metadata": {},
   "outputs": [],
   "source": [
    "from pyspark.sql import Window\n",
    "from pyspark.sql.functions import col, rank\n",
    "\n",
    "userTrack = data.groupBy(col(\"userId\"), col(\"trackId\")).count()\n",
    "\n",
    "userTrackNorm = norm(userTrack, \"userId\", \"count\", 1000) \\\n",
    "        .withColumn(\"id\", col(\"userId\")) \\\n",
    "        .withColumn(\"id2\", col(\"trackId\")) \\\n",
    "        .withColumn(\"norm_count\", col(\"norm_count\") * 0.5) \\\n",
    "        .select(col(\"id\"), col(\"id2\"), col(\"norm_count\"))     \n",
    "\n",
    "window = Window.orderBy(col(\"norm_count\").desc())\n",
    "    \n",
    "userTrackList = userTrackNorm.withColumn(\"position\", rank().over(window))\\\n",
    "    .filter(col(\"position\") < 50)\\\n",
    "    .orderBy(col(\"id\"), col(\"id2\"))\\\n",
    "    .select(col(\"id\"), col(\"id2\"))\\\n",
    "    .take(40)"
   ]
  },
  {
   "cell_type": "code",
   "execution_count": 10,
   "metadata": {},
   "outputs": [],
   "source": [
    "# for val in userTrackList:\n",
    "#     print \"%s %s\" % val"
   ]
  },
  {
   "cell_type": "markdown",
   "metadata": {},
   "source": [
    "#  Colaborative Similarity Count (User-Artist)"
   ]
  },
  {
   "cell_type": "code",
   "execution_count": 11,
   "metadata": {},
   "outputs": [],
   "source": [
    "\n",
    "userArtist = data.groupBy(col(\"userId\"), col(\"artistId\")).count()\n",
    "\n",
    "userArtistNorm = norm(userArtist, \"userId\", \"count\", 100) \\\n",
    "        .withColumn(\"id\", col(\"userId\")) \\\n",
    "        .withColumn(\"id2\", col(\"artistId\")) \\\n",
    "        .withColumn(\"norm_count\", col(\"norm_count\") * 0.5) \\\n",
    "        .select(col(\"id\"), col(\"id2\"), col(\"norm_count\"))     \n",
    "\n",
    "window = Window.orderBy(col(\"norm_count\").desc())\n",
    "    \n",
    "userArtistList = userArtistNorm.withColumn(\"position\", rank().over(window))\\\n",
    "    .filter(col(\"position\") < 50)\\\n",
    "    .orderBy(col(\"id\"), col(\"id2\"))\\\n",
    "    .select(col(\"id\"), col(\"id2\"))\\\n",
    "    .take(40)"
   ]
  },
  {
   "cell_type": "code",
   "execution_count": 12,
   "metadata": {},
   "outputs": [],
   "source": [
    "# for val in userArtistList:\n",
    "#     print \"%s %s\" % val"
   ]
  },
  {
   "cell_type": "markdown",
   "metadata": {},
   "source": [
    "#  Colaborative Similarity Count (Artist-Track)\n"
   ]
  },
  {
   "cell_type": "code",
   "execution_count": 13,
   "metadata": {},
   "outputs": [],
   "source": [
    "\n",
    "artistTrack = data.groupBy(col(\"artistId\"), col(\"trackId\")).count()\n",
    "\n",
    "artistTrackNorm = norm(artistTrack, \"artistId\", \"count\", 100) \\\n",
    "        .withColumn(\"id\", col(\"artistId\")) \\\n",
    "        .withColumn(\"id2\", col(\"trackId\")) \\\n",
    "        .withColumn(\"norm_count\", col(\"norm_count\") * 0.5) \\\n",
    "        .select(col(\"id\"), col(\"id2\"), col(\"norm_count\"))     \n",
    "\n",
    "window = Window.orderBy(col(\"norm_count\").desc())\n",
    "    \n",
    "artistTrackList = artistTrackNorm.withColumn(\"position\", rank().over(window))\\\n",
    "    .filter(col(\"position\") < 50)\\\n",
    "    .orderBy(col(\"id\"), col(\"id2\"))\\\n",
    "    .select(col(\"id\"), col(\"id2\"))\\\n",
    "    .take(40)"
   ]
  },
  {
   "cell_type": "code",
   "execution_count": 14,
   "metadata": {},
   "outputs": [],
   "source": [
    "# for val in artistTrackList:\n",
    "#     print \"%s %s\" % val"
   ]
  },
  {
   "cell_type": "code",
   "execution_count": 15,
   "metadata": {},
   "outputs": [
    {
     "data": {
      "text/plain": [
       "42"
      ]
     },
     "execution_count": 15,
     "metadata": {},
     "output_type": "execute_result"
    }
   ],
   "source": [
    "data_meta = data.filter(data.userId==776748).join(meta, ((data.trackId==meta.Id) & (meta.type==\"track\")) | ((data.artistId==meta.Id) & (meta.type==\"artist\"))).select(col(\"Artist\"), col(\"Name\")).distinct()\n",
    "\n",
    "data_meta.count()"
   ]
  },
  {
   "cell_type": "code",
   "execution_count": 16,
   "metadata": {},
   "outputs": [],
   "source": [
    "user_track_artist = data_meta.orderBy(col(\"Artist\"), col(\"Name\"))\\\n",
    "    .take(40)"
   ]
  },
  {
   "cell_type": "code",
   "execution_count": 17,
   "metadata": {},
   "outputs": [
    {
     "name": "stdout",
     "output_type": "stream",
     "text": [
      "Artist: 3 Doors Down Artist: 3 Doors Down\n",
      "Artist: 3 Doors Down Kryptonite\n",
      "Artist: 311 Artist: 311\n",
      "Artist: 311 Beautiful disaster\n",
      "Artist: Blur Artist: Blur\n",
      "Artist: Blur Girls and Boys\n",
      "Artist: Clawfinger Artist: Clawfinger\n",
      "Artist: Clawfinger Nothing Going On\n",
      "Artist: Disturbed Artist: Disturbed\n",
      "Artist: Disturbed The Vengeful One\n",
      "Artist: Gotthard Artist: Gotthard\n",
      "Artist: Gotthard Eagle\n",
      "Artist: Green Day 21 Guns\n",
      "Artist: Green Day Artist: Green Day\n",
      "Artist: Green Day Kill The DJ\n",
      "Artist: Iggy Pop Artist: Iggy Pop\n",
      "Artist: Iggy Pop Sunday\n",
      "Artist: Korn Artist: Korn\n",
      "Artist: Korn Here To Stay\n",
      "Artist: Linkin Park Artist: Linkin Park\n",
      "Artist: Linkin Park In The End\n",
      "Artist: Linkin Park Numb\n",
      "Artist: Lordi Artist: Lordi\n",
      "Artist: Lordi Hard Rock Hallelujah\n",
      "Artist: Nickelback Artist: Nickelback\n",
      "Artist: Nickelback She Keeps Me Up\n",
      "Artist: Nomy Artist: Nomy\n",
      "Artist: Nomy Cocaine\n",
      "Artist: Papa Roach Artist: Papa Roach\n",
      "Artist: Papa Roach Getting Away With Murder\n",
      "Artist: Rise Against Artist: Rise Against\n",
      "Artist: Rise Against Prayer Of The Refugee\n",
      "Artist: Serj Tankian Artist: Serj Tankian\n",
      "Artist: Serj Tankian Sky is Over\n",
      "Artist: Slipknot Artist: Slipknot\n",
      "Artist: Slipknot Wait And Bleed\n",
      "Artist: The Offspring Artist: The Offspring\n",
      "Artist: The Offspring Come Out and Play\n",
      "Artist: Thousand Foot Krutch Artist: Thousand Foot Krutch\n",
      "Artist: Thousand Foot Krutch Take It Out On Me\n"
     ]
    }
   ],
   "source": [
    "for val in user_track_artist:\n",
    "    print \"%s %s\" % val"
   ]
  },
  {
   "cell_type": "code",
   "execution_count": 18,
   "metadata": {},
   "outputs": [
    {
     "name": "stdout",
     "output_type": "stream",
     "text": [
      "+------+------+--------------------+\n",
      "|    id|   id2|          norm_count|\n",
      "+------+------+--------------------+\n",
      "|798477|883244|                 0.5|\n",
      "|798692|898823|                 0.5|\n",
      "|800467|855206|                 0.5|\n",
      "|801701|920990|                 0.5|\n",
      "|802599|908754|0.017857142857142856|\n",
      "|802599|937714|0.017857142857142856|\n",
      "|802599|811513|0.017857142857142856|\n",
      "|802599|929402|0.017857142857142856|\n",
      "|802599|924227|0.017857142857142856|\n",
      "|802599|901687|0.017857142857142856|\n",
      "|802599|860294|0.017857142857142856|\n",
      "|802599|880642|0.017857142857142856|\n",
      "|802599|920627|0.017857142857142856|\n",
      "|802599|843219|0.017857142857142856|\n",
      "|802599|892457|0.017857142857142856|\n",
      "|802599|823001|0.017857142857142856|\n",
      "|802599|899859|0.017857142857142856|\n",
      "|802599|866435|0.017857142857142856|\n",
      "|802599|881358|0.017857142857142856|\n",
      "|802599|901328|0.017857142857142856|\n",
      "+------+------+--------------------+\n",
      "only showing top 20 rows\n",
      "\n"
     ]
    }
   ],
   "source": [
    "fullGraph = trackTrackNorm.union(userTrackNorm).union(userArtistNorm).union(artistTrackNorm)\n",
    "fullGraph.show()"
   ]
  },
  {
   "cell_type": "code",
   "execution_count": 19,
   "metadata": {},
   "outputs": [],
   "source": [
    "x = fullGraph.select(\"id\").distinct().union(fullGraph.select(\"id2\").distinct()).distinct()"
   ]
  },
  {
   "cell_type": "code",
   "execution_count": 20,
   "metadata": {},
   "outputs": [
    {
     "data": {
      "text/plain": [
       "114658"
      ]
     },
     "execution_count": 20,
     "metadata": {},
     "output_type": "execute_result"
    }
   ],
   "source": [
    "x.count()"
   ]
  },
  {
   "cell_type": "code",
   "execution_count": 21,
   "metadata": {},
   "outputs": [
    {
     "name": "stdout",
     "output_type": "stream",
     "text": [
      "+-------+-------+\n",
      "|   n_id|new_col|\n",
      "+-------+-------+\n",
      "|1343667|      1|\n",
      "|1225222|      1|\n",
      "|1331090|      1|\n",
      "+-------+-------+\n",
      "only showing top 3 rows\n",
      "\n"
     ]
    }
   ],
   "source": [
    "from pyspark.sql import functions\n",
    "\n",
    "data_meta = data.filter(data.userId==776748).join(meta, ((data.trackId==meta.Id) & (meta.type==\"track\")) | ((data.artistId==meta.Id) & (meta.type==\"artist\"))).select(\"userId\", \"Id\").distinct()\n",
    "cs = data_meta.withColumn(\"new_col\",functions.lit(1))\n",
    "ts = cs.select(cs.Id.alias(\"n_id\"), \"new_col\")\n",
    "ts.show(3)"
   ]
  },
  {
   "cell_type": "code",
   "execution_count": 22,
   "metadata": {},
   "outputs": [
    {
     "name": "stdout",
     "output_type": "stream",
     "text": [
      "+------+-------+\n",
      "|    Id|new_col|\n",
      "+------+-------+\n",
      "|  3175|      0|\n",
      "|  5518|      0|\n",
      "|  5803|      0|\n",
      "|  6654|      0|\n",
      "|  7253|      0|\n",
      "|  7340|      0|\n",
      "|  8086|      0|\n",
      "| 10206|      0|\n",
      "| 12046|      0|\n",
      "| 17420|      0|\n",
      "| 18498|      0|\n",
      "| 22097|      0|\n",
      "| 22373|      0|\n",
      "| 24354|      0|\n",
      "| 26623|      0|\n",
      "| 29993|      0|\n",
      "| 31035|      0|\n",
      "| 31951|      0|\n",
      "| 33569|      0|\n",
      "| 34234|      0|\n",
      "| 38220|      0|\n",
      "| 40383|      0|\n",
      "| 45615|      0|\n",
      "| 46994|      0|\n",
      "| 47217|      0|\n",
      "| 50353|      0|\n",
      "| 51123|      0|\n",
      "| 57201|      0|\n",
      "| 63964|      0|\n",
      "| 67861|      0|\n",
      "| 69478|      0|\n",
      "| 71527|      0|\n",
      "| 71995|      0|\n",
      "| 75122|      0|\n",
      "| 75705|      0|\n",
      "| 78400|      0|\n",
      "| 91446|      0|\n",
      "| 95476|      0|\n",
      "|101627|      0|\n",
      "|104880|      0|\n",
      "|117500|      0|\n",
      "|120861|      0|\n",
      "|124743|      0|\n",
      "|126365|      0|\n",
      "|127109|      0|\n",
      "|128589|      0|\n",
      "|135267|      0|\n",
      "|135533|      0|\n",
      "|137377|      0|\n",
      "|137501|      0|\n",
      "|141422|      0|\n",
      "|144475|      0|\n",
      "|145011|      0|\n",
      "|146411|      0|\n",
      "|146988|      0|\n",
      "|154034|      0|\n",
      "|155959|      0|\n",
      "|156296|      0|\n",
      "|162473|      0|\n",
      "|163046|      0|\n",
      "|166648|      0|\n",
      "|167316|      0|\n",
      "|170542|      0|\n",
      "|175201|      0|\n",
      "|178564|      0|\n",
      "|179677|      0|\n",
      "|180155|      0|\n",
      "|185506|      0|\n",
      "|187647|      0|\n",
      "|188122|      0|\n",
      "|197148|      0|\n",
      "|202242|      0|\n",
      "|210765|      0|\n",
      "|212727|      0|\n",
      "|221858|      0|\n",
      "|224708|      0|\n",
      "|226243|      0|\n",
      "|238623|      0|\n",
      "|243257|      0|\n",
      "|243356|      0|\n",
      "|246115|      0|\n",
      "|247584|      0|\n",
      "|249376|      0|\n",
      "|250235|      0|\n",
      "|263013|      0|\n",
      "|265366|      0|\n",
      "|268130|      0|\n",
      "|276114|      0|\n",
      "|276517|      0|\n",
      "|277084|      0|\n",
      "|277404|      0|\n",
      "|279233|      0|\n",
      "|281740|      0|\n",
      "|281809|      0|\n",
      "|282566|      0|\n",
      "|285256|      0|\n",
      "|286824|      0|\n",
      "|289541|      0|\n",
      "|293947|      0|\n",
      "|294744|      0|\n",
      "|300601|      0|\n",
      "|302550|      0|\n",
      "|302825|      0|\n",
      "|304453|      0|\n",
      "|313059|      0|\n",
      "|316184|      0|\n",
      "|324091|      0|\n",
      "|328529|      0|\n",
      "|330299|      0|\n",
      "|330720|      0|\n",
      "|335252|      0|\n",
      "|338512|      0|\n",
      "|340002|      0|\n",
      "|343903|      0|\n",
      "|346809|      0|\n",
      "|347352|      0|\n",
      "|360625|      0|\n",
      "|361204|      0|\n",
      "|362324|      0|\n",
      "|365428|      0|\n",
      "|365790|      0|\n",
      "|366087|      0|\n",
      "|366420|      0|\n",
      "|370501|      0|\n",
      "|373118|      0|\n",
      "|375623|      0|\n",
      "|377210|      0|\n",
      "|379773|      0|\n",
      "|380411|      0|\n",
      "|380922|      0|\n",
      "|381035|      0|\n",
      "|385424|      0|\n",
      "|389910|      0|\n",
      "|397310|      0|\n",
      "|398542|      0|\n",
      "|398675|      0|\n",
      "|400612|      0|\n",
      "|403389|      0|\n",
      "|404966|      0|\n",
      "|406654|      0|\n",
      "|409162|      0|\n",
      "|409910|      0|\n",
      "|414766|      0|\n",
      "|416573|      0|\n",
      "|417190|      0|\n",
      "|419000|      0|\n",
      "|419481|      0|\n",
      "|420410|      0|\n",
      "|424374|      0|\n",
      "|428330|      0|\n",
      "+------+-------+\n",
      "only showing top 150 rows\n",
      "\n"
     ]
    }
   ],
   "source": [
    "from pyspark.sql.functions import col, expr, when\n",
    "\n",
    "joined = x.join(ts,x.id==ts.n_id,\"left_outer\").select(\"Id\", \"new_col\")\n",
    "\n",
    "Xs = joined.withColumn(\"new_col\", when(col(\"new_col\").isNull(), 0).otherwise(1))\n",
    "x_data = Xs.withColumn(\"new_col\", when(col(\"Id\")==776748, 1).otherwise(col(\"new_col\")))\n",
    "\n",
    "                     \n",
    "x_data.show(150)"
   ]
  },
  {
   "cell_type": "code",
   "execution_count": 23,
   "metadata": {},
   "outputs": [],
   "source": [
    "# data_meta = data.filter(data.userId==776748).join(meta, ((data.trackId==meta.Id) & (meta.type==\"track\")) | ((data.artistId==meta.Id) & (meta.type==\"artist\"))).select(col(\"Artist\"), col(\"Name\")).distinct()\n",
    "# data_meta.count()"
   ]
  },
  {
   "cell_type": "code",
   "execution_count": 24,
   "metadata": {},
   "outputs": [],
   "source": [
    "u = x.withColumn(\"new_col\", when(col(\"Id\")==776748, 1).otherwise(0))"
   ]
  },
  {
   "cell_type": "code",
   "execution_count": 25,
   "metadata": {},
   "outputs": [
    {
     "name": "stdout",
     "output_type": "stream",
     "text": [
      "+------+-------+\n",
      "|    id|new_col|\n",
      "+------+-------+\n",
      "|798477|      0|\n",
      "|798692|      0|\n",
      "|800467|      0|\n",
      "|801701|      0|\n",
      "|802599|      0|\n",
      "|803868|      0|\n",
      "|808110|      0|\n",
      "|808445|      0|\n",
      "|809289|      0|\n",
      "|814446|      0|\n",
      "|814618|      0|\n",
      "|817317|      0|\n",
      "|818440|      0|\n",
      "|827148|      0|\n",
      "|827209|      0|\n",
      "|828034|      0|\n",
      "|828366|      0|\n",
      "|829131|      0|\n",
      "|829292|      0|\n",
      "|829705|      0|\n",
      "|829847|      0|\n",
      "|830062|      0|\n",
      "|831434|      0|\n",
      "|832475|      0|\n",
      "|832553|      0|\n",
      "|833685|      0|\n",
      "|834439|      0|\n",
      "|836204|      0|\n",
      "|836522|      0|\n",
      "|840315|      0|\n",
      "+------+-------+\n",
      "only showing top 30 rows\n",
      "\n"
     ]
    }
   ],
   "source": [
    "u.show(30)"
   ]
  },
  {
   "cell_type": "code",
   "execution_count": 26,
   "metadata": {},
   "outputs": [],
   "source": [
    "fullGraph = trackTrackNorm.union(userTrackNorm).union(userArtistNorm).union(artistTrackNorm)\n"
   ]
  },
  {
   "cell_type": "code",
   "execution_count": null,
   "metadata": {},
   "outputs": [],
   "source": []
  },
  {
   "cell_type": "code",
   "execution_count": 27,
   "metadata": {},
   "outputs": [],
   "source": [
    "def getWBetaNorm(df, beta=0.5):\n",
    "    df_ = df.withColumn(\"beta\", functions.lit(0.5))\n",
    "    return df_.withColumn(\"wbeta\", functions.lit(col(\"norm_count\")*col(\"beta\"))) \n",
    "\n",
    "userTrack_ = getWBetaNorm(userTrackNorm, 0.5)\n",
    "userArtist_ = getWBetaNorm(userArtistNorm, 0.5)\n",
    "artistTrack_ = getWBetaNorm(artistTrackNorm, 1)\n",
    "trackTrack_ = getWBetaNorm(trackTrackNorm,1)\n",
    "\n",
    "\n",
    "full_graph = userTrack_.union(userArtist_).union(artistTrack_).union(trackTrack_)"
   ]
  },
  {
   "cell_type": "code",
   "execution_count": 28,
   "metadata": {},
   "outputs": [],
   "source": [
    "\n",
    "def getNextV(x_data, full_graph):\n",
    "    next_v = full_graph.join(x_data, full_graph.id2==x_data.Id, \"right_outer\").select(full_graph.wbeta,x_data.Id,x_data.new_col).withColumn(\"wbeta\", when(col(\"wbeta\").isNull(), 0).otherwise(col(\"wbeta\")*col(\"new_col\")))\n",
    "    return next_v\n"
   ]
  },
  {
   "cell_type": "code",
   "execution_count": 29,
   "metadata": {},
   "outputs": [],
   "source": [
    "#next_u.count()\n",
    "def getSumV(next_u):\n",
    "    sum_v = next_u.groupBy(col(\"Id\")).agg(sum(col(\"wbeta\")).alias(\"new_col\"))\n",
    "    return sum_v"
   ]
  },
  {
   "cell_type": "code",
   "execution_count": 32,
   "metadata": {},
   "outputs": [],
   "source": [
    "def get_next_x(sum_v):\n",
    "    alfa_diff = sum_v.withColumn(\"new_col\",col(\"new_col\")*0.85)\n",
    "    #alfa_diff.filter(alfa_diff.Id==776748).show()\n",
    "    alfa_fin = alfa_diff.withColumn(\"new_col\", when(col(\"Id\")==776748, col(\"new_col\")+1*0.15).otherwise(col(\"new_col\")))\n",
    "    #alfa_fin.filter(alfa_fin.Id==776748).show()\n",
    "    x_prime = alfa_fin\n",
    "    \n",
    "    return x_prime"
   ]
  },
  {
   "cell_type": "code",
   "execution_count": 33,
   "metadata": {},
   "outputs": [],
   "source": [
    "for i in range(5):\n",
    "    next_v = getNextV(x_data, full_graph)\n",
    "    sum_v = getSumV(next_v)\n",
    "    x_data = get_next_x(sum_v)\n"
   ]
  },
  {
   "cell_type": "code",
   "execution_count": 35,
   "metadata": {},
   "outputs": [
    {
     "name": "stdout",
     "output_type": "stream",
     "text": [
      "+-----+-------+\n",
      "|   Id|new_col|\n",
      "+-----+-------+\n",
      "| 3175|    0.0|\n",
      "| 5518|    0.0|\n",
      "| 5803|    0.0|\n",
      "| 6654|    0.0|\n",
      "| 7253|    0.0|\n",
      "| 7340|    0.0|\n",
      "| 8086|    0.0|\n",
      "|10206|    0.0|\n",
      "|12046|    0.0|\n",
      "|17420|    0.0|\n",
      "|18498|    0.0|\n",
      "|22097|    0.0|\n",
      "|22373|    0.0|\n",
      "|24354|    0.0|\n",
      "|26623|    0.0|\n",
      "|29993|    0.0|\n",
      "|31035|    0.0|\n",
      "|31951|    0.0|\n",
      "|33569|    0.0|\n",
      "|34234|    0.0|\n",
      "+-----+-------+\n",
      "only showing top 20 rows\n",
      "\n"
     ]
    }
   ],
   "source": [
    "x_data.show()"
   ]
  },
  {
   "cell_type": "code",
   "execution_count": 52,
   "metadata": {},
   "outputs": [],
   "source": [
    "\n",
    "final_result = x_data.join(meta, ((x_data.Id==meta.Id) & (meta.type==\"track\")) | ((x_data.Id==meta.Id) & (meta.type==\"artist\"))).select(col(\"Name\"), col(\"Artist\"), col(\"new_col\")).distinct()\n",
    "\n",
    "\n",
    "window = Window.orderBy(col(\"new_col\").desc())\n",
    "    \n",
    "top_recommendations = final_result.withColumn(\"position\", rank().over(window))\\\n",
    "    .filter(col(\"position\") < 50).select(\"Name\",\"Artist\",\"new_col\").take(40)\n",
    "    \n",
    "\n"
   ]
  },
  {
   "cell_type": "code",
   "execution_count": 53,
   "metadata": {},
   "outputs": [
    {
     "data": {
      "text/plain": [
       "[Row(Name=u'I Hate Everything About You', Artist=u'Artist: Three Days Grace', new_col=0.11195541729626124),\n",
       " Row(Name=u'21 Guns', Artist=u'Artist: Green Day', new_col=0.0649963900791406),\n",
       " Row(Name=u'Beautiful disaster', Artist=u'Artist: 311', new_col=0.032424681668088005),\n",
       " Row(Name=u'Come Out and Play', Artist=u'Artist: The Offspring', new_col=0.0166309089598253),\n",
       " Row(Name=u'Here To Stay', Artist=u'Artist: Korn', new_col=0.015198100030326882),\n",
       " Row(Name=u'In The End', Artist=u'Artist: Linkin Park', new_col=0.0037172034769009273),\n",
       " Row(Name=u'Girls and Boys', Artist=u'Artist: Blur', new_col=0.0037172034769009273),\n",
       " Row(Name=u'Eagle', Artist=u'Artist: Gotthard', new_col=0.0037172034769009273),\n",
       " Row(Name=u'Getting Away With Murder', Artist=u'Artist: Papa Roach', new_col=0.0037172034769009273),\n",
       " Row(Name=u'Take It Out On Me', Artist=u'Artist: Thousand Foot Krutch', new_col=0.002094037580611728),\n",
       " Row(Name=u'Wait And Bleed', Artist=u'Artist: Slipknot', new_col=0.002094037580611728),\n",
       " Row(Name=u'Nothing Going On', Artist=u'Artist: Clawfinger', new_col=0.0006193923549463246),\n",
       " Row(Name=u'Sunday', Artist=u'Artist: Iggy Pop', new_col=0.0005197159049945406),\n",
       " Row(Name=u'Kryptonite', Artist=u'Artist: 3 Doors Down', new_col=0.0005197159049945406),\n",
       " Row(Name=u'She Keeps Me Up', Artist=u'Artist: Nickelback', new_col=0.0005197159049945406),\n",
       " Row(Name=u'The Vengeful One', Artist=u'Artist: Disturbed', new_col=0.0005197159049945406),\n",
       " Row(Name=u'Sky is Over', Artist=u'Artist: Serj Tankian', new_col=0.0005197159049945406),\n",
       " Row(Name=u'Hard Rock Hallelujah', Artist=u'Artist: Lordi', new_col=0.0005197159049945406),\n",
       " Row(Name=u'Prayer Of The Refugee', Artist=u'Artist: Rise Against', new_col=0.0005197159049945406),\n",
       " Row(Name=u'Cocaine', Artist=u'Artist: Nomy', new_col=0.0005197159049945406),\n",
       " Row(Name=u'Kill The DJ', Artist=u'Artist: Green Day', new_col=0.0003553551894416808),\n",
       " Row(Name=u'Numb', Artist=u'Artist: Linkin Park', new_col=1.9356011092072643e-05),\n",
       " Row(Name=u'Artist: Green Day', Artist=u'Artist: Green Day', new_col=9.43682437881595e-08),\n",
       " Row(Name=u'Artist: Linkin Park', Artist=u'Artist: Linkin Park', new_col=9.663308163907532e-10),\n",
       " Row(Name=u'Artist: Clawfinger', Artist=u'Artist: Clawfinger', new_col=9.663308163907532e-10),\n",
       " Row(Name=u'Artist: The Offspring', Artist=u'Artist: The Offspring', new_col=9.663308163907532e-10),\n",
       " Row(Name=u'Artist: Three Days Grace', Artist=u'Artist: Three Days Grace', new_col=3.0197838012211036e-11),\n",
       " Row(Name=u'Artist: 3 Doors Down', Artist=u'Artist: 3 Doors Down', new_col=3.0197838012211036e-11),\n",
       " Row(Name=u'Artist: Nomy', Artist=u'Artist: Nomy', new_col=3.0197838012211036e-11),\n",
       " Row(Name=u'Artist: Disturbed', Artist=u'Artist: Disturbed', new_col=3.0197838012211036e-11),\n",
       " Row(Name=u'Artist: Papa Roach', Artist=u'Artist: Papa Roach', new_col=3.0197838012211036e-11),\n",
       " Row(Name=u'Artist: Blur', Artist=u'Artist: Blur', new_col=3.0197838012211036e-11),\n",
       " Row(Name=u'Artist: 311', Artist=u'Artist: 311', new_col=3.0197838012211036e-11),\n",
       " Row(Name=u'Artist: Slipknot', Artist=u'Artist: Slipknot', new_col=3.0197838012211036e-11),\n",
       " Row(Name=u'Artist: Serj Tankian', Artist=u'Artist: Serj Tankian', new_col=3.0197838012211036e-11),\n",
       " Row(Name=u'Artist: Thousand Foot Krutch', Artist=u'Artist: Thousand Foot Krutch', new_col=3.0197838012211036e-11),\n",
       " Row(Name=u'Artist: Rise Against', Artist=u'Artist: Rise Against', new_col=3.0197838012211036e-11),\n",
       " Row(Name=u'Artist: Iggy Pop', Artist=u'Artist: Iggy Pop', new_col=3.0197838012211036e-11),\n",
       " Row(Name=u'Artist: Nickelback', Artist=u'Artist: Nickelback', new_col=3.0197838012211036e-11),\n",
       " Row(Name=u'Artist: Korn', Artist=u'Artist: Korn', new_col=3.0197838012211036e-11)]"
      ]
     },
     "execution_count": 53,
     "metadata": {},
     "output_type": "execute_result"
    }
   ],
   "source": [
    "top_recommendations"
   ]
  },
  {
   "cell_type": "code",
   "execution_count": 55,
   "metadata": {},
   "outputs": [
    {
     "name": "stdout",
     "output_type": "stream",
     "text": [
      "I Hate Everything About You Artist: Three Days Grace 0.111955\n",
      "21 Guns Artist: Green Day 0.064996\n",
      "Beautiful disaster Artist: 311 0.032425\n",
      "Come Out and Play Artist: The Offspring 0.016631\n",
      "Here To Stay Artist: Korn 0.015198\n",
      "In The End Artist: Linkin Park 0.003717\n",
      "Girls and Boys Artist: Blur 0.003717\n",
      "Eagle Artist: Gotthard 0.003717\n",
      "Getting Away With Murder Artist: Papa Roach 0.003717\n",
      "Take It Out On Me Artist: Thousand Foot Krutch 0.002094\n",
      "Wait And Bleed Artist: Slipknot 0.002094\n",
      "Nothing Going On Artist: Clawfinger 0.000619\n",
      "Sunday Artist: Iggy Pop 0.000520\n",
      "Kryptonite Artist: 3 Doors Down 0.000520\n",
      "She Keeps Me Up Artist: Nickelback 0.000520\n",
      "The Vengeful One Artist: Disturbed 0.000520\n",
      "Sky is Over Artist: Serj Tankian 0.000520\n",
      "Hard Rock Hallelujah Artist: Lordi 0.000520\n",
      "Prayer Of The Refugee Artist: Rise Against 0.000520\n",
      "Cocaine Artist: Nomy 0.000520\n",
      "Kill The DJ Artist: Green Day 0.000355\n",
      "Numb Artist: Linkin Park 0.000019\n",
      "Artist: Green Day Artist: Green Day 0.000000\n",
      "Artist: Linkin Park Artist: Linkin Park 0.000000\n",
      "Artist: Clawfinger Artist: Clawfinger 0.000000\n",
      "Artist: The Offspring Artist: The Offspring 0.000000\n",
      "Artist: Three Days Grace Artist: Three Days Grace 0.000000\n",
      "Artist: 3 Doors Down Artist: 3 Doors Down 0.000000\n",
      "Artist: Nomy Artist: Nomy 0.000000\n",
      "Artist: Disturbed Artist: Disturbed 0.000000\n",
      "Artist: Papa Roach Artist: Papa Roach 0.000000\n",
      "Artist: Blur Artist: Blur 0.000000\n",
      "Artist: 311 Artist: 311 0.000000\n",
      "Artist: Slipknot Artist: Slipknot 0.000000\n",
      "Artist: Serj Tankian Artist: Serj Tankian 0.000000\n",
      "Artist: Thousand Foot Krutch Artist: Thousand Foot Krutch 0.000000\n",
      "Artist: Rise Against Artist: Rise Against 0.000000\n",
      "Artist: Iggy Pop Artist: Iggy Pop 0.000000\n",
      "Artist: Nickelback Artist: Nickelback 0.000000\n",
      "Artist: Korn Artist: Korn 0.000000\n"
     ]
    }
   ],
   "source": [
    "for val in top_recommendations:\n",
    "    print \"%s %s %f\" % val"
   ]
  },
  {
   "cell_type": "code",
   "execution_count": null,
   "metadata": {},
   "outputs": [],
   "source": []
  }
 ],
 "metadata": {
  "kernelspec": {
   "display_name": "Python 2",
   "language": "python",
   "name": "python2"
  },
  "language_info": {
   "codemirror_mode": {
    "name": "ipython",
    "version": 2
   },
   "file_extension": ".py",
   "mimetype": "text/x-python",
   "name": "python",
   "nbconvert_exporter": "python",
   "pygments_lexer": "ipython2",
   "version": "2.7.12"
  }
 },
 "nbformat": 4,
 "nbformat_minor": 2
}
