{
 "cells": [
  {
   "cell_type": "code",
   "execution_count": 17,
   "metadata": {},
   "outputs": [],
   "source": [
    "from pyspark.sql import SparkSession\n",
    "import math\n",
    "\n",
    "spark_session = SparkSession.builder \\\n",
    "    .enableHiveSupport() \\\n",
    "    .appName(\"recSys\")\\\n",
    "    .master(\"local[8]\")\\\n",
    "    .getOrCreate()\n",
    "sc = spark_session.sparkContext"
   ]
  },
  {
   "cell_type": "code",
   "execution_count": 18,
   "metadata": {},
   "outputs": [],
   "source": [
    "# You can now use spark session or spark context to read csv.\n",
    "train_data = spark_session.read.csv(\"/data/movielens/ratings_100k.csv\",inferSchema=True,header=True)"
   ]
  },
  {
   "cell_type": "code",
   "execution_count": 19,
   "metadata": {},
   "outputs": [],
   "source": [
    "from pyspark.mllib.recommendation import Rating\n",
    "fold_count = 3"
   ]
  },
  {
   "cell_type": "code",
   "execution_count": 20,
   "metadata": {},
   "outputs": [],
   "source": [
    "scores = []\n",
    "\n",
    "rank = 5\n",
    "numIterations = 5\n",
    "lambda_ = 0.1"
   ]
  },
  {
   "cell_type": "code",
   "execution_count": 63,
   "metadata": {},
   "outputs": [],
   "source": [
    "from pyspark.mllib.recommendation import ALS\n",
    "\n",
    "\n",
    "\n",
    "folds = train_data.randomSplit([1/float(fold_count)]*fold_count)\n",
    "\n",
    "    \n",
    "    \n",
    "for i in range(fold_count):\n",
    "\n",
    "    '''alert, I performed sampling k-fold for this task, I can :\n",
    "        1.Make random split t = train_data.randomSplit([1]*fold_count)\n",
    "        2.on each iteration i=range(fold_count)\n",
    "         2.1 test = t[iteration], \n",
    "         2.2 fold.remove(i)\n",
    "         2.3 train = sc.union([folds[i] for i in indices])\n",
    "    '''\n",
    "    test_fold = folds[i]\n",
    "    \n",
    " \n",
    "    union_folds = [folds[j] for j in range(len(folds)) if j!=i]\n",
    "    train_fold = union_folds[0]\n",
    "    for i in range(1, len(union_folds)):\n",
    "        train_fold.union(union_folds[i])\n",
    "    \n",
    "    ratings_traing = train_fold.rdd.map(lambda l: Rating(int(l[0]), int(l[1]), float(l[2])))\n",
    "    ratings_test = test_fold.rdd.map(lambda l: Rating(int(l[0]), int(l[1]), float(l[2])))\n",
    "    evaluations = ratings_test.map(lambda l: (int(l[0]), int(l[1])))\n",
    "\n",
    "    model = ALS.train(ratings_traing, rank, numIterations, lambda_= lambda_)\n",
    "    \n",
    "    \n",
    "    predictions = model.predictAll(evaluations).map(lambda r: ((r[0], r[1]), r[2]))\n",
    "\n",
    "    ratesAndPreds = ratings_test.map(lambda r: ((r[0], r[1]), r[2])).join(predictions)\n",
    "\n",
    "\n",
    "    MSE = ratesAndPreds.map(lambda r: (r[1][0] - r[1][1])**2).mean()\n",
    "    scores.append(math.sqrt(MSE))"
   ]
  },
  {
   "cell_type": "code",
   "execution_count": 64,
   "metadata": {},
   "outputs": [],
   "source": [
    "# userID=26\n",
    "\n",
    "# print(\"\\nRatings for user ID \" + str(userID) + \":\")\n",
    "# userRatings = ratings_train1.filter(lambda l: l[0] == userID)\n",
    "# for rating in userRatings.collect():\n",
    "#     print (rating[1],\": \", str(rating[2]))\n",
    "\n",
    "# print(\"\\nTop 10 recommendations:\")\n",
    "# recommendations = model.recommendProducts(userID, 10)\n",
    "# for recommendation in recommendations:\n",
    "#     print (str(recommendation[1]) + \" score \" + str(recommendation[2]))\n"
   ]
  },
  {
   "cell_type": "code",
   "execution_count": 65,
   "metadata": {},
   "outputs": [],
   "source": [
    "score = sum(scores) / len(scores)"
   ]
  },
  {
   "cell_type": "code",
   "execution_count": 66,
   "metadata": {},
   "outputs": [
    {
     "name": "stdout",
     "output_type": "stream",
     "text": [
      "1.0399665029879128\n"
     ]
    }
   ],
   "source": [
    "print(score)"
   ]
  }
 ],
 "metadata": {
  "kernelspec": {
   "display_name": "Python 3",
   "language": "python",
   "name": "python3"
  },
  "language_info": {
   "codemirror_mode": {
    "name": "ipython",
    "version": 3
   },
   "file_extension": ".py",
   "mimetype": "text/x-python",
   "name": "python",
   "nbconvert_exporter": "python",
   "pygments_lexer": "ipython3",
   "version": "3.6.2"
  }
 },
 "nbformat": 4,
 "nbformat_minor": 2
}
