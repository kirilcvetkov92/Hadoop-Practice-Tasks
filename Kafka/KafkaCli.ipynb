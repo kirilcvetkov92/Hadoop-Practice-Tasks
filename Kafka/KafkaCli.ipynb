{
 "cells": [
  {
   "cell_type": "markdown",
   "metadata": {
    "colab_type": "text",
    "id": "5l6hRRC-Z3lt"
   },
   "source": [
    "## Practice with Kafka CLI\n",
    "\n",
    "This is the Kafka environment where you should make the tasks described below. Each task should be solved using a shell script or a single shell command. Please write the tasks exactly in appropriate cells and don't change any other cells. Some tasks require kernel interruption so don't be afraid to interrupt kernel if you see that the tasks don't stop for a long time.\n",
    "\n",
    "The following urls of the Kafka infrastructure will be useful for tasks:\n",
    "\n",
    "|Service|URL|\n",
    "|------|----|\n",
    "|Zookeeper server|localhost:2181|\n",
    "|Kafka broker|localhost:9092|\n",
    "|Bootstrap server|localhost:9092|\n",
    "\n",
    "To list available Kafka command execute `! ls $KAFKA_HOME/bin`"
   ]
  },
  {
   "cell_type": "markdown",
   "metadata": {
    "colab_type": "text",
    "id": "CByVqQQVZ3lx"
   },
   "source": [
    "**Task 1.** Create a topic with *N* partitons and *M* replications. E.g. *N = 5, M = 2*."
   ]
  },
  {
   "cell_type": "code",
   "execution_count": 2,
   "metadata": {
    "colab": {},
    "colab_type": "code",
    "id": "9xPiAKj2Z3l0"
   },
   "outputs": [
    {
     "name": "stdout",
     "output_type": "stream",
     "text": [
      "Created topic \"testtopic3\".\r\n"
     ]
    }
   ],
   "source": [
    "! $KAFKA_HOME/bin/kafka-topics.sh --create --zookeeper localhost:2181 --replication-factor 2 --partitions 5 --topic testtopic3"
   ]
  },
  {
   "cell_type": "markdown",
   "metadata": {
    "colab_type": "text",
    "id": "MVuQE-mIZ3l-"
   },
   "source": [
    "**Task 2.** List all the available topics."
   ]
  },
  {
   "cell_type": "code",
   "execution_count": 3,
   "metadata": {
    "colab": {},
    "colab_type": "code",
    "id": "pqw7KkTZZ3mC"
   },
   "outputs": [
    {
     "name": "stdout",
     "output_type": "stream",
     "text": [
      "__consumer_offsets\r\n",
      "test\r\n",
      "test_topic\r\n",
      "test_topic2\r\n",
      "testtopic3\r\n"
     ]
    }
   ],
   "source": [
    "! $KAFKA_HOME/bin/kafka-topics.sh --list --zookeeper localhost:2181"
   ]
  },
  {
   "cell_type": "markdown",
   "metadata": {
    "colab_type": "text",
    "id": "yFIn1qnRZ3mJ"
   },
   "source": [
    "**Task 3.** Describe the topic created in task 1."
   ]
  },
  {
   "cell_type": "code",
   "execution_count": 4,
   "metadata": {
    "colab": {},
    "colab_type": "code",
    "id": "9ASQGneDZ3mK"
   },
   "outputs": [
    {
     "name": "stdout",
     "output_type": "stream",
     "text": [
      "Topic:testtopic3\tPartitionCount:5\tReplicationFactor:2\tConfigs:\n",
      "\tTopic: testtopic3\tPartition: 0\tLeader: 0\tReplicas: 0,1\tIsr: 0,1\n",
      "\tTopic: testtopic3\tPartition: 1\tLeader: 1\tReplicas: 1,2\tIsr: 1,2\n",
      "\tTopic: testtopic3\tPartition: 2\tLeader: 2\tReplicas: 2,0\tIsr: 2,0\n",
      "\tTopic: testtopic3\tPartition: 3\tLeader: 0\tReplicas: 0,2\tIsr: 0,2\n",
      "\tTopic: testtopic3\tPartition: 4\tLeader: 1\tReplicas: 1,0\tIsr: 1,0\n"
     ]
    }
   ],
   "source": [
    "! $KAFKA_HOME/bin/kafka-topics.sh --describe --zookeeper localhost:2181 --topic testtopic3"
   ]
  },
  {
   "cell_type": "markdown",
   "metadata": {
    "colab_type": "text",
    "id": "n5SJPm1PZ3mP"
   },
   "source": [
    "**Task 4.** Push the numbers from 1 to 20 into the topic created in task 1. Each number should be pushed as an independent action. Use `kafka-console-producer`.\n",
    "\n",
    "---\n",
    "\n"
   ]
  },
  {
   "cell_type": "code",
   "execution_count": null,
   "metadata": {
    "colab": {},
    "colab_type": "code",
    "id": "yKa0bM4vZ3mS"
   },
   "outputs": [
    {
     "name": "stdout",
     "output_type": "stream",
     "text": [
      ">>>>>>>>>>>>>>>>>>>>>"
     ]
    }
   ],
   "source": [
    "! seq 1 20 |  $KAFKA_HOME/bin/kafka-console-producer.sh --broker-list localhost:9092 --topic testtopic3"
   ]
  },
  {
   "cell_type": "markdown",
   "metadata": {
    "colab_type": "text",
    "id": "s9P4rMWAZ3mZ"
   },
   "source": [
    "**Task 5.** Fetch all the data from the topic. Make sure that Kafka doesn't store the order of messages (in this case message is a number passed to the topic). Use `kafka-simple-consumer`"
   ]
  },
  {
   "cell_type": "code",
   "execution_count": null,
   "metadata": {
    "colab": {},
    "colab_type": "code",
    "id": "zGJnbR2EZ3mZ",
    "scrolled": true
   },
   "outputs": [
    {
     "name": "stdout",
     "output_type": "stream",
     "text": [
      "2\n",
      "7\n",
      "12\n",
      "17\n",
      "5\n",
      "10\n",
      "15\n",
      "20\n",
      "3\n",
      "8\n",
      "13\n",
      "18\n",
      "1\n",
      "6\n",
      "11\n",
      "16\n",
      "4\n",
      "9\n",
      "14\n",
      "19\n",
      "^C\n",
      "Processed a total of 20 messages\n"
     ]
    }
   ],
   "source": [
    "! $KAFKA_HOME/bin/kafka-console-consumer.sh --bootstrap-server localhost:9092 --from-beginning --topic testtopic3"
   ]
  },
  {
   "cell_type": "markdown",
   "metadata": {
    "colab_type": "text",
    "id": "gG_lydgtZ3me"
   },
   "source": [
    "**Task 6.** Fetch the data from the partition *k*, *k < N*."
   ]
  },
  {
   "cell_type": "code",
   "execution_count": null,
   "metadata": {
    "colab": {},
    "colab_type": "code",
    "id": "PfVMPn5pZ3me"
   },
   "outputs": [
    {
     "name": "stdout",
     "output_type": "stream",
     "text": [
      "5\r\n",
      "10\r\n",
      "15\r\n",
      "20\r\n"
     ]
    }
   ],
   "source": [
    "! $KAFKA_HOME/bin/kafka-console-consumer.sh --bootstrap-server localhost:9092 --from-beginning --topic testtopic3 --partition 0"
   ]
  },
  {
   "cell_type": "markdown",
   "metadata": {
    "colab_type": "text",
    "id": "rW-5mybzZ3mg"
   },
   "source": [
    "** Task 7.** Get the latest offset from all the partitions."
   ]
  },
  {
   "cell_type": "code",
   "execution_count": 3,
   "metadata": {
    "colab": {},
    "colab_type": "code",
    "id": "nav-HouCZ3mh"
   },
   "outputs": [
    {
     "name": "stdout",
     "output_type": "stream",
     "text": [
      "testtopic3:2:4\r\n",
      "testtopic3:4:4\r\n",
      "testtopic3:1:4\r\n",
      "testtopic3:3:4\r\n",
      "testtopic3:0:4\r\n"
     ]
    }
   ],
   "source": [
    "!$KAFKA_HOME/bin/kafka-run-class.sh kafka.tools.GetOffsetShell --broker-list localhost:9092 --topic testtopic3 --time -1\n"
   ]
  }
 ],
 "metadata": {
  "colab": {
   "name": "1100_flavor.ipynb",
   "provenance": [],
   "version": "0.3.2"
  },
  "kernelspec": {
   "display_name": "Python 3",
   "language": "python",
   "name": "python3"
  },
  "language_info": {
   "codemirror_mode": {
    "name": "ipython",
    "version": 3
   },
   "file_extension": ".py",
   "mimetype": "text/x-python",
   "name": "python",
   "nbconvert_exporter": "python",
   "pygments_lexer": "ipython3",
   "version": "3.6.2"
  }
 },
 "nbformat": 4,
 "nbformat_minor": 1
}
