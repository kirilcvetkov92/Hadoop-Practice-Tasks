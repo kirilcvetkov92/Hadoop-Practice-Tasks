{
 "cells": [
  {
   "cell_type": "code",
   "execution_count": 147,
   "metadata": {},
   "outputs": [
    {
     "name": "stdout",
     "output_type": "stream",
     "text": [
      "Overwriting mapper.py\n"
     ]
    }
   ],
   "source": [
    "%%writefile mapper.py\n",
    "\n",
    "import sys\n",
    "import re\n",
    "\n",
    "reload(sys)\n",
    "sys.setdefaultencoding('utf-8') # required to convert to unicode\n",
    "\n",
    "with open('stop_words_en.txt') as f:\n",
    "    stop_words = set(f.read().split())\n",
    "    \n",
    "for line in sys.stdin:\n",
    "    try:\n",
    "        article_id, text = unicode(line.strip()).split('\\t', 1)\n",
    "    except ValueError as e:\n",
    "        continue\n",
    "    words = re.split(\"\\W*\\s+\\W*\", text, flags=re.UNICODE)\n",
    "    for word in words:\n",
    "        print >> sys.stderr, \"reporter:counter:Wiki stats,Total words,%d\" % 1\n",
    "        if word in stop_words:\n",
    "            print >> sys.stderr, \"reporter:counter:Wiki stats,Stop words,%d\" % 1\n",
    "        print \"%s\\t%d\" % (word.lower(), 1)\n"
   ]
  },
  {
   "cell_type": "code",
   "execution_count": 148,
   "metadata": {},
   "outputs": [
    {
     "name": "stdout",
     "output_type": "stream",
     "text": [
      "Overwriting counter_process.py\n"
     ]
    }
   ],
   "source": [
    "%%writefile counter_process.py\n",
    "import sys\n",
    "import re\n",
    "\n",
    "\n",
    "stop_words = int(re.search('\\d+|$', sys.stdin.readline()).group())\n",
    "all_words = int(re.search('\\d+|$', sys.stdin.readline()).group())\n",
    "print(stop_words/all_words*100)\n",
    "\n"
   ]
  },
  {
   "cell_type": "code",
   "execution_count": 149,
   "metadata": {},
   "outputs": [
    {
     "name": "stdout",
     "output_type": "stream",
     "text": [
      "Found 1 items\r\n",
      "drwxrwxrwx   - jovyan supergroup          0 2017-10-17 13:15 /data/wiki/en_articles_part\r\n"
     ]
    }
   ],
   "source": [
    "! hdfs dfs -ls /data/wiki"
   ]
  },
  {
   "cell_type": "code",
   "execution_count": 150,
   "metadata": {},
   "outputs": [
    {
     "name": "stderr",
     "output_type": "stream",
     "text": [
      "rm: `wordcount_result_1525928816515795': No such file or directory\n"
     ]
    }
   ],
   "source": [
    "%%bash\n",
    "\n",
    "OUT_DIR=\"wordcount_result_\"$(date +\"%s%6N\")\n",
    "NUM_REDUCERS=0\n",
    "\n",
    "LOGS=\"stderr_logs.txt\"\n",
    "\n",
    "hdfs dfs -rm -r -skipTrash ${OUT_DIR} > /dev/null\n",
    "\n",
    "yarn jar /opt/cloudera/parcels/CDH/lib/hadoop-mapreduce/hadoop-streaming.jar \\\n",
    "    -D mapred.jab.name=\"Streaming stopwords\" \\\n",
    "    -D mapreduce.job.reduces=${NUM_REDUCERS} \\\n",
    "    -files mapper.py,/datasets/stop_words_en.txt \\\n",
    "    -mapper \"python mapper.py\" \\\n",
    "    -input /data/wiki/en_articles_part \\\n",
    "    -output ${OUT_DIR} > /dev/null 2> $LOGS\n"
   ]
  },
  {
   "cell_type": "code",
   "execution_count": 151,
   "metadata": {},
   "outputs": [
    {
     "name": "stdout",
     "output_type": "stream",
     "text": [
      "38.44036900909957\n"
     ]
    },
    {
     "name": "stderr",
     "output_type": "stream",
     "text": [
      "18/05/10 05:07:00 INFO client.RMProxy: Connecting to ResourceManager at /0.0.0.0:8032\n",
      "18/05/10 05:07:00 INFO client.RMProxy: Connecting to ResourceManager at /0.0.0.0:8032\n",
      "18/05/10 05:07:00 INFO mapred.FileInputFormat: Total input files to process : 1\n",
      "18/05/10 05:07:00 INFO mapreduce.JobSubmitter: number of splits:2\n",
      "18/05/10 05:07:00 INFO mapreduce.JobSubmitter: Submitting tokens for job: job_1525903343186_0014\n",
      "18/05/10 05:07:01 INFO impl.YarnClientImpl: Submitted application application_1525903343186_0014\n",
      "18/05/10 05:07:01 INFO mapreduce.Job: The url to track the job: http://cbccbb36aa92:8088/proxy/application_1525903343186_0014/\n",
      "18/05/10 05:07:01 INFO mapreduce.Job: Running job: job_1525903343186_0014\n",
      "18/05/10 05:07:07 INFO mapreduce.Job: Job job_1525903343186_0014 running in uber mode : false\n",
      "18/05/10 05:07:07 INFO mapreduce.Job:  map 0% reduce 0%\n",
      "18/05/10 05:07:23 INFO mapreduce.Job:  map 38% reduce 0%\n",
      "18/05/10 05:07:29 INFO mapreduce.Job:  map 57% reduce 0%\n",
      "18/05/10 05:07:35 INFO mapreduce.Job:  map 76% reduce 0%\n",
      "18/05/10 05:07:41 INFO mapreduce.Job:  map 95% reduce 0%\n",
      "18/05/10 05:07:43 INFO mapreduce.Job:  map 100% reduce 0%\n",
      "18/05/10 05:07:44 INFO mapreduce.Job: Job job_1525903343186_0014 completed successfully\n",
      "18/05/10 05:07:44 INFO mapreduce.Job: Counters: 32\n",
      "\tFile System Counters\n",
      "\t\tFILE: Number of bytes read=0\n",
      "\t\tFILE: Number of bytes written=278672\n",
      "\t\tFILE: Number of read operations=0\n",
      "\t\tFILE: Number of large read operations=0\n",
      "\t\tFILE: Number of write operations=0\n",
      "\t\tHDFS: Number of bytes read=76874501\n",
      "\t\tHDFS: Number of bytes written=97842427\n",
      "\t\tHDFS: Number of read operations=10\n",
      "\t\tHDFS: Number of large read operations=0\n",
      "\t\tHDFS: Number of write operations=4\n",
      "\tJob Counters \n",
      "\t\tLaunched map tasks=2\n",
      "\t\tData-local map tasks=2\n",
      "\t\tTotal time spent by all maps in occupied slots (ms)=67813\n",
      "\t\tTotal time spent by all reduces in occupied slots (ms)=0\n",
      "\t\tTotal time spent by all map tasks (ms)=67813\n",
      "\t\tTotal vcore-milliseconds taken by all map tasks=67813\n",
      "\t\tTotal megabyte-milliseconds taken by all map tasks=69440512\n",
      "\tMap-Reduce Framework\n",
      "\t\tMap input records=4100\n",
      "\t\tMap output records=11937375\n",
      "\t\tInput split bytes=228\n",
      "\t\tSpilled Records=0\n",
      "\t\tFailed Shuffles=0\n",
      "\t\tMerged Map outputs=0\n",
      "\t\tGC time elapsed (ms)=692\n",
      "\t\tCPU time spent (ms)=126300\n",
      "\t\tPhysical memory (bytes) snapshot=410300416\n",
      "\t\tVirtual memory (bytes) snapshot=4030726144\n",
      "\t\tTotal committed heap usage (bytes)=304087040\n",
      "\tWiki stats\n",
      "\t\tStop words=4588771\n",
      "\t\tTotal words=11937375\n",
      "\tFile Input Format Counters \n",
      "\t\tBytes Read=76874273\n",
      "\tFile Output Format Counters \n",
      "\t\tBytes Written=97842427\n",
      "18/05/10 05:07:44 INFO streaming.StreamJob: Output directory: wordcount_result_1525928816515795\n"
     ]
    }
   ],
   "source": [
    "%%bash\n",
    "LOGS=\"stderr_logs.txt\"\n",
    "cat $LOGS |egrep \"*words\"| python ./counter_process.py\n",
    "cat $LOGS >&2"
   ]
  },
  {
   "cell_type": "code",
   "execution_count": null,
   "metadata": {},
   "outputs": [],
   "source": []
  },
  {
   "cell_type": "code",
   "execution_count": null,
   "metadata": {},
   "outputs": [],
   "source": []
  },
  {
   "cell_type": "code",
   "execution_count": null,
   "metadata": {},
   "outputs": [],
   "source": []
  },
  {
   "cell_type": "code",
   "execution_count": null,
   "metadata": {},
   "outputs": [],
   "source": []
  }
 ],
 "metadata": {
  "kernelspec": {
   "display_name": "Python 2",
   "language": "python",
   "name": "python2"
  },
  "language_info": {
   "codemirror_mode": {
    "name": "ipython",
    "version": 2
   },
   "file_extension": ".py",
   "mimetype": "text/x-python",
   "name": "python",
   "nbconvert_exporter": "python",
   "pygments_lexer": "ipython2",
   "version": "2.7.12"
  }
 },
 "nbformat": 4,
 "nbformat_minor": 2
}
